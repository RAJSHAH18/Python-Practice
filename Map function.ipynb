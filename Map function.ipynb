{
 "cells": [
  {
   "cell_type": "code",
   "execution_count": 1,
   "id": "5996b71a",
   "metadata": {},
   "outputs": [],
   "source": [
    "# Map  fnction takes a function and iterable(list/tuple) as an arguement and returns a map object of all the results,\n",
    "# which is an iterator after applying function to al the elements in tier\n",
    "# map(fun,iter)"
   ]
  },
  {
   "cell_type": "code",
   "execution_count": 1,
   "id": "a66dba3f",
   "metadata": {},
   "outputs": [
    {
     "name": "stdout",
     "output_type": "stream",
     "text": [
      "<map object at 0x0000026E03B5D820>\n"
     ]
    }
   ],
   "source": [
    "# 1 way using function and map function\n",
    "l1 = [1,2,3,4]\n",
    "def square(x):\n",
    "    return x**2\n",
    "ans = map(square,l1)\n",
    "print(ans)\n",
    "# print(list(ans))"
   ]
  },
  {
   "cell_type": "code",
   "execution_count": 4,
   "id": "691cfd8b",
   "metadata": {},
   "outputs": [],
   "source": [
    "# 1 way using lambda and map function\n",
    "s = lambda x:x**2"
   ]
  },
  {
   "cell_type": "code",
   "execution_count": 5,
   "id": "7e529333",
   "metadata": {},
   "outputs": [
    {
     "name": "stdout",
     "output_type": "stream",
     "text": [
      "[1, 4, 9, 16]\n"
     ]
    }
   ],
   "source": [
    "ans = map(s,l1)\n",
    "print(list(ans))"
   ]
  },
  {
   "cell_type": "code",
   "execution_count": 6,
   "id": "66ad1af7",
   "metadata": {},
   "outputs": [
    {
     "name": "stdout",
     "output_type": "stream",
     "text": [
      "(110, 120, 130, 140, 150)\n"
     ]
    }
   ],
   "source": [
    "a = (10,20,30,40,50)\n",
    "def add(x):\n",
    "    return x + 100\n",
    "ans = map(add,a)\n",
    "print(tuple(ans))"
   ]
  },
  {
   "cell_type": "code",
   "execution_count": 7,
   "id": "e047fb58",
   "metadata": {},
   "outputs": [
    {
     "name": "stdout",
     "output_type": "stream",
     "text": [
      "(110, 120, 130, 140, 150)\n"
     ]
    }
   ],
   "source": [
    "# Using lambda function\n",
    "addition = lambda x : x+100\n",
    "ans = map(addition,a)\n",
    "print(tuple(ans))"
   ]
  },
  {
   "cell_type": "code",
   "execution_count": 2,
   "id": "68dc7f0d",
   "metadata": {},
   "outputs": [
    {
     "name": "stdout",
     "output_type": "stream",
     "text": [
      "[3, 6, 9, 12, 15]\n"
     ]
    }
   ],
   "source": [
    "x = [1,2,3,4,5]\n",
    "y = [2,4,6,8,10]\n",
    "def add(x,y):\n",
    "    return (x+y)\n",
    "ans = map(add,x,y)\n",
    "print(list(ans))"
   ]
  },
  {
   "cell_type": "code",
   "execution_count": 9,
   "id": "b5551b01",
   "metadata": {},
   "outputs": [
    {
     "name": "stdout",
     "output_type": "stream",
     "text": [
      "[11, 22, 33]\n"
     ]
    }
   ],
   "source": [
    "# operations will perform the one which have less number of elements in it\n",
    "x = [1,2,3]\n",
    "y = [10,20,30,40]\n",
    "ans = map(add,x,y)\n",
    "print(list(ans))"
   ]
  },
  {
   "cell_type": "code",
   "execution_count": 21,
   "id": "390b4799",
   "metadata": {},
   "outputs": [
    {
     "name": "stdout",
     "output_type": "stream",
     "text": [
      "['Even', 'Odd', 'Even', 'Odd', 'Even', 'Odd', 'Even', 'Odd', 'Even', 'Odd', 'Even']\n"
     ]
    }
   ],
   "source": [
    "l1 = [10,11,12,13,14,15,16,17,18,19,20]\n",
    "def oddoreven(x):\n",
    "    if(x%2==0):\n",
    "        return \"Even\"\n",
    "    else:\n",
    "        return  \"Odd\"\n",
    "    \n",
    "print(list((map(oddoreven,l1))))\n",
    "# print(list(ans))"
   ]
  },
  {
   "cell_type": "code",
   "execution_count": 2,
   "id": "4bf7c680",
   "metadata": {},
   "outputs": [
    {
     "name": "stdout",
     "output_type": "stream",
     "text": [
      "[50, 83, 64, 45]\n"
     ]
    }
   ],
   "source": [
    "l1 = [50,45,64,83]\n",
    "def fun(x):\n",
    "    return x%10\n",
    "print(sorted(l1,key=fun))"
   ]
  },
  {
   "cell_type": "code",
   "execution_count": 5,
   "id": "91f6fb61",
   "metadata": {},
   "outputs": [
    {
     "name": "stdout",
     "output_type": "stream",
     "text": [
      "[[10, 11, 12], [40, 25, 25], [50, 51, 52]]\n"
     ]
    }
   ],
   "source": [
    "l1 = [[40,25,25,],[10,11,12],[50,51,52]]\n",
    "print(sorted(l1,key=max))"
   ]
  },
  {
   "cell_type": "code",
   "execution_count": null,
   "id": "d4f4dbbf",
   "metadata": {},
   "outputs": [],
   "source": []
  }
 ],
 "metadata": {
  "kernelspec": {
   "display_name": "Python 3 (ipykernel)",
   "language": "python",
   "name": "python3"
  },
  "language_info": {
   "codemirror_mode": {
    "name": "ipython",
    "version": 3
   },
   "file_extension": ".py",
   "mimetype": "text/x-python",
   "name": "python",
   "nbconvert_exporter": "python",
   "pygments_lexer": "ipython3",
   "version": "3.9.13"
  },
  "vscode": {
   "interpreter": {
    "hash": "3929fc3237e371b922bed4320230b0a3e157a31faf7bdcaccbb1bfc1fc754f1e"
   }
  }
 },
 "nbformat": 4,
 "nbformat_minor": 5
}
