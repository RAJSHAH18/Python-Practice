{
 "cells": [
  {
   "cell_type": "markdown",
   "id": "26d5d68b",
   "metadata": {},
   "source": [
    "# Q.4 Take input of any short text and check words of message that either they are standarddictionary¶\n",
    "# words or not. Use another for English dictionary words.\n",
    "# Example: Hi..How are u\n",
    "# Output :\n",
    "# Dictionary Words: How , are\n",
    "# Non Dictionary Words: Hi,"
   ]
  },
  {
   "cell_type": "code",
   "execution_count": 10,
   "id": "8de29836",
   "metadata": {},
   "outputs": [
    {
     "name": "stdout",
     "output_type": "stream",
     "text": [
      "Enter any word : HI How are YOU\n",
      "The dictionry words are ['HI', 'YOU']\n",
      "The non - dictionry words are ['How', 'are']\n"
     ]
    }
   ],
   "source": [
    "original_dict = ['HI','HOW ','ARE','YOU']\n",
    "\n",
    "user = input(\"Enter any word : \")\n",
    "user = user.split()\n",
    "\n",
    "dict_     = []\n",
    "non_dict_ = []\n",
    "\n",
    "for x in user:\n",
    "    if(x in original_dict):\n",
    "        dict_.append(x)\n",
    "    else:\n",
    "        non_dict_.append(x)\n",
    "        \n",
    "print(f\"The dictionry words are {dict_}\")\n",
    "print(f\"The non - dictionry words are {non_dict_}\")\n"
   ]
  },
  {
   "cell_type": "code",
   "execution_count": null,
   "id": "9ace67c5",
   "metadata": {},
   "outputs": [],
   "source": [
    "original_dict = ['HI','HOW ','ARE','YOU']\n",
    "\n",
    "user = input(\"Enter any word : \")\n",
    "user = user.split()\n",
    "\n",
    "dict_     = []\n",
    "non_dict_ = []\n",
    "\n",
    "\n",
    "for x in range(len(user)):\n",
    "    if(x in original_dict[x]):\n",
    "        "
   ]
  }
 ],
 "metadata": {
  "kernelspec": {
   "display_name": "Python 3 (ipykernel)",
   "language": "python",
   "name": "python3"
  },
  "language_info": {
   "codemirror_mode": {
    "name": "ipython",
    "version": 3
   },
   "file_extension": ".py",
   "mimetype": "text/x-python",
   "name": "python",
   "nbconvert_exporter": "python",
   "pygments_lexer": "ipython3",
   "version": "3.9.13"
  }
 },
 "nbformat": 4,
 "nbformat_minor": 5
}
