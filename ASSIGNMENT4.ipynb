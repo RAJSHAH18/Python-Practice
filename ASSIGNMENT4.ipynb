{
 "cells": [
  {
   "cell_type": "code",
   "execution_count": null,
   "id": "77281663",
   "metadata": {},
   "outputs": [],
   "source": [
    "# NAME :- RAJ JIGNESHBHAI SHAH\n",
    "# ENROLLMENT NO :- SR21BSIT156\n",
    "# PC NO :- 76\n",
    "# SUBJECT :- PYTHON\n",
    "# FACULTY :- YESHA MA'AM \n",
    "# DATE :- 17-02-2023\n",
    "# AIM :- To learn list and dictionary sorting and searchin with data in python.\n",
    "# ASSIGNEMENT NO :- 4"
   ]
  },
  {
   "cell_type": "markdown",
   "id": "7ad4b8ea",
   "metadata": {},
   "source": [
    "\n",
    "#### Q.1\tWrite a python program to display elements of list in reverse order.\n"
   ]
  },
  {
   "cell_type": "code",
   "execution_count": null,
   "id": "f882f95f",
   "metadata": {},
   "outputs": [],
   "source": [
    "l1=[\"Shreya\",\"Kamal\",\"Abhishek\",\"Vasudev\",\"Virat\"]\n",
    "l2=[]\n",
    "for x in range(len(l1)-1,-1,-1):\n",
    "    l2.append(l1[x])\n",
    "\n",
    "# Second way\n",
    "# i=-1\n",
    "# while i>=-len(l1):\n",
    "#     l2.append(l1[i])\n",
    "\n",
    "print(\"Original List: \",l1)\n",
    "print(\"Reversed List: \",l2)"
   ]
  },
  {
   "cell_type": "markdown",
   "id": "b33dfbae",
   "metadata": {},
   "source": [
    "#### Q.2 Write a python program to find biggest and smallest elements from list."
   ]
  },
  {
   "cell_type": "code",
   "execution_count": 4,
   "id": "fa404752",
   "metadata": {},
   "outputs": [
    {
     "name": "stdout",
     "output_type": "stream",
     "text": [
      "The smallest element is:  u\n"
     ]
    }
   ],
   "source": [
    "l=[]\n",
    "n=int(input(\"How many elements u want in the list: \"))\n",
    "for i in range(0,n):\n",
    "    # x=int(input(f\"Element[{i+1}]:\"))\n",
    "     x=input(f\"Element[{i+1}]:\")\n",
    "     l.append(x)\n",
    "\n",
    "# First way by sorting\n",
    "# lenght_l=len(l)\n",
    "# sorted_l=sorted(l)\n",
    "# print(\"The smallest element is: \",sorted_l[0])\n",
    "# print(\"The largest element is: \",sorted_l[lenght_l-1]) #or sorted_l[-1]\n",
    "\n",
    "# Second way by inbuild method\n",
    "print(\"The smallest element is: \",min(l,key=lambda x : len(x)))\n",
    "# print(\"The largest element is: \",max(l))"
   ]
  },
  {
   "cell_type": "markdown",
   "id": "5c331e70",
   "metadata": {},
   "source": [
    "#### Q.3\tWrite a python program to create employee list with empid, emp name and salary and perform following operations.\n",
    "\n",
    "#### \tSort employee list as per employee name.\n",
    "\n",
    "#### \tSort employee list in descending order according to their salaries.\n"
   ]
  },
  {
   "cell_type": "code",
   "execution_count": 14,
   "id": "108d9d7c",
   "metadata": {},
   "outputs": [
    {
     "name": "stdout",
     "output_type": "stream",
     "text": [
      "Sort by name:  {'emp3': {'id': 4, 'name': 'abhishek', 'salary': 2500000}, 'emp2': {'id': 2, 'name': 'kamal', 'salary': 200000}, 'emp1': {'id': 1, 'name': 'shreya', 'salary': 400000}, 'emp4': {'id': 3, 'name': 'vasudev', 'salary': 300000}}\n",
      "\n",
      "Sort by salary:  {'emp3': {'id': 4, 'name': 'abhishek', 'salary': 2500000}, 'emp1': {'id': 1, 'name': 'shreya', 'salary': 400000}, 'emp4': {'id': 3, 'name': 'vasudev', 'salary': 300000}, 'emp2': {'id': 2, 'name': 'kamal', 'salary': 200000}}\n"
     ]
    }
   ],
   "source": [
    "import operator\n",
    "# First Way (nested dictionary)\n",
    "emp={\"emp1\":{\"id\":1,\"name\":\"shreya\",\"salary\":400000}, \"emp2\":{\"id\":2,\"name\":\"kamal\",\"salary\":200000}, \"emp3\":{\"id\":4,\"name\":\"abhishek\",\"salary\":2500000}, \"emp4\":{\"id\":3,\"name\":\"vasudev\",\"salary\":300000}}\n",
    "# Sort employee list as per employee name\n",
    "def getvalue(item):\n",
    "    return item[1]['name']\n",
    "sorted_emp=dict(sorted(emp.items(), key=getvalue))\n",
    "print(\"Sort by name: \",sorted_emp)\n",
    "print()\n",
    "# Sort employee list in descending order according to their salaries\n",
    "def getvalue(item):\n",
    "    return item[1]['salary']\n",
    "sorted_emp1=dict(sorted(emp.items(), key=getvalue, reverse=True))\n",
    "print(\"Sort by salary: \",sorted_emp1)\n",
    "\n",
    "# # Second Way (List in dictionary)\n",
    "# emp={\"emp1\":[1,\"shreya\",300000],\"emp3\":[3,\"kamal\",400000],\"emp4\":[4,\"abhiskek\",200000],\"emp2\":[2,\"shiv\",100000]}\n",
    "# # Sort employee list as per employee name\n",
    "# def getvalue(item):\n",
    "#     return item[1][1]\n",
    "# sorted_d=dict(sorted(emp.items(),key=getvalue))\n",
    "# print(\"Sort by name: \",sorted_d)\n",
    "# print()\n",
    "# # Sort employee list in descending order according to their salaries\n",
    "# def getvalue(item):\n",
    "#     return item[1][2]\n",
    "# sorted_d1=dict(sorted(emp.items(),key=getvalue, reverse=True))\n",
    "# print(\"Sort by salary: \",sorted_d1)\n",
    "\n",
    "\n",
    "# # Third Way (dictionary in list)\n",
    "# emp=[{\"id\":1,\"name\":\"shreya\",\"salary\":400000},{\"id\":2,\"name\":\"kamal\",\"salary\":200000},{\"id\":4,\"name\":\"abhishek\",\"salary\":250000},{\"id\":3,\"name\":\"vasudev\",\"salary\":300000}]\n",
    "# # Sort employee list as per employee name\n",
    "# sorted_emp=sorted(emp, key=lambda i:i['name'])\n",
    "# print(\"Sort by name: \",sorted_emp)\n",
    "# print()\n",
    "# # Sort employee list in descending order according to their salaries\n",
    "# sorted_emp1=sorted(emp, key=lambda i:i['salary'], reverse=True)\n",
    "# print(\"Sort by salary: \",sorted_emp1)"
   ]
  },
  {
   "cell_type": "markdown",
   "id": "7c54d151",
   "metadata": {},
   "source": [
    "#### Moderate:\n",
    "\n",
    "#### Q.4\tCreate dictionary for book detail and sort books according to thier price from low to high.\n"
   ]
  },
  {
   "cell_type": "code",
   "execution_count": null,
   "id": "30d93ee3",
   "metadata": {},
   "outputs": [],
   "source": [
    "# By importing operator library\n",
    "import operator\n",
    "books={\"RD Sharma\":1200, \"S Chand\":800, \"All in one\":1000, \"Kumar\":600}\n",
    "sp=dict(sorted(books.items(),key=operator.itemgetter(1)))\n",
    "print(sp)\n",
    "\n",
    "# By using lambda function\n",
    "# sp1=dict(sorted(books.items(),key=lambda x: x[1]))\n",
    "# print(sp1)"
   ]
  },
  {
   "cell_type": "markdown",
   "id": "640a52c9",
   "metadata": {},
   "source": [
    "#### Q.5\tCreate a dictionary for city wise temperature details and display city with highest, lowest and average temperature."
   ]
  },
  {
   "cell_type": "code",
   "execution_count": null,
   "id": "7b2da611",
   "metadata": {},
   "outputs": [],
   "source": [
    "import operator\n",
    "dict1={\"surat\":28, \"udaipur\":35, \"bhopal\":31, \"delhi\":40}\n",
    "\n",
    "max_temp=max(dict1.items(),key=operator.itemgetter(1))\n",
    "print(f\"The highest temperature is in {max_temp[0]} with {max_temp[1]} degree celsius\")\n",
    "print()\n",
    "low_temp=min(dict1.items(),key=operator.itemgetter(1))\n",
    "print(f\"The lowest temperature is in {low_temp[0]} with {low_temp[1]} degree celsius\")\n",
    "print()\n",
    "avg_temp=sum(dict1.values())/len(dict1)\n",
    "print(f\"Average temperature: {avg_temp} degree celsius\")"
   ]
  },
  {
   "cell_type": "markdown",
   "id": "45795870",
   "metadata": {},
   "source": [
    "#### Q.6\tCreate dictionary with student marks details and find total marks, percentage and class from dictionary object."
   ]
  },
  {
   "cell_type": "code",
   "execution_count": 5,
   "id": "2a7aa623",
   "metadata": {},
   "outputs": [
    {
     "name": "stdout",
     "output_type": "stream",
     "text": [
      "Enter no. of key-value pair you want: 3\n",
      "Subject-1: fg\n",
      "Enter marks obtained in fg: 95\n",
      "Subject-2: sg\n",
      "Enter marks obtained in sg: 98\n",
      "Subject-3: sdg\n",
      "Enter marks obtained in sdg: 87\n",
      "\n",
      "Your Result: {'fg': 95, 'sg': 98, 'sdg': 87}\n",
      "Total Marks: 280\n",
      "Percentage: 93.33333333333333%\n"
     ]
    }
   ],
   "source": [
    "result={}\n",
    "n=int(input(\"Enter no. of key-value pair you want: \"))\n",
    "for x in range(0,n):\n",
    "    key=input(f\"Subject-{x+1}: \")\n",
    "    value=int(input(f\"Enter marks obtained in {key}: \"))\n",
    "    result[key]=value\n",
    "\n",
    "print()\n",
    "tot=sum(result.values())\n",
    "per=tot/len(result)\n",
    "print(\"Your Result:\",result)\n",
    "print(\"Total Marks:\",tot)\n",
    "print(f\"Percentage: {per}%\")"
   ]
  },
  {
   "cell_type": "markdown",
   "id": "6fb61f15",
   "metadata": {},
   "source": [
    "#### Advanced:\n",
    "\n",
    "#### Q.\t7: Create dictionary to store year wise population of city and sort data for identifying growth or decay pattern.\n"
   ]
  },
  {
   "cell_type": "code",
   "execution_count": 2,
   "id": "0272413f",
   "metadata": {},
   "outputs": [
    {
     "name": "stdout",
     "output_type": "stream",
     "text": [
      "original list:  {2020: 840, 2021: 936, 2023: 1120, 2019: 1256, 2022: 1065}\n",
      "\n",
      "Sorted by increasing population:  {2020: 840, 2021: 936, 2022: 1065, 2023: 1120, 2019: 1256}\n",
      "\n"
     ]
    },
    {
     "data": {
      "image/png": "[encoded data removed]",
      "text/plain": [
       "<Figure size 640x480 with 1 Axes>"
      ]
     },
     "metadata": {},
     "output_type": "display_data"
    }
   ],
   "source": [
    "import operator\n",
    "import matplotlib.pyplot as plt\n",
    "\n",
    "surat={2020:840,2021:936,2023:1120,2019:1256,2022:1065}\n",
    "sort_p=dict(sorted(surat.items(), key=operator.itemgetter(1)))\n",
    "print(\"original list: \",surat)\n",
    "print()\n",
    "print(\"Sorted by increasing population: \",sort_p)\n",
    "print()\n",
    "x=sort_p.keys()\n",
    "y=sort_p.values()\n",
    "\n",
    "plt.title(\"Last 5 year record of population in surat\")\n",
    "plt.bar(x,y)\n",
    "plt.show()\n"
   ]
  },
  {
   "cell_type": "code",
   "execution_count": null,
   "id": "61b9875b",
   "metadata": {},
   "outputs": [],
   "source": []
  }
 ],
 "metadata": {
  "kernelspec": {
   "display_name": "Python 3 (ipykernel)",
   "language": "python",
   "name": "python3"
  },
  "language_info": {
   "codemirror_mode": {
    "name": "ipython",
    "version": 3
   },
   "file_extension": ".py",
   "mimetype": "text/x-python",
   "name": "python",
   "nbconvert_exporter": "python",
   "pygments_lexer": "ipython3",
   "version": "3.11.1"
  }
 },
 "nbformat": 4,
 "nbformat_minor": 5
}
