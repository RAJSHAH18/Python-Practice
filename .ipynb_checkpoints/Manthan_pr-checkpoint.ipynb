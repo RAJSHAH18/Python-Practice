{
 "cells": [
  {
   "cell_type": "markdown",
   "id": "df50b2e6",
   "metadata": {},
   "source": [
    "# Q.4 Take input of any short text and check words of message that either they are standarddictionary¶\n",
    "# words or not. Use another for English dictionary words.\n",
    "# Example: Hi..How are u\n",
    "# Output :\n",
    "# Dictionary Words: How , are\n",
    "# Non Dictionary Words: Hi,"
   ]
  },
  {
   "cell_type": "code",
   "execution_count": 6,
   "id": "159f13c3",
   "metadata": {},
   "outputs": [
    {
     "name": "stdout",
     "output_type": "stream",
     "text": [
      "Enter any word : HI HOW ARE YOU\n",
      "The dictionry words are []\n",
      "The non - dictionry words are ['HI HOW ARE YOU', 'HI HOW ARE YOU', 'HI HOW ARE YOU', 'HI HOW ARE YOU']\n"
     ]
    }
   ],
   "source": [
    "original_dict = ['HI','HOW ','ARE','YOU']\n",
    "\n",
    "user = input(\"Enter any word : \")\n",
    "user = user.split()\n",
    "\n",
    "dict_     = []\n",
    "non_dict_ = []\n",
    "\n",
    "for x in user:\n",
    "    if(user in original_dict):\n",
    "        z.append(user)\n",
    "    else:\n",
    "        y.append(user)\n",
    "        \n",
    "print(f\"The dictionry words are {z}\")\n",
    "print(f\"The non - dictionry words are {y}\")\n"
   ]
  },
  {
   "cell_type": "code",
   "execution_count": null,
   "id": "347bf343",
   "metadata": {},
   "outputs": [],
   "source": []
  }
 ],
 "metadata": {
  "kernelspec": {
   "display_name": "Python 3 (ipykernel)",
   "language": "python",
   "name": "python3"
  },
  "language_info": {
   "codemirror_mode": {
    "name": "ipython",
    "version": 3
   },
   "file_extension": ".py",
   "mimetype": "text/x-python",
   "name": "python",
   "nbconvert_exporter": "python",
   "pygments_lexer": "ipython3",
   "version": "3.9.13"
  }
 },
 "nbformat": 4,
 "nbformat_minor": 5
}
