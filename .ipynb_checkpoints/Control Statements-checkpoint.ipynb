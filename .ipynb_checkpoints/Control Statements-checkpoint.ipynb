{
 "cells": [
  {
   "cell_type": "markdown",
   "id": "4706ac16",
   "metadata": {},
   "source": [
    "# if...elif..esle Statement"
   ]
  },
  {
   "cell_type": "code",
   "execution_count": 5,
   "id": "c72a0969",
   "metadata": {},
   "outputs": [
    {
     "name": "stdout",
     "output_type": "stream",
     "text": [
      "15 is Greater than 10\n"
     ]
    }
   ],
   "source": [
    "x = 15;\n",
    "if ((x > 0) & (x < 10)):\n",
    "    print(\"{} is Greater than 0\".format(x))\n",
    "elif ((x >= 10) and (x <= 20)):\n",
    "    print(\"{} is Greater than 10\".format(x))\n",
    "else:\n",
    "    print(\"{} is Gretater than 20\".format(x))\n",
    "    "
   ]
  },
  {
   "cell_type": "markdown",
   "id": "36350ca1",
   "metadata": {},
   "source": [
    "# List"
   ]
  },
  {
   "cell_type": "code",
   "execution_count": 6,
   "id": "7f68ea54",
   "metadata": {},
   "outputs": [],
   "source": [
    "# A list Object is an Oredered collection of one or more data items,Which can be different data type\n",
    "# Lists are mutable\n",
    "# Lists are define in Square Bracket\"[]\"\n",
    "# x = [1,2,3,\"Hello\",True]\n",
    "# Index Start with 0 index"
   ]
  },
  {
   "cell_type": "code",
   "execution_count": 7,
   "id": "7ec4e287",
   "metadata": {},
   "outputs": [],
   "source": [
    "l1 = [1,2,3,4,5,6]"
   ]
  },
  {
   "cell_type": "code",
   "execution_count": 8,
   "id": "74560178",
   "metadata": {},
   "outputs": [
    {
     "data": {
      "text/plain": [
       "[1, 2, 3, 4, 5, 6]"
      ]
     },
     "execution_count": 8,
     "metadata": {},
     "output_type": "execute_result"
    }
   ],
   "source": [
    "l1"
   ]
  },
  {
   "cell_type": "code",
   "execution_count": 9,
   "id": "275b7b23",
   "metadata": {},
   "outputs": [
    {
     "data": {
      "text/plain": [
       "[1, 2, 3, 'Hello', True]"
      ]
     },
     "execution_count": 9,
     "metadata": {},
     "output_type": "execute_result"
    }
   ],
   "source": [
    "l2 = [1,2,3,\"Hello\",True]\n",
    "l2"
   ]
  },
  {
   "cell_type": "markdown",
   "id": "56d01312",
   "metadata": {},
   "source": [
    "# List Indexing"
   ]
  },
  {
   "cell_type": "code",
   "execution_count": 10,
   "id": "dc2caedc",
   "metadata": {},
   "outputs": [
    {
     "data": {
      "text/plain": [
       "['10', 2, 3, 4, 5, 6]"
      ]
     },
     "execution_count": 10,
     "metadata": {},
     "output_type": "execute_result"
    }
   ],
   "source": [
    "l1[0] = \"10\"\n",
    "l1"
   ]
  },
  {
   "cell_type": "code",
   "execution_count": 11,
   "id": "3224b8af",
   "metadata": {},
   "outputs": [
    {
     "data": {
      "text/plain": [
       "'10'"
      ]
     },
     "execution_count": 11,
     "metadata": {},
     "output_type": "execute_result"
    }
   ],
   "source": [
    "l1[0]"
   ]
  },
  {
   "cell_type": "markdown",
   "id": "0025694a",
   "metadata": {},
   "source": [
    "# Negative Indexing"
   ]
  },
  {
   "cell_type": "code",
   "execution_count": 12,
   "id": "1c07af43",
   "metadata": {},
   "outputs": [
    {
     "data": {
      "text/plain": [
       "6"
      ]
     },
     "execution_count": 12,
     "metadata": {},
     "output_type": "execute_result"
    }
   ],
   "source": [
    "# The last element in list is considered as -1th index\n",
    "l1[-1]"
   ]
  },
  {
   "cell_type": "code",
   "execution_count": 13,
   "id": "c330ce52",
   "metadata": {},
   "outputs": [
    {
     "data": {
      "text/plain": [
       "2"
      ]
     },
     "execution_count": 13,
     "metadata": {},
     "output_type": "execute_result"
    }
   ],
   "source": [
    "l1[-5]"
   ]
  },
  {
   "cell_type": "code",
   "execution_count": 14,
   "id": "71c0200f",
   "metadata": {},
   "outputs": [
    {
     "data": {
      "text/plain": [
       "'10'"
      ]
     },
     "execution_count": 14,
     "metadata": {},
     "output_type": "execute_result"
    }
   ],
   "source": [
    "l1[-6]\n"
   ]
  },
  {
   "cell_type": "code",
   "execution_count": 15,
   "id": "547f085e",
   "metadata": {},
   "outputs": [
    {
     "ename": "IndexError",
     "evalue": "list index out of range",
     "output_type": "error",
     "traceback": [
      "\u001b[1;31m---------------------------------------------------------------------------\u001b[0m",
      "\u001b[1;31mIndexError\u001b[0m                                Traceback (most recent call last)",
      "\u001b[1;32m~\\AppData\\Local\\Temp\\ipykernel_23604\\1422244944.py\u001b[0m in \u001b[0;36m<module>\u001b[1;34m\u001b[0m\n\u001b[1;32m----> 1\u001b[1;33m \u001b[0ml1\u001b[0m\u001b[1;33m[\u001b[0m\u001b[1;33m-\u001b[0m\u001b[1;36m7\u001b[0m\u001b[1;33m]\u001b[0m\u001b[1;33m\u001b[0m\u001b[1;33m\u001b[0m\u001b[0m\n\u001b[0m",
      "\u001b[1;31mIndexError\u001b[0m: list index out of range"
     ]
    }
   ],
   "source": [
    "l1[-7]"
   ]
  },
  {
   "cell_type": "code",
   "execution_count": 16,
   "id": "ab8336a0",
   "metadata": {},
   "outputs": [
    {
     "data": {
      "text/plain": [
       "6"
      ]
     },
     "execution_count": 16,
     "metadata": {},
     "output_type": "execute_result"
    }
   ],
   "source": [
    "len(l1)"
   ]
  },
  {
   "cell_type": "code",
   "execution_count": 19,
   "id": "10dd9a3f",
   "metadata": {},
   "outputs": [
    {
     "data": {
      "text/plain": [
       "6"
      ]
     },
     "execution_count": 19,
     "metadata": {},
     "output_type": "execute_result"
    }
   ],
   "source": [
    "l1[len(l1)-1]"
   ]
  },
  {
   "cell_type": "code",
   "execution_count": 18,
   "id": "73a935f9",
   "metadata": {},
   "outputs": [
    {
     "data": {
      "text/plain": [
       "6"
      ]
     },
     "execution_count": 18,
     "metadata": {},
     "output_type": "execute_result"
    }
   ],
   "source": [
    "l1[5]"
   ]
  },
  {
   "cell_type": "markdown",
   "id": "910827c6",
   "metadata": {},
   "source": [
    "# List Slicing"
   ]
  },
  {
   "cell_type": "code",
   "execution_count": 20,
   "id": "7daa33e6",
   "metadata": {},
   "outputs": [],
   "source": [
    "# It Is used to when we want multiple values from a list,we can use \":\" operator"
   ]
  },
  {
   "cell_type": "code",
   "execution_count": 21,
   "id": "a61f3085",
   "metadata": {},
   "outputs": [
    {
     "data": {
      "text/plain": [
       "['10', 2, 3, 4, 5, 6]"
      ]
     },
     "execution_count": 21,
     "metadata": {},
     "output_type": "execute_result"
    }
   ],
   "source": [
    "l1[:]\n"
   ]
  },
  {
   "cell_type": "code",
   "execution_count": 22,
   "id": "f44a69d7",
   "metadata": {},
   "outputs": [
    {
     "data": {
      "text/plain": [
       "[2, 3, 4, 5, 6]"
      ]
     },
     "execution_count": 22,
     "metadata": {},
     "output_type": "execute_result"
    }
   ],
   "source": [
    "l1[1:]"
   ]
  },
  {
   "cell_type": "code",
   "execution_count": 23,
   "id": "e45f11ac",
   "metadata": {},
   "outputs": [
    {
     "data": {
      "text/plain": [
       "[2, 3]"
      ]
     },
     "execution_count": 23,
     "metadata": {},
     "output_type": "execute_result"
    }
   ],
   "source": [
    "l1[1:3]"
   ]
  },
  {
   "cell_type": "code",
   "execution_count": 24,
   "id": "576f0168",
   "metadata": {},
   "outputs": [
    {
     "data": {
      "text/plain": [
       "[2, 3, 4]"
      ]
     },
     "execution_count": 24,
     "metadata": {},
     "output_type": "execute_result"
    }
   ],
   "source": [
    "l1[1:len(l1)-2]"
   ]
  },
  {
   "cell_type": "code",
   "execution_count": 25,
   "id": "7030a4bf",
   "metadata": {},
   "outputs": [
    {
     "data": {
      "text/plain": [
       "[2, 3, 4]"
      ]
     },
     "execution_count": 25,
     "metadata": {},
     "output_type": "execute_result"
    }
   ],
   "source": [
    "l1[1:-2]"
   ]
  },
  {
   "cell_type": "code",
   "execution_count": 26,
   "id": "3751f007",
   "metadata": {},
   "outputs": [
    {
     "data": {
      "text/plain": [
       "['10', 2, 3, 4, 5, 6]"
      ]
     },
     "execution_count": 26,
     "metadata": {},
     "output_type": "execute_result"
    }
   ],
   "source": [
    "l1\n"
   ]
  },
  {
   "cell_type": "code",
   "execution_count": 27,
   "id": "8c72ad59",
   "metadata": {},
   "outputs": [
    {
     "ename": "NameError",
     "evalue": "name 'l3' is not defined",
     "output_type": "error",
     "traceback": [
      "\u001b[1;31m---------------------------------------------------------------------------\u001b[0m",
      "\u001b[1;31mNameError\u001b[0m                                 Traceback (most recent call last)",
      "\u001b[1;32m~\\AppData\\Local\\Temp\\ipykernel_23604\\1171931235.py\u001b[0m in \u001b[0;36m<module>\u001b[1;34m\u001b[0m\n\u001b[1;32m----> 1\u001b[1;33m \u001b[0ml3\u001b[0m\u001b[1;33m[\u001b[0m\u001b[1;33m:\u001b[0m\u001b[1;33m]\u001b[0m\u001b[1;33m\u001b[0m\u001b[1;33m\u001b[0m\u001b[0m\n\u001b[0m",
      "\u001b[1;31mNameError\u001b[0m: name 'l3' is not defined"
     ]
    }
   ],
   "source": [
    "l3[:]"
   ]
  },
  {
   "cell_type": "code",
   "execution_count": 28,
   "id": "41763143",
   "metadata": {},
   "outputs": [
    {
     "data": {
      "text/plain": [
       "['10', 2, 3, 4, 5, 6]"
      ]
     },
     "execution_count": 28,
     "metadata": {},
     "output_type": "execute_result"
    }
   ],
   "source": [
    "l1[:]"
   ]
  },
  {
   "cell_type": "code",
   "execution_count": 29,
   "id": "1dc60e66",
   "metadata": {},
   "outputs": [
    {
     "data": {
      "text/plain": [
       "['10', 3, 5]"
      ]
     },
     "execution_count": 29,
     "metadata": {},
     "output_type": "execute_result"
    }
   ],
   "source": [
    "l1[0:6:2]"
   ]
  },
  {
   "cell_type": "code",
   "execution_count": 30,
   "id": "cab77f4f",
   "metadata": {},
   "outputs": [
    {
     "data": {
      "text/plain": [
       "[2, 5]"
      ]
     },
     "execution_count": 30,
     "metadata": {},
     "output_type": "execute_result"
    }
   ],
   "source": [
    "l1[1:6:3]"
   ]
  },
  {
   "cell_type": "code",
   "execution_count": 31,
   "id": "7abffdfb",
   "metadata": {},
   "outputs": [
    {
     "data": {
      "text/plain": [
       "[5, 4, 3, 2]"
      ]
     },
     "execution_count": 31,
     "metadata": {},
     "output_type": "execute_result"
    }
   ],
   "source": [
    "l1[-2:0:-1]"
   ]
  },
  {
   "cell_type": "code",
   "execution_count": 32,
   "id": "567a27dc",
   "metadata": {},
   "outputs": [
    {
     "data": {
      "text/plain": [
       "[]"
      ]
     },
     "execution_count": 32,
     "metadata": {},
     "output_type": "execute_result"
    }
   ],
   "source": [
    "l1[-2:0:1]"
   ]
  },
  {
   "cell_type": "code",
   "execution_count": 33,
   "id": "b11198fe",
   "metadata": {},
   "outputs": [
    {
     "data": {
      "text/plain": [
       "[6, 5, 4, 3, 2, '10']"
      ]
     },
     "execution_count": 33,
     "metadata": {},
     "output_type": "execute_result"
    }
   ],
   "source": [
    "# Reverse of the list\n",
    "l1[::-1]"
   ]
  },
  {
   "cell_type": "markdown",
   "id": "0076112f",
   "metadata": {},
   "source": [
    "# Important list methods"
   ]
  },
  {
   "cell_type": "code",
   "execution_count": null,
   "id": "ca79e2d6",
   "metadata": {},
   "outputs": [],
   "source": []
  }
 ],
 "metadata": {
  "kernelspec": {
   "display_name": "Python 3 (ipykernel)",
   "language": "python",
   "name": "python3"
  },
  "language_info": {
   "codemirror_mode": {
    "name": "ipython",
    "version": 3
   },
   "file_extension": ".py",
   "mimetype": "text/x-python",
   "name": "python",
   "nbconvert_exporter": "python",
   "pygments_lexer": "ipython3",
   "version": "3.9.13"
  }
 },
 "nbformat": 4,
 "nbformat_minor": 5
}
