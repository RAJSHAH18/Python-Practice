{
 "cells": [
  {
   "cell_type": "code",
   "execution_count": 1,
   "id": "762813b0",
   "metadata": {},
   "outputs": [
    {
     "name": "stdout",
     "output_type": "stream",
     "text": [
      "This is my first program\n"
     ]
    }
   ],
   "source": [
    "print(\"This is my first program\");"
   ]
  },
  {
   "cell_type": "code",
   "execution_count": 3,
   "id": "b3a57d53",
   "metadata": {},
   "outputs": [
    {
     "name": "stdout",
     "output_type": "stream",
     "text": [
      "THis is my second Line\n"
     ]
    }
   ],
   "source": [
    "print(\"THis is my second Line\");"
   ]
  },
  {
   "cell_type": "code",
   "execution_count": 4,
   "id": "12623264",
   "metadata": {},
   "outputs": [
    {
     "name": "stdout",
     "output_type": "stream",
     "text": [
      "Hello world\n"
     ]
    }
   ],
   "source": [
    "print (\"Hello world\")"
   ]
  },
  {
   "cell_type": "code",
   "execution_count": 5,
   "id": "ba801b4f",
   "metadata": {},
   "outputs": [
    {
     "name": "stdout",
     "output_type": "stream",
     "text": [
      "Hii..!\n"
     ]
    }
   ],
   "source": [
    "print (\"Hii..!\")"
   ]
  },
  {
   "cell_type": "code",
   "execution_count": 7,
   "id": "320f7102",
   "metadata": {},
   "outputs": [],
   "source": [
    "# Comments are statements that doesn't execute ever\n",
    "# Comments are very much useful to document the code\n",
    "# We can Use \"#\" For comments in python program"
   ]
  },
  {
   "cell_type": "markdown",
   "id": "67c1b68d",
   "metadata": {},
   "source": [
    "# Addition"
   ]
  },
  {
   "cell_type": "code",
   "execution_count": 8,
   "id": "027b5076",
   "metadata": {},
   "outputs": [
    {
     "data": {
      "text/plain": [
       "12"
      ]
     },
     "execution_count": 8,
     "metadata": {},
     "output_type": "execute_result"
    }
   ],
   "source": [
    "10+2\n"
   ]
  },
  {
   "cell_type": "code",
   "execution_count": 9,
   "id": "361d0eaf",
   "metadata": {},
   "outputs": [
    {
     "ename": "SyntaxError",
     "evalue": "leading zeros in decimal integer literals are not permitted; use an 0o prefix for octal integers (1688455002.py, line 1)",
     "output_type": "error",
     "traceback": [
      "\u001b[1;36m  File \u001b[1;32m\"C:\\Users\\RAJ SHAH\\AppData\\Local\\Temp\\ipykernel_13064\\1688455002.py\"\u001b[1;36m, line \u001b[1;32m1\u001b[0m\n\u001b[1;33m    25+01\u001b[0m\n\u001b[1;37m        ^\u001b[0m\n\u001b[1;31mSyntaxError\u001b[0m\u001b[1;31m:\u001b[0m leading zeros in decimal integer literals are not permitted; use an 0o prefix for octal integers\n"
     ]
    }
   ],
   "source": [
    "25+01\n"
   ]
  },
  {
   "cell_type": "code",
   "execution_count": 10,
   "id": "2accbc67",
   "metadata": {},
   "outputs": [
    {
     "data": {
      "text/plain": [
       "50"
      ]
     },
     "execution_count": 10,
     "metadata": {},
     "output_type": "execute_result"
    }
   ],
   "source": [
    "25+25"
   ]
  },
  {
   "cell_type": "markdown",
   "id": "8786c3d8",
   "metadata": {},
   "source": [
    "# Subtraction"
   ]
  },
  {
   "cell_type": "code",
   "execution_count": 11,
   "id": "1d5038d6",
   "metadata": {},
   "outputs": [
    {
     "data": {
      "text/plain": [
       "5"
      ]
     },
     "execution_count": 11,
     "metadata": {},
     "output_type": "execute_result"
    }
   ],
   "source": [
    "10-5"
   ]
  },
  {
   "cell_type": "code",
   "execution_count": 12,
   "id": "3f7586c7",
   "metadata": {},
   "outputs": [
    {
     "data": {
      "text/plain": [
       "0"
      ]
     },
     "execution_count": 12,
     "metadata": {},
     "output_type": "execute_result"
    }
   ],
   "source": [
    "5-5\n"
   ]
  },
  {
   "cell_type": "code",
   "execution_count": 13,
   "id": "a5e7ae64",
   "metadata": {},
   "outputs": [
    {
     "data": {
      "text/plain": [
       "75"
      ]
     },
     "execution_count": 13,
     "metadata": {},
     "output_type": "execute_result"
    }
   ],
   "source": [
    "100-25"
   ]
  },
  {
   "cell_type": "markdown",
   "id": "30e6ae23",
   "metadata": {},
   "source": [
    "# Multiplication"
   ]
  },
  {
   "cell_type": "code",
   "execution_count": 14,
   "id": "9db6c667",
   "metadata": {},
   "outputs": [
    {
     "data": {
      "text/plain": [
       "50"
      ]
     },
     "execution_count": 14,
     "metadata": {},
     "output_type": "execute_result"
    }
   ],
   "source": [
    "10*5"
   ]
  },
  {
   "cell_type": "code",
   "execution_count": 15,
   "id": "ee9ac2b5",
   "metadata": {},
   "outputs": [
    {
     "ename": "SyntaxError",
     "evalue": "invalid syntax (288710148.py, line 1)",
     "output_type": "error",
     "traceback": [
      "\u001b[1;36m  File \u001b[1;32m\"C:\\Users\\RAJ SHAH\\AppData\\Local\\Temp\\ipykernel_13064\\288710148.py\"\u001b[1;36m, line \u001b[1;32m1\u001b[0m\n\u001b[1;33m    5*\u001b[0m\n\u001b[1;37m      ^\u001b[0m\n\u001b[1;31mSyntaxError\u001b[0m\u001b[1;31m:\u001b[0m invalid syntax\n"
     ]
    }
   ],
   "source": [
    "5*"
   ]
  },
  {
   "cell_type": "code",
   "execution_count": 16,
   "id": "5df8bef7",
   "metadata": {},
   "outputs": [
    {
     "data": {
      "text/plain": [
       "25"
      ]
     },
     "execution_count": 16,
     "metadata": {},
     "output_type": "execute_result"
    }
   ],
   "source": [
    "5*5"
   ]
  },
  {
   "cell_type": "code",
   "execution_count": 17,
   "id": "195bc966",
   "metadata": {},
   "outputs": [
    {
     "data": {
      "text/plain": [
       "0"
      ]
     },
     "execution_count": 17,
     "metadata": {},
     "output_type": "execute_result"
    }
   ],
   "source": [
    "20*0"
   ]
  },
  {
   "cell_type": "markdown",
   "id": "02eca50a",
   "metadata": {},
   "source": [
    "\n",
    "# Division1"
   ]
  },
  {
   "cell_type": "code",
   "execution_count": 18,
   "id": "101fadf9",
   "metadata": {},
   "outputs": [
    {
     "data": {
      "text/plain": [
       "20.0"
      ]
     },
     "execution_count": 18,
     "metadata": {},
     "output_type": "execute_result"
    }
   ],
   "source": [
    "100/5\n"
   ]
  },
  {
   "cell_type": "code",
   "execution_count": 19,
   "id": "0bf8cca2",
   "metadata": {},
   "outputs": [
    {
     "data": {
      "text/plain": [
       "1.0"
      ]
     },
     "execution_count": 19,
     "metadata": {},
     "output_type": "execute_result"
    }
   ],
   "source": [
    "5/5"
   ]
  },
  {
   "cell_type": "code",
   "execution_count": 20,
   "id": "1b8683fd",
   "metadata": {},
   "outputs": [
    {
     "data": {
      "text/plain": [
       "0.0"
      ]
     },
     "execution_count": 20,
     "metadata": {},
     "output_type": "execute_result"
    }
   ],
   "source": [
    "0/3"
   ]
  },
  {
   "cell_type": "code",
   "execution_count": 21,
   "id": "b71e22f9",
   "metadata": {},
   "outputs": [
    {
     "ename": "ZeroDivisionError",
     "evalue": "division by zero",
     "output_type": "error",
     "traceback": [
      "\u001b[1;31m---------------------------------------------------------------------------\u001b[0m",
      "\u001b[1;31mZeroDivisionError\u001b[0m                         Traceback (most recent call last)",
      "\u001b[1;32m~\\AppData\\Local\\Temp\\ipykernel_13064\\3150626867.py\u001b[0m in \u001b[0;36m<module>\u001b[1;34m\u001b[0m\n\u001b[1;32m----> 1\u001b[1;33m \u001b[1;36m3\u001b[0m\u001b[1;33m/\u001b[0m\u001b[1;36m0\u001b[0m\u001b[1;33m\u001b[0m\u001b[1;33m\u001b[0m\u001b[0m\n\u001b[0m",
      "\u001b[1;31mZeroDivisionError\u001b[0m: division by zero"
     ]
    }
   ],
   "source": [
    "3/0"
   ]
  },
  {
   "cell_type": "markdown",
   "id": "11814917",
   "metadata": {},
   "source": [
    "# Exponential"
   ]
  },
  {
   "cell_type": "code",
   "execution_count": 22,
   "id": "aec0f1d1",
   "metadata": {},
   "outputs": [
    {
     "data": {
      "text/plain": [
       "4"
      ]
     },
     "execution_count": 22,
     "metadata": {},
     "output_type": "execute_result"
    }
   ],
   "source": [
    "2**2"
   ]
  },
  {
   "cell_type": "code",
   "execution_count": 23,
   "id": "4a38279c",
   "metadata": {},
   "outputs": [
    {
     "data": {
      "text/plain": [
       "8"
      ]
     },
     "execution_count": 23,
     "metadata": {},
     "output_type": "execute_result"
    }
   ],
   "source": [
    "2**3\n"
   ]
  },
  {
   "cell_type": "code",
   "execution_count": 24,
   "id": "db01a510",
   "metadata": {},
   "outputs": [
    {
     "data": {
      "text/plain": [
       "9"
      ]
     },
     "execution_count": 24,
     "metadata": {},
     "output_type": "execute_result"
    }
   ],
   "source": [
    "3**2"
   ]
  },
  {
   "cell_type": "code",
   "execution_count": 29,
   "id": "255537fd",
   "metadata": {},
   "outputs": [
    {
     "data": {
      "text/plain": [
       "9"
      ]
     },
     "execution_count": 29,
     "metadata": {},
     "output_type": "execute_result"
    }
   ],
   "source": [
    "pow(3,2)"
   ]
  },
  {
   "cell_type": "code",
   "execution_count": 30,
   "id": "081d4a4e",
   "metadata": {},
   "outputs": [
    {
     "data": {
      "text/plain": [
       "32"
      ]
     },
     "execution_count": 30,
     "metadata": {},
     "output_type": "execute_result"
    }
   ],
   "source": [
    "pow(2,5)"
   ]
  },
  {
   "cell_type": "markdown",
   "id": "9c8739ef",
   "metadata": {},
   "source": [
    "# Modulus"
   ]
  },
  {
   "cell_type": "code",
   "execution_count": 25,
   "id": "9af76b8d",
   "metadata": {},
   "outputs": [
    {
     "ename": "SyntaxError",
     "evalue": "invalid syntax (3007971830.py, line 1)",
     "output_type": "error",
     "traceback": [
      "\u001b[1;36m  File \u001b[1;32m\"C:\\Users\\RAJ SHAH\\AppData\\Local\\Temp\\ipykernel_13064\\3007971830.py\"\u001b[1;36m, line \u001b[1;32m1\u001b[0m\n\u001b[1;33m    10%5|\u001b[0m\n\u001b[1;37m         ^\u001b[0m\n\u001b[1;31mSyntaxError\u001b[0m\u001b[1;31m:\u001b[0m invalid syntax\n"
     ]
    }
   ],
   "source": [
    "10%5|"
   ]
  },
  {
   "cell_type": "code",
   "execution_count": 26,
   "id": "8ba5cafb",
   "metadata": {},
   "outputs": [
    {
     "data": {
      "text/plain": [
       "0"
      ]
     },
     "execution_count": 26,
     "metadata": {},
     "output_type": "execute_result"
    }
   ],
   "source": [
    "10%2"
   ]
  },
  {
   "cell_type": "code",
   "execution_count": 27,
   "id": "249d1763",
   "metadata": {},
   "outputs": [
    {
     "data": {
      "text/plain": [
       "0"
      ]
     },
     "execution_count": 27,
     "metadata": {},
     "output_type": "execute_result"
    }
   ],
   "source": [
    "10%5\n"
   ]
  },
  {
   "cell_type": "code",
   "execution_count": 28,
   "id": "1c9e1513",
   "metadata": {},
   "outputs": [
    {
     "data": {
      "text/plain": [
       "1"
      ]
     },
     "execution_count": 28,
     "metadata": {},
     "output_type": "execute_result"
    }
   ],
   "source": [
    "3%2"
   ]
  },
  {
   "cell_type": "code",
   "execution_count": 34,
   "id": "648995fb",
   "metadata": {},
   "outputs": [
    {
     "data": {
      "text/plain": [
       "0.25"
      ]
     },
     "execution_count": 34,
     "metadata": {},
     "output_type": "execute_result"
    }
   ],
   "source": [
    "10.25 % 5\n"
   ]
  },
  {
   "cell_type": "markdown",
   "id": "a1217b28",
   "metadata": {},
   "source": [
    "# Quotient"
   ]
  },
  {
   "cell_type": "code",
   "execution_count": 31,
   "id": "06d345d0",
   "metadata": {},
   "outputs": [
    {
     "data": {
      "text/plain": [
       "2"
      ]
     },
     "execution_count": 31,
     "metadata": {},
     "output_type": "execute_result"
    }
   ],
   "source": [
    "10//5\n"
   ]
  },
  {
   "cell_type": "code",
   "execution_count": 32,
   "id": "dc57683f",
   "metadata": {},
   "outputs": [
    {
     "data": {
      "text/plain": [
       "6.090909090909091"
      ]
     },
     "execution_count": 32,
     "metadata": {},
     "output_type": "execute_result"
    }
   ],
   "source": [
    "67/11"
   ]
  },
  {
   "cell_type": "code",
   "execution_count": 33,
   "id": "05b0a4f2",
   "metadata": {},
   "outputs": [
    {
     "data": {
      "text/plain": [
       "6"
      ]
     },
     "execution_count": 33,
     "metadata": {},
     "output_type": "execute_result"
    }
   ],
   "source": [
    "67//11"
   ]
  },
  {
   "cell_type": "markdown",
   "id": "94552121",
   "metadata": {},
   "source": [
    "# Divisior * quotient + remainder"
   ]
  },
  {
   "cell_type": "code",
   "execution_count": 36,
   "id": "cc3676d6",
   "metadata": {},
   "outputs": [
    {
     "data": {
      "text/plain": [
       "1.0"
      ]
     },
     "execution_count": 36,
     "metadata": {},
     "output_type": "execute_result"
    }
   ],
   "source": [
    "12.25//7"
   ]
  },
  {
   "cell_type": "code",
   "execution_count": 37,
   "id": "6c7bed0a",
   "metadata": {},
   "outputs": [
    {
     "data": {
      "text/plain": [
       "5.25"
      ]
     },
     "execution_count": 37,
     "metadata": {},
     "output_type": "execute_result"
    }
   ],
   "source": [
    "12.25 % 7"
   ]
  },
  {
   "cell_type": "code",
   "execution_count": 38,
   "id": "fa2d9c5c",
   "metadata": {},
   "outputs": [
    {
     "data": {
      "text/plain": [
       "12.25"
      ]
     },
     "execution_count": 38,
     "metadata": {},
     "output_type": "execute_result"
    }
   ],
   "source": [
    "7 * 1 +5.25"
   ]
  },
  {
   "cell_type": "markdown",
   "id": "82f9c39d",
   "metadata": {},
   "source": [
    "# Variables"
   ]
  },
  {
   "cell_type": "code",
   "execution_count": 39,
   "id": "86c3e7cb",
   "metadata": {},
   "outputs": [],
   "source": [
    "# Variables are containers that are used to store values...\n",
    "# Variables in Python are used to store characters,integers,boolean values,etc...\n"
   ]
  },
  {
   "cell_type": "markdown",
   "id": "02b509fe",
   "metadata": {},
   "source": [
    "# Rules For Declaring Variables"
   ]
  },
  {
   "cell_type": "code",
   "execution_count": 40,
   "id": "74eee2a5",
   "metadata": {},
   "outputs": [],
   "source": [
    "# Variable name must start with only letter(a-z,A-Z) or Underscore(\"_\").\n",
    "# Variable name can contain number but not started with a number,letter(a-z,A-Z),underscore(\"_\")\n",
    "# Python is case sensitive it means A or a both are different variables"
   ]
  },
  {
   "cell_type": "code",
   "execution_count": 41,
   "id": "aac4a522",
   "metadata": {},
   "outputs": [],
   "source": [
    "a = 10;\n"
   ]
  },
  {
   "cell_type": "code",
   "execution_count": 42,
   "id": "5c22e349",
   "metadata": {},
   "outputs": [
    {
     "data": {
      "text/plain": [
       "10"
      ]
     },
     "execution_count": 42,
     "metadata": {},
     "output_type": "execute_result"
    }
   ],
   "source": [
    "a\n"
   ]
  },
  {
   "cell_type": "code",
   "execution_count": 43,
   "id": "f1c7faac",
   "metadata": {},
   "outputs": [
    {
     "ename": "SyntaxError",
     "evalue": "invalid syntax (1732092991.py, line 1)",
     "output_type": "error",
     "traceback": [
      "\u001b[1;36m  File \u001b[1;32m\"C:\\Users\\RAJ SHAH\\AppData\\Local\\Temp\\ipykernel_13064\\1732092991.py\"\u001b[1;36m, line \u001b[1;32m1\u001b[0m\n\u001b[1;33m    1b = 10;\u001b[0m\n\u001b[1;37m     ^\u001b[0m\n\u001b[1;31mSyntaxError\u001b[0m\u001b[1;31m:\u001b[0m invalid syntax\n"
     ]
    }
   ],
   "source": [
    "1b = 10;"
   ]
  },
  {
   "cell_type": "code",
   "execution_count": 44,
   "id": "6e90e22b",
   "metadata": {},
   "outputs": [],
   "source": [
    "a = 20;"
   ]
  },
  {
   "cell_type": "code",
   "execution_count": 45,
   "id": "1ce399ad",
   "metadata": {},
   "outputs": [
    {
     "data": {
      "text/plain": [
       "20"
      ]
     },
     "execution_count": 45,
     "metadata": {},
     "output_type": "execute_result"
    }
   ],
   "source": [
    "a"
   ]
  },
  {
   "cell_type": "code",
   "execution_count": 46,
   "id": "2496bef5",
   "metadata": {},
   "outputs": [],
   "source": [
    "_ans = a +10;"
   ]
  },
  {
   "cell_type": "code",
   "execution_count": 47,
   "id": "d8584444",
   "metadata": {},
   "outputs": [
    {
     "data": {
      "text/plain": [
       "30"
      ]
     },
     "execution_count": 47,
     "metadata": {},
     "output_type": "execute_result"
    }
   ],
   "source": [
    "_ans\n"
   ]
  },
  {
   "cell_type": "markdown",
   "id": "fca18d15",
   "metadata": {},
   "source": [
    "# Arithmetic Operations"
   ]
  },
  {
   "cell_type": "code",
   "execution_count": 48,
   "id": "6feeb8bd",
   "metadata": {},
   "outputs": [],
   "source": [
    "a = 20;\n",
    "b = 10;"
   ]
  },
  {
   "cell_type": "code",
   "execution_count": 49,
   "id": "8f8347f9",
   "metadata": {},
   "outputs": [
    {
     "data": {
      "text/plain": [
       "30"
      ]
     },
     "execution_count": 49,
     "metadata": {},
     "output_type": "execute_result"
    }
   ],
   "source": [
    "a + b"
   ]
  },
  {
   "cell_type": "code",
   "execution_count": 50,
   "id": "b365a865",
   "metadata": {},
   "outputs": [
    {
     "data": {
      "text/plain": [
       "10"
      ]
     },
     "execution_count": 50,
     "metadata": {},
     "output_type": "execute_result"
    }
   ],
   "source": [
    "# Subtraction\n",
    "a - b"
   ]
  },
  {
   "cell_type": "code",
   "execution_count": 51,
   "id": "69de416c",
   "metadata": {},
   "outputs": [
    {
     "data": {
      "text/plain": [
       "200"
      ]
     },
     "execution_count": 51,
     "metadata": {},
     "output_type": "execute_result"
    }
   ],
   "source": [
    "# Multiplication\n",
    "a * b"
   ]
  },
  {
   "cell_type": "code",
   "execution_count": 52,
   "id": "db67174f",
   "metadata": {},
   "outputs": [
    {
     "data": {
      "text/plain": [
       "2.0"
      ]
     },
     "execution_count": 52,
     "metadata": {},
     "output_type": "execute_result"
    }
   ],
   "source": [
    "# Division\n",
    "a / b\n"
   ]
  },
  {
   "cell_type": "code",
   "execution_count": 53,
   "id": "cd50b911",
   "metadata": {},
   "outputs": [
    {
     "data": {
      "text/plain": [
       "2"
      ]
     },
     "execution_count": 53,
     "metadata": {},
     "output_type": "execute_result"
    }
   ],
   "source": [
    "# Quotient\n",
    "a // b"
   ]
  },
  {
   "cell_type": "code",
   "execution_count": 54,
   "id": "40cde022",
   "metadata": {},
   "outputs": [
    {
     "data": {
      "text/plain": [
       "0"
      ]
     },
     "execution_count": 54,
     "metadata": {},
     "output_type": "execute_result"
    }
   ],
   "source": [
    "# Remainder\n",
    "a % b"
   ]
  },
  {
   "cell_type": "code",
   "execution_count": 55,
   "id": "81bc28d1",
   "metadata": {},
   "outputs": [
    {
     "data": {
      "text/plain": [
       "10240000000000"
      ]
     },
     "execution_count": 55,
     "metadata": {},
     "output_type": "execute_result"
    }
   ],
   "source": [
    "# Exponential\n",
    "a ** b"
   ]
  },
  {
   "cell_type": "code",
   "execution_count": 56,
   "id": "1041f146",
   "metadata": {},
   "outputs": [
    {
     "data": {
      "text/plain": [
       "10240000000000"
      ]
     },
     "execution_count": 56,
     "metadata": {},
     "output_type": "execute_result"
    }
   ],
   "source": [
    "pow(a,b)"
   ]
  },
  {
   "cell_type": "markdown",
   "id": "b8d75c1c",
   "metadata": {},
   "source": [
    "# Data Types"
   ]
  },
  {
   "cell_type": "code",
   "execution_count": 57,
   "id": "842f3bb6",
   "metadata": {},
   "outputs": [],
   "source": [
    "x = 10;"
   ]
  },
  {
   "cell_type": "code",
   "execution_count": 60,
   "id": "7d242754",
   "metadata": {},
   "outputs": [
    {
     "data": {
      "text/plain": [
       "int"
      ]
     },
     "execution_count": 60,
     "metadata": {},
     "output_type": "execute_result"
    }
   ],
   "source": [
    "type(x)"
   ]
  },
  {
   "cell_type": "code",
   "execution_count": 61,
   "id": "7718ef93",
   "metadata": {},
   "outputs": [
    {
     "data": {
      "text/plain": [
       "float"
      ]
     },
     "execution_count": 61,
     "metadata": {},
     "output_type": "execute_result"
    }
   ],
   "source": [
    "type(10.2)"
   ]
  },
  {
   "cell_type": "code",
   "execution_count": 62,
   "id": "eaa7f80c",
   "metadata": {},
   "outputs": [
    {
     "ename": "NameError",
     "evalue": "name 'true' is not defined",
     "output_type": "error",
     "traceback": [
      "\u001b[1;31m---------------------------------------------------------------------------\u001b[0m",
      "\u001b[1;31mNameError\u001b[0m                                 Traceback (most recent call last)",
      "\u001b[1;32m~\\AppData\\Local\\Temp\\ipykernel_13064\\3333814890.py\u001b[0m in \u001b[0;36m<module>\u001b[1;34m\u001b[0m\n\u001b[1;32m----> 1\u001b[1;33m \u001b[0mx\u001b[0m \u001b[1;33m=\u001b[0m \u001b[0mtrue\u001b[0m\u001b[1;33m\u001b[0m\u001b[1;33m\u001b[0m\u001b[0m\n\u001b[0m",
      "\u001b[1;31mNameError\u001b[0m: name 'true' is not defined"
     ]
    }
   ],
   "source": [
    "x = true"
   ]
  },
  {
   "cell_type": "code",
   "execution_count": 63,
   "id": "252db684",
   "metadata": {},
   "outputs": [
    {
     "ename": "NameError",
     "evalue": "name 'true' is not defined",
     "output_type": "error",
     "traceback": [
      "\u001b[1;31m---------------------------------------------------------------------------\u001b[0m",
      "\u001b[1;31mNameError\u001b[0m                                 Traceback (most recent call last)",
      "\u001b[1;32m~\\AppData\\Local\\Temp\\ipykernel_13064\\3004832412.py\u001b[0m in \u001b[0;36m<module>\u001b[1;34m\u001b[0m\n\u001b[1;32m----> 1\u001b[1;33m \u001b[0mx\u001b[0m \u001b[1;33m=\u001b[0m \u001b[0mtrue\u001b[0m\u001b[1;33m;\u001b[0m\u001b[1;33m\u001b[0m\u001b[1;33m\u001b[0m\u001b[0m\n\u001b[0m",
      "\u001b[1;31mNameError\u001b[0m: name 'true' is not defined"
     ]
    }
   ],
   "source": [
    "x = true;"
   ]
  },
  {
   "cell_type": "code",
   "execution_count": 64,
   "id": "96417a60",
   "metadata": {},
   "outputs": [],
   "source": [
    "x = True"
   ]
  },
  {
   "cell_type": "code",
   "execution_count": 65,
   "id": "e4ac8d29",
   "metadata": {},
   "outputs": [
    {
     "data": {
      "text/plain": [
       "bool"
      ]
     },
     "execution_count": 65,
     "metadata": {},
     "output_type": "execute_result"
    }
   ],
   "source": [
    "type(x)"
   ]
  },
  {
   "cell_type": "code",
   "execution_count": 66,
   "id": "14c635ac",
   "metadata": {},
   "outputs": [],
   "source": [
    "x = 3 + 2j"
   ]
  },
  {
   "cell_type": "code",
   "execution_count": 67,
   "id": "e8a2c851",
   "metadata": {},
   "outputs": [
    {
     "data": {
      "text/plain": [
       "complex"
      ]
     },
     "execution_count": 67,
     "metadata": {},
     "output_type": "execute_result"
    }
   ],
   "source": [
    "type(x)"
   ]
  },
  {
   "cell_type": "code",
   "execution_count": 68,
   "id": "857884f9",
   "metadata": {},
   "outputs": [],
   "source": [
    "x = [1,2,3,\"Hello\",True]"
   ]
  },
  {
   "cell_type": "code",
   "execution_count": 69,
   "id": "f824b9e6",
   "metadata": {},
   "outputs": [
    {
     "data": {
      "text/plain": [
       "list"
      ]
     },
     "execution_count": 69,
     "metadata": {},
     "output_type": "execute_result"
    }
   ],
   "source": [
    "type(x)"
   ]
  },
  {
   "cell_type": "code",
   "execution_count": 70,
   "id": "f9192793",
   "metadata": {},
   "outputs": [
    {
     "ename": "TypeError",
     "evalue": "'list' object is not callable",
     "output_type": "error",
     "traceback": [
      "\u001b[1;31m---------------------------------------------------------------------------\u001b[0m",
      "\u001b[1;31mTypeError\u001b[0m                                 Traceback (most recent call last)",
      "\u001b[1;32m~\\AppData\\Local\\Temp\\ipykernel_13064\\2163960969.py\u001b[0m in \u001b[0;36m<module>\u001b[1;34m\u001b[0m\n\u001b[1;32m----> 1\u001b[1;33m \u001b[0mx\u001b[0m \u001b[1;33m(\u001b[0m\u001b[1;36m1\u001b[0m\u001b[1;33m,\u001b[0m\u001b[1;36m2\u001b[0m\u001b[1;33m,\u001b[0m\u001b[1;36m3\u001b[0m\u001b[1;33m,\u001b[0m\u001b[1;34m\"Hello\"\u001b[0m\u001b[1;33m,\u001b[0m\u001b[1;32mFalse\u001b[0m\u001b[1;33m)\u001b[0m\u001b[1;33m\u001b[0m\u001b[1;33m\u001b[0m\u001b[0m\n\u001b[0m",
      "\u001b[1;31mTypeError\u001b[0m: 'list' object is not callable"
     ]
    }
   ],
   "source": [
    "x (1,2,3,\"Hello\",False)"
   ]
  },
  {
   "cell_type": "code",
   "execution_count": 71,
   "id": "653967b7",
   "metadata": {},
   "outputs": [],
   "source": [
    "x = (1,2,3,\"Hello\",False)"
   ]
  },
  {
   "cell_type": "code",
   "execution_count": 72,
   "id": "6e0a1784",
   "metadata": {},
   "outputs": [
    {
     "data": {
      "text/plain": [
       "tuple"
      ]
     },
     "execution_count": 72,
     "metadata": {},
     "output_type": "execute_result"
    }
   ],
   "source": [
    "type(x)"
   ]
  },
  {
   "cell_type": "code",
   "execution_count": 81,
   "id": "7b33a5ba",
   "metadata": {},
   "outputs": [],
   "source": [
    "x = {1,2,3,\"Hii\",True}"
   ]
  },
  {
   "cell_type": "code",
   "execution_count": 83,
   "id": "b7a6ce19",
   "metadata": {},
   "outputs": [
    {
     "data": {
      "text/plain": [
       "12"
      ]
     },
     "execution_count": 83,
     "metadata": {},
     "output_type": "execute_result"
    }
   ],
   "source": [
    "type(x);\n",
    "x\n",
    "10+2"
   ]
  },
  {
   "cell_type": "code",
   "execution_count": 75,
   "id": "386c0092",
   "metadata": {},
   "outputs": [],
   "source": [
    "x = {1:\"Hello\",2:\"Hii\"}"
   ]
  },
  {
   "cell_type": "code",
   "execution_count": 76,
   "id": "d86b0f75",
   "metadata": {},
   "outputs": [
    {
     "data": {
      "text/plain": [
       "dict"
      ]
     },
     "execution_count": 76,
     "metadata": {},
     "output_type": "execute_result"
    }
   ],
   "source": [
    "type(x)"
   ]
  },
  {
   "cell_type": "code",
   "execution_count": 77,
   "id": "1a220bbe",
   "metadata": {},
   "outputs": [
    {
     "data": {
      "text/plain": [
       "{1: 'Hello', 2: 'Hii'}"
      ]
     },
     "execution_count": 77,
     "metadata": {},
     "output_type": "execute_result"
    }
   ],
   "source": [
    "x\n"
   ]
  },
  {
   "cell_type": "markdown",
   "id": "c3d190b0",
   "metadata": {},
   "source": [
    "# Type Casting"
   ]
  },
  {
   "cell_type": "code",
   "execution_count": 84,
   "id": "69eb724e",
   "metadata": {},
   "outputs": [],
   "source": [
    "# int -> Float -> String"
   ]
  },
  {
   "cell_type": "code",
   "execution_count": 85,
   "id": "6459234e",
   "metadata": {},
   "outputs": [],
   "source": [
    "x = '12'"
   ]
  },
  {
   "cell_type": "code",
   "execution_count": 86,
   "id": "2b73d99a",
   "metadata": {},
   "outputs": [
    {
     "data": {
      "text/plain": [
       "str"
      ]
     },
     "execution_count": 86,
     "metadata": {},
     "output_type": "execute_result"
    }
   ],
   "source": [
    "type(x)"
   ]
  },
  {
   "cell_type": "code",
   "execution_count": 87,
   "id": "b009e083",
   "metadata": {},
   "outputs": [
    {
     "data": {
      "text/plain": [
       "12"
      ]
     },
     "execution_count": 87,
     "metadata": {},
     "output_type": "execute_result"
    }
   ],
   "source": [
    "int(x)"
   ]
  },
  {
   "cell_type": "code",
   "execution_count": 88,
   "id": "949d622b",
   "metadata": {},
   "outputs": [],
   "source": [
    "y = int(x);"
   ]
  },
  {
   "cell_type": "code",
   "execution_count": 89,
   "id": "a0b18bac",
   "metadata": {},
   "outputs": [
    {
     "data": {
      "text/plain": [
       "int"
      ]
     },
     "execution_count": 89,
     "metadata": {},
     "output_type": "execute_result"
    }
   ],
   "source": [
    "type(y)"
   ]
  },
  {
   "cell_type": "code",
   "execution_count": 90,
   "id": "23bd18c2",
   "metadata": {},
   "outputs": [
    {
     "data": {
      "text/plain": [
       "int"
      ]
     },
     "execution_count": 90,
     "metadata": {},
     "output_type": "execute_result"
    }
   ],
   "source": [
    "type(int(x))"
   ]
  },
  {
   "cell_type": "code",
   "execution_count": 91,
   "id": "0218e364",
   "metadata": {},
   "outputs": [
    {
     "data": {
      "text/plain": [
       "int"
      ]
     },
     "execution_count": 91,
     "metadata": {},
     "output_type": "execute_result"
    }
   ],
   "source": [
    "type(int(10.25))"
   ]
  },
  {
   "cell_type": "code",
   "execution_count": 92,
   "id": "d96d0b0f",
   "metadata": {},
   "outputs": [],
   "source": [
    "y = int(10.25)"
   ]
  },
  {
   "cell_type": "code",
   "execution_count": 93,
   "id": "cf5cc488",
   "metadata": {},
   "outputs": [
    {
     "data": {
      "text/plain": [
       "10"
      ]
     },
     "execution_count": 93,
     "metadata": {},
     "output_type": "execute_result"
    }
   ],
   "source": [
    "y"
   ]
  },
  {
   "cell_type": "code",
   "execution_count": 94,
   "id": "b9a9b691",
   "metadata": {},
   "outputs": [
    {
     "data": {
      "text/plain": [
       "10"
      ]
     },
     "execution_count": 94,
     "metadata": {},
     "output_type": "execute_result"
    }
   ],
   "source": [
    "int(10.25)"
   ]
  },
  {
   "cell_type": "code",
   "execution_count": 95,
   "id": "7220f78a",
   "metadata": {},
   "outputs": [
    {
     "data": {
      "text/plain": [
       "10"
      ]
     },
     "execution_count": 95,
     "metadata": {},
     "output_type": "execute_result"
    }
   ],
   "source": [
    "int('10')\n"
   ]
  },
  {
   "cell_type": "code",
   "execution_count": 96,
   "id": "536572cd",
   "metadata": {},
   "outputs": [
    {
     "data": {
      "text/plain": [
       "12"
      ]
     },
     "execution_count": 96,
     "metadata": {},
     "output_type": "execute_result"
    }
   ],
   "source": [
    "int(float('12.25'))"
   ]
  },
  {
   "cell_type": "code",
   "execution_count": null,
   "id": "08d49dc6",
   "metadata": {},
   "outputs": [],
   "source": []
  }
 ],
 "metadata": {
  "kernelspec": {
   "display_name": "Python 3 (ipykernel)",
   "language": "python",
   "name": "python3"
  },
  "language_info": {
   "codemirror_mode": {
    "name": "ipython",
    "version": 3
   },
   "file_extension": ".py",
   "mimetype": "text/x-python",
   "name": "python",
   "nbconvert_exporter": "python",
   "pygments_lexer": "ipython3",
   "version": "3.9.13"
  }
 },
 "nbformat": 4,
 "nbformat_minor": 5
}
