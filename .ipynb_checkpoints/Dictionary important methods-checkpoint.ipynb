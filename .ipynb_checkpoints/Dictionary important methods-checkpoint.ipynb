{
 "cells": [
  {
   "cell_type": "code",
   "execution_count": 1,
   "id": "dc24f9ba",
   "metadata": {},
   "outputs": [],
   "source": [
    "# len(student) length of dictionar or no .of keys it have\n",
    "# del student will delete the dictionary\n",
    "# delstudent['john'] will delete john student from dictionary\n",
    "# student.pop(\"Gary\") will return values of Gary and delete the dicitonary\n",
    "# student.get(\"Martina\") wil return values in Martina"
   ]
  },
  {
   "cell_type": "code",
   "execution_count": 9,
   "id": "9fa5d294",
   "metadata": {},
   "outputs": [],
   "source": [
    "student = {\"Mark\" : [60,65,64,63,93],\"Sarah\" : [82,83,84,85,87]}"
   ]
  },
  {
   "cell_type": "code",
   "execution_count": 3,
   "id": "acaf6149",
   "metadata": {},
   "outputs": [
    {
     "name": "stdout",
     "output_type": "stream",
     "text": [
      "[60, 65, 64, 63, 93]\n"
     ]
    }
   ],
   "source": [
    "# student.get(\"Mark\") method will return the values of Mark and similar like student[\"Mark\"]\n",
    "ans = student.get(\"Mark\")\n",
    "print(ans)"
   ]
  },
  {
   "cell_type": "code",
   "execution_count": 4,
   "id": "88635aa8",
   "metadata": {},
   "outputs": [
    {
     "name": "stdout",
     "output_type": "stream",
     "text": [
      "2\n"
     ]
    }
   ],
   "source": [
    "# len(student) is used to get total no.of keys in a dictionary\n",
    "ans = len(student)\n",
    "print(ans)"
   ]
  },
  {
   "cell_type": "code",
   "execution_count": 5,
   "id": "a057db59",
   "metadata": {},
   "outputs": [
    {
     "name": "stdout",
     "output_type": "stream",
     "text": [
      "5\n"
     ]
    }
   ],
   "source": [
    "# to find length of values \n",
    "ans = len(student[\"Mark\"])\n",
    "print(ans)"
   ]
  },
  {
   "cell_type": "code",
   "execution_count": 6,
   "id": "a2bb0544",
   "metadata": {},
   "outputs": [
    {
     "name": "stdout",
     "output_type": "stream",
     "text": [
      "Mark 5\n",
      "Sarah 5\n"
     ]
    }
   ],
   "source": [
    "# For findind the length of every list by using for loop\n",
    "for i in student:\n",
    "    print(i,len(student[i]))"
   ]
  },
  {
   "cell_type": "code",
   "execution_count": 7,
   "id": "557ed0ad",
   "metadata": {},
   "outputs": [
    {
     "name": "stdout",
     "output_type": "stream",
     "text": [
      "[60, 65, 64, 63, 93]\n"
     ]
    }
   ],
   "source": [
    "# student.pop(\"Mark\") meethod will return the values of mark and delete the mark from dictionary\n",
    "ans = student.pop(\"Mark\")\n",
    "print(ans)"
   ]
  },
  {
   "cell_type": "code",
   "execution_count": 8,
   "id": "f706641d",
   "metadata": {},
   "outputs": [
    {
     "data": {
      "text/plain": [
       "{'Sarah': [82, 83, 84, 85, 87]}"
      ]
     },
     "execution_count": 8,
     "metadata": {},
     "output_type": "execute_result"
    }
   ],
   "source": [
    "student"
   ]
  },
  {
   "cell_type": "code",
   "execution_count": 10,
   "id": "7ad639e7",
   "metadata": {},
   "outputs": [],
   "source": [
    "# del student[\"sarah\"] is used to delete the sarah from dictionary\n",
    "del student[\"Sarah\"]"
   ]
  },
  {
   "cell_type": "code",
   "execution_count": 11,
   "id": "ee45a1c5",
   "metadata": {},
   "outputs": [
    {
     "data": {
      "text/plain": [
       "{'Mark': [60, 65, 64, 63, 93]}"
      ]
     },
     "execution_count": 11,
     "metadata": {},
     "output_type": "execute_result"
    }
   ],
   "source": [
    "student\n"
   ]
  },
  {
   "cell_type": "code",
   "execution_count": 12,
   "id": "3a42ba54",
   "metadata": {},
   "outputs": [],
   "source": [
    "# del student is used to delete  the complete dictionary\n",
    "del student"
   ]
  },
  {
   "cell_type": "code",
   "execution_count": 13,
   "id": "a54c8236",
   "metadata": {},
   "outputs": [
    {
     "ename": "NameError",
     "evalue": "name 'student' is not defined",
     "output_type": "error",
     "traceback": [
      "\u001b[1;31m---------------------------------------------------------------------------\u001b[0m",
      "\u001b[1;31mNameError\u001b[0m                                 Traceback (most recent call last)",
      "\u001b[1;32m~\\AppData\\Local\\Temp\\ipykernel_6296\\2837240772.py\u001b[0m in \u001b[0;36m<module>\u001b[1;34m\u001b[0m\n\u001b[1;32m----> 1\u001b[1;33m \u001b[0mstudent\u001b[0m\u001b[1;33m\u001b[0m\u001b[1;33m\u001b[0m\u001b[0m\n\u001b[0m",
      "\u001b[1;31mNameError\u001b[0m: name 'student' is not defined"
     ]
    }
   ],
   "source": [
    "student"
   ]
  },
  {
   "cell_type": "code",
   "execution_count": null,
   "id": "d9307245",
   "metadata": {},
   "outputs": [],
   "source": []
  }
 ],
 "metadata": {
  "kernelspec": {
   "display_name": "Python 3 (ipykernel)",
   "language": "python",
   "name": "python3"
  },
  "language_info": {
   "codemirror_mode": {
    "name": "ipython",
    "version": 3
   },
   "file_extension": ".py",
   "mimetype": "text/x-python",
   "name": "python",
   "nbconvert_exporter": "python",
   "pygments_lexer": "ipython3",
   "version": "3.9.13"
  }
 },
 "nbformat": 4,
 "nbformat_minor": 5
}
