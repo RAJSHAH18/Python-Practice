{
 "cells": [
  {
   "cell_type": "code",
   "execution_count": 6,
   "id": "5ff851d2",
   "metadata": {},
   "outputs": [
    {
     "name": "stdout",
     "output_type": "stream",
     "text": [
      "hello world\n"
     ]
    }
   ],
   "source": [
    "# command mode:-when it is in blue in color\n",
    "# edit mode:-whemm it is in green in color\n",
    "# command mode to edit mode press enter or use mouse\n",
    "# edit mode to command mode press ESC\n",
    "# ctrl + enter os used to execute whol chunk of code written in the cell..\n",
    "# in[chamge number] it showing change\n",
    "# shift + enter will execute the code and move to next cell\n",
    "print(\"hello world\");"
   ]
  },
  {
   "cell_type": "code",
   "execution_count": 7,
   "id": "c99c64dc",
   "metadata": {},
   "outputs": [
    {
     "name": "stdout",
     "output_type": "stream",
     "text": [
      "hii\n"
     ]
    }
   ],
   "source": [
    "print(\"hii\");"
   ]
  },
  {
   "cell_type": "markdown",
   "id": "87e6888e",
   "metadata": {},
   "source": [
    "# Hello world"
   ]
  },
  {
   "cell_type": "markdown",
   "id": "c5216c84",
   "metadata": {},
   "source": [
    "### hello"
   ]
  },
  {
   "cell_type": "code",
   "execution_count": 12,
   "id": "7aeb77f4",
   "metadata": {},
   "outputs": [],
   "source": [
    "# To add any cell above this cell we can use \"a\" you sholud be in command mode\n",
    "# To add any cell below this cell we can use \"b\" you should be in command mode\n",
    "# dd is used to delete the cell"
   ]
  },
  {
   "cell_type": "markdown",
   "id": "ca2864f6",
   "metadata": {},
   "source": [
    "###### Hellooooooo"
   ]
  },
  {
   "cell_type": "markdown",
   "id": "fef365b7",
   "metadata": {},
   "source": [
    "# Markdown"
   ]
  },
  {
   "cell_type": "code",
   "execution_count": null,
   "id": "0783d1d3",
   "metadata": {},
   "outputs": [],
   "source": []
  }
 ],
 "metadata": {
  "kernelspec": {
   "display_name": "Python 3 (ipykernel)",
   "language": "python",
   "name": "python3"
  },
  "language_info": {
   "codemirror_mode": {
    "name": "ipython",
    "version": 3
   },
   "file_extension": ".py",
   "mimetype": "text/x-python",
   "name": "python",
   "nbconvert_exporter": "python",
   "pygments_lexer": "ipython3",
   "version": "3.9.13"
  }
 },
 "nbformat": 4,
 "nbformat_minor": 5
}
