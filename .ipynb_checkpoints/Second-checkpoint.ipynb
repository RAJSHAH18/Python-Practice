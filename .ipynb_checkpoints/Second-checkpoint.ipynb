{
 "cells": [
  {
   "cell_type": "markdown",
   "id": "8c3e02dc",
   "metadata": {},
   "source": [
    "# User Input"
   ]
  },
  {
   "cell_type": "code",
   "execution_count": 2,
   "id": "0bd86abe",
   "metadata": {},
   "outputs": [
    {
     "name": "stdout",
     "output_type": "stream",
     "text": [
      "10\n"
     ]
    },
    {
     "data": {
      "text/plain": [
       "'10'"
      ]
     },
     "execution_count": 2,
     "metadata": {},
     "output_type": "execute_result"
    }
   ],
   "source": [
    "# For User Input in python we used input keyword in python\n",
    "# input(\"Enter No:\")\n",
    "\n",
    "input()\n"
   ]
  },
  {
   "cell_type": "code",
   "execution_count": 2,
   "id": "86d5c74f",
   "metadata": {},
   "outputs": [
    {
     "name": "stdout",
     "output_type": "stream",
     "text": [
      "Enter Your Age :20\n"
     ]
    },
    {
     "data": {
      "text/plain": [
       "'20'"
      ]
     },
     "execution_count": 2,
     "metadata": {},
     "output_type": "execute_result"
    }
   ],
   "source": [
    "input(\"Enter Your Age :\")"
   ]
  },
  {
   "cell_type": "code",
   "execution_count": 3,
   "id": "408dff20",
   "metadata": {},
   "outputs": [
    {
     "name": "stdout",
     "output_type": "stream",
     "text": [
      "Enter Your Age :20\n"
     ]
    }
   ],
   "source": [
    "x = input(\"Enter Your Age :\")"
   ]
  },
  {
   "cell_type": "code",
   "execution_count": 4,
   "id": "67c286ea",
   "metadata": {},
   "outputs": [
    {
     "data": {
      "text/plain": [
       "'20'"
      ]
     },
     "execution_count": 4,
     "metadata": {},
     "output_type": "execute_result"
    }
   ],
   "source": [
    "x"
   ]
  },
  {
   "cell_type": "code",
   "execution_count": 5,
   "id": "87e66bb7",
   "metadata": {},
   "outputs": [
    {
     "data": {
      "text/plain": [
       "str"
      ]
     },
     "execution_count": 5,
     "metadata": {},
     "output_type": "execute_result"
    }
   ],
   "source": [
    "type(x)"
   ]
  },
  {
   "cell_type": "code",
   "execution_count": 6,
   "id": "bf7dceb3",
   "metadata": {},
   "outputs": [
    {
     "name": "stdout",
     "output_type": "stream",
     "text": [
      "Enter Your Age20\n"
     ]
    }
   ],
   "source": [
    "x = int(input(\"Enter Your Age\"))"
   ]
  },
  {
   "cell_type": "code",
   "execution_count": 7,
   "id": "fb960b57",
   "metadata": {},
   "outputs": [
    {
     "data": {
      "text/plain": [
       "20"
      ]
     },
     "execution_count": 7,
     "metadata": {},
     "output_type": "execute_result"
    }
   ],
   "source": [
    "x"
   ]
  },
  {
   "cell_type": "markdown",
   "id": "74027b5c",
   "metadata": {},
   "source": [
    "# Print Statement"
   ]
  },
  {
   "cell_type": "code",
   "execution_count": 8,
   "id": "17811746",
   "metadata": {},
   "outputs": [
    {
     "name": "stdout",
     "output_type": "stream",
     "text": [
      "20\n"
     ]
    }
   ],
   "source": [
    "# print statement is used to print anything\n",
    "print (x)"
   ]
  },
  {
   "cell_type": "code",
   "execution_count": 9,
   "id": "8f5bded1",
   "metadata": {},
   "outputs": [
    {
     "name": "stdout",
     "output_type": "stream",
     "text": [
      "40\n"
     ]
    }
   ],
   "source": [
    "print (20 + x)"
   ]
  },
  {
   "cell_type": "code",
   "execution_count": 10,
   "id": "a74f82b0",
   "metadata": {},
   "outputs": [
    {
     "name": "stdout",
     "output_type": "stream",
     "text": [
      "My Age Is : 20\n"
     ]
    }
   ],
   "source": [
    "print (\"My Age Is :\",x)"
   ]
  },
  {
   "cell_type": "code",
   "execution_count": 11,
   "id": "524898ff",
   "metadata": {},
   "outputs": [
    {
     "ename": "AttributeError",
     "evalue": "'str' object has no attribute 'x'",
     "output_type": "error",
     "traceback": [
      "\u001b[1;31m---------------------------------------------------------------------------\u001b[0m",
      "\u001b[1;31mAttributeError\u001b[0m                            Traceback (most recent call last)",
      "\u001b[1;32m~\\AppData\\Local\\Temp\\ipykernel_8064\\2602477033.py\u001b[0m in \u001b[0;36m<module>\u001b[1;34m\u001b[0m\n\u001b[1;32m----> 1\u001b[1;33m \u001b[0mprint\u001b[0m \u001b[1;33m(\u001b[0m\u001b[1;34m\"My Age is:\"\u001b[0m\u001b[1;33m.\u001b[0m\u001b[0mx\u001b[0m\u001b[1;33m)\u001b[0m\u001b[1;33m\u001b[0m\u001b[1;33m\u001b[0m\u001b[0m\n\u001b[0m",
      "\u001b[1;31mAttributeError\u001b[0m: 'str' object has no attribute 'x'"
     ]
    }
   ],
   "source": [
    "print (\"My Age is:\".x)"
   ]
  },
  {
   "cell_type": "code",
   "execution_count": 12,
   "id": "46937f17",
   "metadata": {},
   "outputs": [
    {
     "name": "stdout",
     "output_type": "stream",
     "text": [
      "Enter Age :20\n"
     ]
    }
   ],
   "source": [
    "sam = int(input(\"Enter Age :\"))"
   ]
  },
  {
   "cell_type": "code",
   "execution_count": 13,
   "id": "caed30f2",
   "metadata": {},
   "outputs": [],
   "source": [
    "father = sam + x"
   ]
  },
  {
   "cell_type": "code",
   "execution_count": 14,
   "id": "cf312dce",
   "metadata": {},
   "outputs": [
    {
     "name": "stdout",
     "output_type": "stream",
     "text": [
      "Sam is 20 years old And his father is 40 years old\n"
     ]
    }
   ],
   "source": [
    "print (\"Sam is\",sam,\"years old And his father is\",father,\"years old\")"
   ]
  },
  {
   "cell_type": "code",
   "execution_count": 15,
   "id": "d49f92ce",
   "metadata": {},
   "outputs": [
    {
     "name": "stdout",
     "output_type": "stream",
     "text": [
      "Sam is {sam} years old and father is {father} years old\n"
     ]
    }
   ],
   "source": [
    "print (\"Sam is {sam} years old and father is {father} years old\");"
   ]
  },
  {
   "cell_type": "code",
   "execution_count": 16,
   "id": "bf5e7d14",
   "metadata": {},
   "outputs": [
    {
     "ename": "NameError",
     "evalue": "name 'rint' is not defined",
     "output_type": "error",
     "traceback": [
      "\u001b[1;31m---------------------------------------------------------------------------\u001b[0m",
      "\u001b[1;31mNameError\u001b[0m                                 Traceback (most recent call last)",
      "\u001b[1;32m~\\AppData\\Local\\Temp\\ipykernel_8064\\3863616440.py\u001b[0m in \u001b[0;36m<module>\u001b[1;34m\u001b[0m\n\u001b[1;32m----> 1\u001b[1;33m \u001b[0mrint\u001b[0m \u001b[1;33m(\u001b[0m\u001b[1;34m\"Sam is {sam} years old and father is {father} years old\"\u001b[0m\u001b[1;33m.\u001b[0m\u001b[0mformat\u001b[0m\u001b[1;33m(\u001b[0m\u001b[0msam\u001b[0m\u001b[1;33m=\u001b[0m\u001b[0msam\u001b[0m\u001b[1;33m,\u001b[0m\u001b[0mfather\u001b[0m\u001b[1;33m=\u001b[0m\u001b[0mfather\u001b[0m\u001b[1;33m)\u001b[0m\u001b[1;33m)\u001b[0m\u001b[1;33m;\u001b[0m\u001b[1;33m\u001b[0m\u001b[1;33m\u001b[0m\u001b[0m\n\u001b[0m",
      "\u001b[1;31mNameError\u001b[0m: name 'rint' is not defined"
     ]
    }
   ],
   "source": [
    "rint (\"Sam is {sam} years old and father is {father} years old\".format(sam=sam,father=father));"
   ]
  },
  {
   "cell_type": "code",
   "execution_count": 17,
   "id": "81310261",
   "metadata": {},
   "outputs": [
    {
     "name": "stdout",
     "output_type": "stream",
     "text": [
      "Sam is 20 years old and father is 40 years old\n"
     ]
    }
   ],
   "source": [
    "print (\"Sam is {sam} years old and father is {father} years old\".format(sam=sam,father=father));"
   ]
  },
  {
   "cell_type": "code",
   "execution_count": 19,
   "id": "1d53a5b3",
   "metadata": {},
   "outputs": [
    {
     "name": "stdout",
     "output_type": "stream",
     "text": [
      "Sam is 20 years old and father is 40 years old\n"
     ]
    }
   ],
   "source": [
    "print (\"Sam is {a} years old and father is {b} years old\".format(a=sam,b=father));"
   ]
  },
  {
   "cell_type": "code",
   "execution_count": 20,
   "id": "7b3a8d2b",
   "metadata": {},
   "outputs": [
    {
     "ename": "IndexError",
     "evalue": "Replacement index 2 out of range for positional args tuple",
     "output_type": "error",
     "traceback": [
      "\u001b[1;31m---------------------------------------------------------------------------\u001b[0m",
      "\u001b[1;31mIndexError\u001b[0m                                Traceback (most recent call last)",
      "\u001b[1;32m~\\AppData\\Local\\Temp\\ipykernel_8064\\3349017347.py\u001b[0m in \u001b[0;36m<module>\u001b[1;34m\u001b[0m\n\u001b[1;32m----> 1\u001b[1;33m \u001b[0mprint\u001b[0m \u001b[1;33m(\u001b[0m\u001b[1;34m\"Sam is {1} years old and father is {2} years old\"\u001b[0m\u001b[1;33m.\u001b[0m\u001b[0mformat\u001b[0m\u001b[1;33m(\u001b[0m\u001b[0msam\u001b[0m\u001b[1;33m,\u001b[0m\u001b[0mfather\u001b[0m\u001b[1;33m)\u001b[0m\u001b[1;33m)\u001b[0m\u001b[1;33m;\u001b[0m\u001b[1;33m\u001b[0m\u001b[1;33m\u001b[0m\u001b[0m\n\u001b[0m",
      "\u001b[1;31mIndexError\u001b[0m: Replacement index 2 out of range for positional args tuple"
     ]
    }
   ],
   "source": [
    "print (\"Sam is {1} years old and father is {2} years old\".format(sam,father));"
   ]
  },
  {
   "cell_type": "code",
   "execution_count": 21,
   "id": "63db9549",
   "metadata": {},
   "outputs": [
    {
     "ename": "IndexError",
     "evalue": "Replacement index 2 out of range for positional args tuple",
     "output_type": "error",
     "traceback": [
      "\u001b[1;31m---------------------------------------------------------------------------\u001b[0m",
      "\u001b[1;31mIndexError\u001b[0m                                Traceback (most recent call last)",
      "\u001b[1;32m~\\AppData\\Local\\Temp\\ipykernel_8064\\537033680.py\u001b[0m in \u001b[0;36m<module>\u001b[1;34m\u001b[0m\n\u001b[1;32m----> 1\u001b[1;33m \u001b[0mprint\u001b[0m \u001b[1;33m(\u001b[0m\u001b[1;34m\"Sam is {0} years old and father is {2} years old\"\u001b[0m\u001b[1;33m.\u001b[0m\u001b[0mformat\u001b[0m\u001b[1;33m(\u001b[0m\u001b[0msam\u001b[0m\u001b[1;33m,\u001b[0m\u001b[0mfather\u001b[0m\u001b[1;33m)\u001b[0m\u001b[1;33m)\u001b[0m\u001b[1;33m;\u001b[0m\u001b[1;33m\u001b[0m\u001b[1;33m\u001b[0m\u001b[0m\n\u001b[0m",
      "\u001b[1;31mIndexError\u001b[0m: Replacement index 2 out of range for positional args tuple"
     ]
    }
   ],
   "source": [
    "print (\"Sam is {0} years old and father is {2} years old\".format(sam,father));"
   ]
  },
  {
   "cell_type": "code",
   "execution_count": 22,
   "id": "6d2844bd",
   "metadata": {},
   "outputs": [
    {
     "name": "stdout",
     "output_type": "stream",
     "text": [
      "Sam is 20 years old and father is 40 years old\n"
     ]
    }
   ],
   "source": [
    "print (\"Sam is {0} years old and father is {1} years old\".format(sam,father));"
   ]
  },
  {
   "cell_type": "code",
   "execution_count": 23,
   "id": "f0de22a8",
   "metadata": {},
   "outputs": [
    {
     "name": "stdout",
     "output_type": "stream",
     "text": [
      "Sam is 20 years old and father is 40 years old\n"
     ]
    }
   ],
   "source": [
    "print (\"Sam is {} years old and father is {} years old\".format(sam,father));"
   ]
  },
  {
   "cell_type": "code",
   "execution_count": 24,
   "id": "104256bd",
   "metadata": {},
   "outputs": [],
   "source": [
    "# print (\"Sam is {sam} years old and his father is {father} years old\".forrmat(sam=sam,father=father))\n",
    "# print (\"Sam is {a} years old and his father is {b} years old\".format(a=sam,b=father))\n",
    "# print (\"Sam is {0} years old and his father is {1} years old\".format(sam,father)\n",
    "# print (\"Sam is{} years old and his father is {} years old\".format(sam,father)\n",
    "# print (\"Sam is\",sam,\"years old and his fatther is\",father,\"years old\")"
   ]
  },
  {
   "cell_type": "code",
   "execution_count": 25,
   "id": "81f96595",
   "metadata": {},
   "outputs": [
    {
     "ename": "NameError",
     "evalue": "name 'a' is not defined",
     "output_type": "error",
     "traceback": [
      "\u001b[1;31m---------------------------------------------------------------------------\u001b[0m",
      "\u001b[1;31mNameError\u001b[0m                                 Traceback (most recent call last)",
      "\u001b[1;32m~\\AppData\\Local\\Temp\\ipykernel_8064\\789456645.py\u001b[0m in \u001b[0;36m<module>\u001b[1;34m\u001b[0m\n\u001b[1;32m----> 1\u001b[1;33m \u001b[0mprint\u001b[0m \u001b[1;33m(\u001b[0m\u001b[0ma\u001b[0m\u001b[1;33m)\u001b[0m\u001b[1;33m\u001b[0m\u001b[1;33m\u001b[0m\u001b[0m\n\u001b[0m",
      "\u001b[1;31mNameError\u001b[0m: name 'a' is not defined"
     ]
    }
   ],
   "source": [
    "print (a)"
   ]
  },
  {
   "cell_type": "code",
   "execution_count": 26,
   "id": "29e86c8d",
   "metadata": {},
   "outputs": [
    {
     "ename": "TypeError",
     "evalue": "can only concatenate str (not \"int\") to str",
     "output_type": "error",
     "traceback": [
      "\u001b[1;31m---------------------------------------------------------------------------\u001b[0m",
      "\u001b[1;31mTypeError\u001b[0m                                 Traceback (most recent call last)",
      "\u001b[1;32m~\\AppData\\Local\\Temp\\ipykernel_8064\\2561867545.py\u001b[0m in \u001b[0;36m<module>\u001b[1;34m\u001b[0m\n\u001b[1;32m----> 1\u001b[1;33m \u001b[0mprint\u001b[0m  \u001b[1;33m(\u001b[0m\u001b[1;34m\"Sam is \"\u001b[0m\u001b[1;33m+\u001b[0m\u001b[0msam\u001b[0m\u001b[1;33m+\u001b[0m\u001b[1;34m\" years old\"\u001b[0m\u001b[1;33m)\u001b[0m\u001b[1;33m\u001b[0m\u001b[1;33m\u001b[0m\u001b[0m\n\u001b[0m",
      "\u001b[1;31mTypeError\u001b[0m: can only concatenate str (not \"int\") to str"
     ]
    }
   ],
   "source": [
    "print  (\"Sam is \"+sam+\" years old\")"
   ]
  },
  {
   "cell_type": "code",
   "execution_count": 28,
   "id": "fcf52b66",
   "metadata": {},
   "outputs": [
    {
     "name": "stdout",
     "output_type": "stream",
     "text": [
      "Hello World\n"
     ]
    }
   ],
   "source": [
    "# \"+ operator is used to concate the strings \"\n",
    "print (\"Hello \"+ \"World\")\n"
   ]
  },
  {
   "cell_type": "markdown",
   "id": "3cda8677",
   "metadata": {},
   "source": [
    "# Indentation"
   ]
  },
  {
   "cell_type": "code",
   "execution_count": 29,
   "id": "24657728",
   "metadata": {},
   "outputs": [
    {
     "name": "stdout",
     "output_type": "stream",
     "text": [
      "Corrrect\n"
     ]
    }
   ],
   "source": [
    "x = 10;\n",
    "if (x>1):\n",
    "    print (\"Corrrect\")\n",
    "else:\n",
    "    print (\"Inncorrect\")\n"
   ]
  },
  {
   "cell_type": "code",
   "execution_count": 34,
   "id": "3cf1436f",
   "metadata": {},
   "outputs": [
    {
     "name": "stdout",
     "output_type": "stream",
     "text": [
      "1\n",
      "2\n",
      "3\n",
      "4\n"
     ]
    }
   ],
   "source": [
    "for i in range(0,5):\n",
    "    if (i>0):\n",
    "        print (i)"
   ]
  },
  {
   "cell_type": "markdown",
   "id": "eb8e8f69",
   "metadata": {},
   "source": [
    "# Assignment Operators"
   ]
  },
  {
   "cell_type": "code",
   "execution_count": 35,
   "id": "cc0d169e",
   "metadata": {},
   "outputs": [],
   "source": [
    "# It Is Used to assign value to variables\n",
    "# += =>x=x+10;x+=10\n",
    "# ,\n",
    "# -= => x=x-10;x-=10\n",
    "\n",
    "# ,\n",
    "# *= => x=x*10;x*=10\n",
    "\n",
    "# ,\n",
    "# /= => x=x/10;x/=10\n",
    "# ,\n",
    "# //= => x=x//10;x//=10\n",
    "# ,\n",
    "# **= => x=x**10;x**=10\n",
    "# ,\n",
    "# %= => x=x%10;x%=10"
   ]
  },
  {
   "cell_type": "code",
   "execution_count": 36,
   "id": "da25ee6a",
   "metadata": {},
   "outputs": [],
   "source": [
    "x = 5\n"
   ]
  },
  {
   "cell_type": "code",
   "execution_count": 37,
   "id": "7d8a857b",
   "metadata": {},
   "outputs": [
    {
     "data": {
      "text/plain": [
       "10"
      ]
     },
     "execution_count": 37,
     "metadata": {},
     "output_type": "execute_result"
    }
   ],
   "source": [
    "x += 5\n",
    "x\n"
   ]
  },
  {
   "cell_type": "code",
   "execution_count": 38,
   "id": "c07936cf",
   "metadata": {},
   "outputs": [
    {
     "data": {
      "text/plain": [
       "5"
      ]
     },
     "execution_count": 38,
     "metadata": {},
     "output_type": "execute_result"
    }
   ],
   "source": [
    "x -=5\n",
    "x"
   ]
  },
  {
   "cell_type": "code",
   "execution_count": 39,
   "id": "0ffab7db",
   "metadata": {},
   "outputs": [
    {
     "data": {
      "text/plain": [
       "25"
      ]
     },
     "execution_count": 39,
     "metadata": {},
     "output_type": "execute_result"
    }
   ],
   "source": [
    "x *=5\n",
    "x"
   ]
  },
  {
   "cell_type": "code",
   "execution_count": 40,
   "id": "2425f2f9",
   "metadata": {},
   "outputs": [
    {
     "data": {
      "text/plain": [
       "625"
      ]
     },
     "execution_count": 40,
     "metadata": {},
     "output_type": "execute_result"
    }
   ],
   "source": [
    "x **2"
   ]
  },
  {
   "cell_type": "code",
   "execution_count": 41,
   "id": "9857d8fb",
   "metadata": {},
   "outputs": [],
   "source": [
    "x /= 5"
   ]
  },
  {
   "cell_type": "code",
   "execution_count": 42,
   "id": "7c400718",
   "metadata": {},
   "outputs": [
    {
     "data": {
      "text/plain": [
       "5.0"
      ]
     },
     "execution_count": 42,
     "metadata": {},
     "output_type": "execute_result"
    }
   ],
   "source": [
    "x"
   ]
  },
  {
   "cell_type": "code",
   "execution_count": 43,
   "id": "55a24ad4",
   "metadata": {},
   "outputs": [
    {
     "data": {
      "text/plain": [
       "25.0"
      ]
     },
     "execution_count": 43,
     "metadata": {},
     "output_type": "execute_result"
    }
   ],
   "source": [
    "x *= 5\n",
    "x"
   ]
  },
  {
   "cell_type": "code",
   "execution_count": 44,
   "id": "4201cc5b",
   "metadata": {},
   "outputs": [],
   "source": [
    "x //= 5"
   ]
  },
  {
   "cell_type": "code",
   "execution_count": 45,
   "id": "c4cce61e",
   "metadata": {},
   "outputs": [
    {
     "data": {
      "text/plain": [
       "5.0"
      ]
     },
     "execution_count": 45,
     "metadata": {},
     "output_type": "execute_result"
    }
   ],
   "source": [
    "x"
   ]
  },
  {
   "cell_type": "code",
   "execution_count": 46,
   "id": "c8b70f58",
   "metadata": {},
   "outputs": [],
   "source": [
    "x = x //11"
   ]
  },
  {
   "cell_type": "code",
   "execution_count": 47,
   "id": "08812e99",
   "metadata": {},
   "outputs": [
    {
     "data": {
      "text/plain": [
       "0.0"
      ]
     },
     "execution_count": 47,
     "metadata": {},
     "output_type": "execute_result"
    }
   ],
   "source": [
    "x"
   ]
  },
  {
   "cell_type": "code",
   "execution_count": 48,
   "id": "3059ced9",
   "metadata": {},
   "outputs": [
    {
     "data": {
      "text/plain": [
       "0"
      ]
     },
     "execution_count": 48,
     "metadata": {},
     "output_type": "execute_result"
    }
   ],
   "source": [
    "x = 5\n",
    "x %=5\n",
    "x"
   ]
  },
  {
   "cell_type": "code",
   "execution_count": 51,
   "id": "0d1ac071",
   "metadata": {},
   "outputs": [
    {
     "data": {
      "text/plain": [
       "1"
      ]
     },
     "execution_count": 51,
     "metadata": {},
     "output_type": "execute_result"
    }
   ],
   "source": [
    "x = 11\n",
    "x %= 2\n",
    "x"
   ]
  },
  {
   "cell_type": "code",
   "execution_count": 52,
   "id": "df44568d",
   "metadata": {},
   "outputs": [],
   "source": [
    "x = 25\n",
    "x /=2"
   ]
  },
  {
   "cell_type": "code",
   "execution_count": 53,
   "id": "0a6d0cf3",
   "metadata": {},
   "outputs": [
    {
     "data": {
      "text/plain": [
       "12.5"
      ]
     },
     "execution_count": 53,
     "metadata": {},
     "output_type": "execute_result"
    }
   ],
   "source": [
    "x"
   ]
  },
  {
   "cell_type": "code",
   "execution_count": 54,
   "id": "01bacbc0",
   "metadata": {},
   "outputs": [
    {
     "data": {
      "text/plain": [
       "12"
      ]
     },
     "execution_count": 54,
     "metadata": {},
     "output_type": "execute_result"
    }
   ],
   "source": [
    "x = 25\n",
    "x //= 2\n",
    "x"
   ]
  },
  {
   "cell_type": "code",
   "execution_count": 55,
   "id": "53b49ac5",
   "metadata": {},
   "outputs": [],
   "source": [
    "x = x//2"
   ]
  },
  {
   "cell_type": "code",
   "execution_count": 56,
   "id": "643b4848",
   "metadata": {},
   "outputs": [
    {
     "data": {
      "text/plain": [
       "6"
      ]
     },
     "execution_count": 56,
     "metadata": {},
     "output_type": "execute_result"
    }
   ],
   "source": [
    "x"
   ]
  },
  {
   "cell_type": "code",
   "execution_count": 57,
   "id": "fabe1bb0",
   "metadata": {},
   "outputs": [
    {
     "data": {
      "text/plain": [
       "1"
      ]
     },
     "execution_count": 57,
     "metadata": {},
     "output_type": "execute_result"
    }
   ],
   "source": [
    "x //= 5\n",
    "x"
   ]
  },
  {
   "cell_type": "markdown",
   "id": "c8159f97",
   "metadata": {},
   "source": [
    "# Relational Operators"
   ]
  },
  {
   "cell_type": "code",
   "execution_count": 58,
   "id": "fd60859d",
   "metadata": {},
   "outputs": [
    {
     "data": {
      "text/plain": [
       "True"
      ]
     },
     "execution_count": 58,
     "metadata": {},
     "output_type": "execute_result"
    }
   ],
   "source": [
    "# <,>,>=,<=,==,!=\n",
    "10<20"
   ]
  },
  {
   "cell_type": "code",
   "execution_count": 59,
   "id": "64cb9eaa",
   "metadata": {},
   "outputs": [
    {
     "data": {
      "text/plain": [
       "True"
      ]
     },
     "execution_count": 59,
     "metadata": {},
     "output_type": "execute_result"
    }
   ],
   "source": [
    "10 > 7"
   ]
  },
  {
   "cell_type": "code",
   "execution_count": 60,
   "id": "9907fbe5",
   "metadata": {},
   "outputs": [
    {
     "data": {
      "text/plain": [
       "False"
      ]
     },
     "execution_count": 60,
     "metadata": {},
     "output_type": "execute_result"
    }
   ],
   "source": [
    "10 > 20\n"
   ]
  },
  {
   "cell_type": "code",
   "execution_count": 61,
   "id": "180de2c8",
   "metadata": {},
   "outputs": [
    {
     "data": {
      "text/plain": [
       "True"
      ]
     },
     "execution_count": 61,
     "metadata": {},
     "output_type": "execute_result"
    }
   ],
   "source": [
    "10 == 10"
   ]
  },
  {
   "cell_type": "code",
   "execution_count": 62,
   "id": "407a1e67",
   "metadata": {},
   "outputs": [
    {
     "data": {
      "text/plain": [
       "True"
      ]
     },
     "execution_count": 62,
     "metadata": {},
     "output_type": "execute_result"
    }
   ],
   "source": [
    "10 >= 10"
   ]
  },
  {
   "cell_type": "code",
   "execution_count": 63,
   "id": "e05f8a06",
   "metadata": {},
   "outputs": [
    {
     "data": {
      "text/plain": [
       "True"
      ]
     },
     "execution_count": 63,
     "metadata": {},
     "output_type": "execute_result"
    }
   ],
   "source": [
    "10 <= 20"
   ]
  },
  {
   "cell_type": "code",
   "execution_count": 64,
   "id": "e596c90e",
   "metadata": {},
   "outputs": [
    {
     "data": {
      "text/plain": [
       "True"
      ]
     },
     "execution_count": 64,
     "metadata": {},
     "output_type": "execute_result"
    }
   ],
   "source": [
    "10 != 12"
   ]
  },
  {
   "cell_type": "code",
   "execution_count": 65,
   "id": "d722d2dc",
   "metadata": {},
   "outputs": [
    {
     "data": {
      "text/plain": [
       "False"
      ]
     },
     "execution_count": 65,
     "metadata": {},
     "output_type": "execute_result"
    }
   ],
   "source": [
    "10 != 10"
   ]
  },
  {
   "cell_type": "markdown",
   "id": "4cec7921",
   "metadata": {},
   "source": [
    "# Logical Operators"
   ]
  },
  {
   "cell_type": "code",
   "execution_count": 67,
   "id": "f1f47a64",
   "metadata": {},
   "outputs": [
    {
     "data": {
      "text/plain": [
       "False"
      ]
     },
     "execution_count": 67,
     "metadata": {},
     "output_type": "execute_result"
    }
   ],
   "source": [
    "# & |\n",
    "10 == 10 &12 !=10"
   ]
  },
  {
   "cell_type": "code",
   "execution_count": 68,
   "id": "3b515de6",
   "metadata": {},
   "outputs": [
    {
     "data": {
      "text/plain": [
       "True"
      ]
     },
     "execution_count": 68,
     "metadata": {},
     "output_type": "execute_result"
    }
   ],
   "source": [
    "x = 10;\n",
    "(x > 0)|(x <=10)"
   ]
  },
  {
   "cell_type": "code",
   "execution_count": null,
   "id": "b1ae00f9",
   "metadata": {},
   "outputs": [],
   "source": []
  }
 ],
 "metadata": {
  "kernelspec": {
   "display_name": "Python 3 (ipykernel)",
   "language": "python",
   "name": "python3"
  },
  "language_info": {
   "codemirror_mode": {
    "name": "ipython",
    "version": 3
   },
   "file_extension": ".py",
   "mimetype": "text/x-python",
   "name": "python",
   "nbconvert_exporter": "python",
   "pygments_lexer": "ipython3",
   "version": "3.9.13"
  }
 },
 "nbformat": 4,
 "nbformat_minor": 5
}
