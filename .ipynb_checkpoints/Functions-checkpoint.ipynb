{
 "cells": [
  {
   "cell_type": "markdown",
   "id": "e65cb99b",
   "metadata": {},
   "source": [
    "# Function"
   ]
  },
  {
   "cell_type": "code",
   "execution_count": 1,
   "id": "1dcc599f",
   "metadata": {},
   "outputs": [],
   "source": [
    "# Function is reusable block of code that are used to perform a specific task\n",
    "# Python has numerous in-built functions like len(),abs(),max(),etc...and user can also define their own function\n",
    "# Syntax\n",
    "# def functionname(args):\n",
    "#   statements\n",
    "#   return\n",
    "# Function need to defined before calling\n",
    "# calling a function : functionname(args)\n"
   ]
  },
  {
   "cell_type": "code",
   "execution_count": 3,
   "id": "5bae4ee4",
   "metadata": {},
   "outputs": [
    {
     "name": "stdout",
     "output_type": "stream",
     "text": [
      "Enter A Number : 5\n",
      "The square of 5 is :- 25\n"
     ]
    }
   ],
   "source": [
    "def square(x):\n",
    "    y = x**2\n",
    "    return y\n",
    "x = int(input(\"Enter A Number : \"))\n",
    "ans = square(x)\n",
    "print(\"The square of {} is :- {}\".format(x,ans))"
   ]
  },
  {
   "cell_type": "code",
   "execution_count": 4,
   "id": "a1e3fe94",
   "metadata": {},
   "outputs": [
    {
     "name": "stdout",
     "output_type": "stream",
     "text": [
      "Enter a number :5\n",
      "The Cube of 5 is 125\n"
     ]
    }
   ],
   "source": [
    "def cube(x):\n",
    "    x = x**3\n",
    "    return x\n",
    "x = int(input(\"Enter a number :\"))\n",
    "ans  = cube(x)\n",
    "print(\"The Cube of\",x,\"is\",ans)"
   ]
  },
  {
   "cell_type": "code",
   "execution_count": 9,
   "id": "6325c799",
   "metadata": {},
   "outputs": [],
   "source": [
    "def addition():\n",
    "    x = int(input(\"Enter 1st number :-\"))\n",
    "    y = int(input(\"Enter 2nd number :-\"))\n",
    "    add=x+y\n",
    "    print(\"The addition of {0} and {1} is :- {2}\".format(x,y,add))\n",
    "    \n"
   ]
  },
  {
   "cell_type": "code",
   "execution_count": 10,
   "id": "08d2ab26",
   "metadata": {},
   "outputs": [
    {
     "name": "stdout",
     "output_type": "stream",
     "text": [
      "Enter 1st number :-5\n",
      "Enter 2nd number :-5\n",
      "The addition of 5 and 5 is :- 10\n"
     ]
    }
   ],
   "source": [
    "addition()"
   ]
  },
  {
   "cell_type": "code",
   "execution_count": 13,
   "id": "e606ffee",
   "metadata": {},
   "outputs": [],
   "source": [
    "def addMul(x,y,z):\n",
    "    add = x+y++z\n",
    "    mul = x*y*z\n",
    "    print(\"Addition is \",add)\n",
    "    print(\"Multiplication is\",mul)\n",
    "    "
   ]
  },
  {
   "cell_type": "code",
   "execution_count": 14,
   "id": "ab99f932",
   "metadata": {},
   "outputs": [
    {
     "name": "stdout",
     "output_type": "stream",
     "text": [
      "Addition is  10\n",
      "Multiplication is 30\n"
     ]
    }
   ],
   "source": [
    "addMul(2,3,5)"
   ]
  },
  {
   "cell_type": "markdown",
   "id": "a6d97106",
   "metadata": {},
   "source": [
    "# Returning multiple statement"
   ]
  },
  {
   "cell_type": "code",
   "execution_count": 15,
   "id": "36f105e4",
   "metadata": {},
   "outputs": [],
   "source": [
    "def addMul(x,y,z):\n",
    "    add = x+y++z\n",
    "    mul = x*y*z\n",
    "    return(add,mul)"
   ]
  },
  {
   "cell_type": "code",
   "execution_count": 16,
   "id": "68ecb799",
   "metadata": {},
   "outputs": [
    {
     "data": {
      "text/plain": [
       "(60, 6000)"
      ]
     },
     "execution_count": 16,
     "metadata": {},
     "output_type": "execute_result"
    }
   ],
   "source": [
    "addMul(10,20,30)"
   ]
  },
  {
   "cell_type": "code",
   "execution_count": 19,
   "id": "bc0da29b",
   "metadata": {},
   "outputs": [],
   "source": [
    "def addMul(x,y,z):\n",
    "    add = x+y++z\n",
    "    mul = x*y*z\n",
    "    add = \"Addition is \",add\n",
    "    mul = \"Multiplication is \",mul\n",
    "    return(add,mul)"
   ]
  },
  {
   "cell_type": "code",
   "execution_count": 20,
   "id": "7f60ec46",
   "metadata": {},
   "outputs": [
    {
     "data": {
      "text/plain": [
       "(('Addition is ', 10), ('Multiplication is ', 30))"
      ]
     },
     "execution_count": 20,
     "metadata": {},
     "output_type": "execute_result"
    }
   ],
   "source": [
    "addMul(2,3,5)"
   ]
  },
  {
   "cell_type": "code",
   "execution_count": 21,
   "id": "5c25c960",
   "metadata": {},
   "outputs": [
    {
     "data": {
      "text/plain": [
       "tuple"
      ]
     },
     "execution_count": 21,
     "metadata": {},
     "output_type": "execute_result"
    }
   ],
   "source": [
    "type(addMul(2,3,5))"
   ]
  },
  {
   "cell_type": "markdown",
   "id": "4c722d54",
   "metadata": {},
   "source": [
    "# To get multiple arguements return as lists "
   ]
  },
  {
   "cell_type": "code",
   "execution_count": 22,
   "id": "0a281116",
   "metadata": {},
   "outputs": [],
   "source": [
    "def addMul(x,y,z):\n",
    "    add = x+y++z\n",
    "    mul = x*y*z\n",
    "    add = \"Addition is \",add\n",
    "    mul = \"Multiplication is \",mul\n",
    "    return([add,mul])"
   ]
  },
  {
   "cell_type": "code",
   "execution_count": 23,
   "id": "3fdcb8f7",
   "metadata": {},
   "outputs": [
    {
     "data": {
      "text/plain": [
       "list"
      ]
     },
     "execution_count": 23,
     "metadata": {},
     "output_type": "execute_result"
    }
   ],
   "source": [
    "type(addMul(2,3,5))"
   ]
  },
  {
   "cell_type": "code",
   "execution_count": 24,
   "id": "b1da1fa3",
   "metadata": {},
   "outputs": [
    {
     "data": {
      "text/plain": [
       "[('Addition is ', 10), ('Multiplication is ', 30)]"
      ]
     },
     "execution_count": 24,
     "metadata": {},
     "output_type": "execute_result"
    }
   ],
   "source": [
    "addMul(2,3,5)"
   ]
  },
  {
   "cell_type": "markdown",
   "id": "a2f29a3b",
   "metadata": {},
   "source": [
    "# Factorial using function"
   ]
  },
  {
   "cell_type": "code",
   "execution_count": 38,
   "id": "08888ae0",
   "metadata": {},
   "outputs": [],
   "source": [
    "\n",
    "def factorial(x):\n",
    "    z = 1\n",
    "    for i in range(1,x+1):\n",
    "        z =z * i\n",
    "#         print(z,i)\n",
    "    return z"
   ]
  },
  {
   "cell_type": "code",
   "execution_count": 39,
   "id": "fc63bdb1",
   "metadata": {},
   "outputs": [
    {
     "name": "stdout",
     "output_type": "stream",
     "text": [
      "The Facotrial is 120\n"
     ]
    }
   ],
   "source": [
    "ans = factorial(5)\n",
    "print(\"The Facotrial is {}\".format(ans))"
   ]
  },
  {
   "cell_type": "markdown",
   "id": "f0465602",
   "metadata": {},
   "source": [
    "# Recursive function"
   ]
  },
  {
   "cell_type": "code",
   "execution_count": 40,
   "id": "d5d5d7a3",
   "metadata": {},
   "outputs": [],
   "source": [
    "# A Recursive function is a function that can be called itself directly or indirectly\n"
   ]
  },
  {
   "cell_type": "code",
   "execution_count": 41,
   "id": "01c61461",
   "metadata": {},
   "outputs": [],
   "source": [
    "# Example of facotrial of a number using recursive function "
   ]
  },
  {
   "cell_type": "code",
   "execution_count": 48,
   "id": "df77e2d7",
   "metadata": {},
   "outputs": [],
   "source": [
    "def factorial(x): \n",
    "    if (x==1):\n",
    "        return 1\n",
    "    else:\n",
    "        return x*factorial(x-1)\n",
    "    "
   ]
  },
  {
   "cell_type": "code",
   "execution_count": 49,
   "id": "14a0a15e",
   "metadata": {},
   "outputs": [
    {
     "name": "stdout",
     "output_type": "stream",
     "text": [
      "Enter A number : 5\n",
      "The factorial is :- 120\n"
     ]
    }
   ],
   "source": [
    "ans = factorial(int(input(\"Enter A number : \")))\n",
    "print (\"The factorial is :-\",ans)"
   ]
  },
  {
   "cell_type": "markdown",
   "id": "5b2865c8",
   "metadata": {},
   "source": [
    "# Fibonaccci series"
   ]
  },
  {
   "cell_type": "code",
   "execution_count": 1,
   "id": "fd9d94e4",
   "metadata": {},
   "outputs": [],
   "source": [
    "def fibonacci(x):\n",
    "    if(x == 1):\n",
    "        return 0\n",
    "    elif(x == 2):\n",
    "        return 1\n",
    "    else:\n",
    "        return fibonacci(x-1) + fibonacci(x-2)"
   ]
  },
  {
   "cell_type": "code",
   "execution_count": 3,
   "id": "021e4893",
   "metadata": {},
   "outputs": [
    {
     "name": "stdout",
     "output_type": "stream",
     "text": [
      "Enter a number5\n",
      "The Fibonacci series of 5 numbers is [0, 1, 1, 2, 3]\n"
     ]
    }
   ],
   "source": [
    "x = int(input(\"Enter a number\"))\n",
    "l1 = []\n",
    "for i in range(1,x+1):\n",
    "    l1.append(fibonacci(i))\n"
   ]
  },
  {
   "cell_type": "code",
   "execution_count": 10,
   "id": "3e0a8593",
   "metadata": {},
   "outputs": [
    {
     "ename": "TypeError",
     "evalue": "'str' object is not callable",
     "output_type": "error",
     "traceback": [
      "\u001b[1;31m---------------------------------------------------------------------------\u001b[0m",
      "\u001b[1;31mTypeError\u001b[0m                                 Traceback (most recent call last)",
      "\u001b[1;32m~\\AppData\\Local\\Temp\\ipykernel_18460\\349065770.py\u001b[0m in \u001b[0;36m<module>\u001b[1;34m\u001b[0m\n\u001b[0;32m      2\u001b[0m \u001b[0mstr1\u001b[0m \u001b[1;33m=\u001b[0m \u001b[1;34m\"\"\u001b[0m\u001b[1;33m\u001b[0m\u001b[1;33m\u001b[0m\u001b[0m\n\u001b[0;32m      3\u001b[0m \u001b[1;32mfor\u001b[0m  \u001b[0mi\u001b[0m \u001b[1;32min\u001b[0m \u001b[0ml1\u001b[0m\u001b[1;33m:\u001b[0m\u001b[1;33m\u001b[0m\u001b[1;33m\u001b[0m\u001b[0m\n\u001b[1;32m----> 4\u001b[1;33m     \u001b[0mstr1\u001b[0m \u001b[1;33m=\u001b[0m \u001b[0mstr1\u001b[0m \u001b[1;33m+\u001b[0m \u001b[1;34m\" \"\u001b[0m \u001b[1;33m+\u001b[0m \u001b[0mstr\u001b[0m\u001b[1;33m(\u001b[0m\u001b[0mi\u001b[0m\u001b[1;33m)\u001b[0m\u001b[1;33m\u001b[0m\u001b[1;33m\u001b[0m\u001b[0m\n\u001b[0m\u001b[0;32m      5\u001b[0m \u001b[0mprint\u001b[0m\u001b[1;33m(\u001b[0m\u001b[0mstr1\u001b[0m\u001b[1;33m)\u001b[0m\u001b[1;33m\u001b[0m\u001b[1;33m\u001b[0m\u001b[0m\n\u001b[0;32m      6\u001b[0m \u001b[1;31m# print (\"The Fibonacci series of {} numbers is {}\".format(x,str1))\u001b[0m\u001b[1;33m\u001b[0m\u001b[1;33m\u001b[0m\u001b[0m\n",
      "\u001b[1;31mTypeError\u001b[0m: 'str' object is not callable"
     ]
    }
   ],
   "source": [
    "# Printing list element in string\n",
    "str1 = \"\"\n",
    "for  i in l1:\n",
    "    str1 = str1 + \" \" + str(i)\n",
    "print(str1)\n",
    "# print (\"The Fibonacci series of {} numbers is {}\".format(x,str1))    "
   ]
  },
  {
   "cell_type": "code",
   "execution_count": null,
   "id": "2de9142c",
   "metadata": {},
   "outputs": [],
   "source": []
  }
 ],
 "metadata": {
  "kernelspec": {
   "display_name": "Python 3 (ipykernel)",
   "language": "python",
   "name": "python3"
  },
  "language_info": {
   "codemirror_mode": {
    "name": "ipython",
    "version": 3
   },
   "file_extension": ".py",
   "mimetype": "text/x-python",
   "name": "python",
   "nbconvert_exporter": "python",
   "pygments_lexer": "ipython3",
   "version": "3.9.13"
  }
 },
 "nbformat": 4,
 "nbformat_minor": 5
}
