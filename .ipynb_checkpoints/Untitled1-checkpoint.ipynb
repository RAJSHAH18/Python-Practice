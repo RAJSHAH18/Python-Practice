{
 "cells": [
  {
   "cell_type": "code",
   "execution_count": 1,
   "id": "85d13868",
   "metadata": {},
   "outputs": [
    {
     "ename": "TypeError",
     "evalue": "'str' object does not support item assignment",
     "output_type": "error",
     "traceback": [
      "\u001b[1;31m---------------------------------------------------------------------------\u001b[0m",
      "\u001b[1;31mTypeError\u001b[0m                                 Traceback (most recent call last)",
      "\u001b[1;32m~\\AppData\\Local\\Temp\\ipykernel_16776\\1832037801.py\u001b[0m in \u001b[0;36m<module>\u001b[1;34m\u001b[0m\n\u001b[0;32m      1\u001b[0m \u001b[0mstring\u001b[0m \u001b[1;33m=\u001b[0m \u001b[1;34m\"h1\"\u001b[0m\u001b[1;33m\u001b[0m\u001b[1;33m\u001b[0m\u001b[0m\n\u001b[1;32m----> 2\u001b[1;33m \u001b[0mstring\u001b[0m\u001b[1;33m[\u001b[0m\u001b[1;36m0\u001b[0m\u001b[1;33m]\u001b[0m \u001b[1;33m=\u001b[0m \u001b[1;34m'1'\u001b[0m\u001b[1;33m\u001b[0m\u001b[1;33m\u001b[0m\u001b[0m\n\u001b[0m\u001b[0;32m      3\u001b[0m \u001b[1;31m# string[1] = '0'\u001b[0m\u001b[1;33m\u001b[0m\u001b[1;33m\u001b[0m\u001b[0m\n\u001b[0;32m      4\u001b[0m \u001b[0mprint\u001b[0m\u001b[1;33m(\u001b[0m\u001b[0mstring\u001b[0m\u001b[1;33m[\u001b[0m\u001b[1;36m0\u001b[0m\u001b[1;33m]\u001b[0m\u001b[1;33m)\u001b[0m\u001b[1;33m\u001b[0m\u001b[1;33m\u001b[0m\u001b[0m\n",
      "\u001b[1;31mTypeError\u001b[0m: 'str' object does not support item assignment"
     ]
    }
   ],
   "source": [
    "string = \"h1\"\n",
    "string[0] = '1'\n",
    "# string[1] = '0'\n",
    "print(string[0])"
   ]
  },
  {
   "cell_type": "code",
   "execution_count": null,
   "id": "cab1beb9",
   "metadata": {},
   "outputs": [],
   "source": [
    "l1[1]='0'\n",
    "l1[2]='1'\n",
    "print(l1)"
   ]
  },
  {
   "cell_type": "code",
   "execution_count": 12,
   "id": "13eb9b9c",
   "metadata": {},
   "outputs": [
    {
     "name": "stdout",
     "output_type": "stream",
     "text": [
      "dlrowoll\n"
     ]
    }
   ],
   "source": [
    "string = \"Helloworld\"\n",
    "s = string[-1:1:-1]\n",
    "print(s)"
   ]
  },
  {
   "cell_type": "markdown",
   "id": "1b8c3b7f",
   "metadata": {},
   "source": [
    "# Q.6 Take input of any number and generate all possible binary strings. Example :\n",
    "# Input no: 2\n",
    "# Output:\n",
    "# Binary Strings : 00 10 10 11"
   ]
  },
  {
   "cell_type": "code",
   "execution_count": 2,
   "id": "77418153",
   "metadata": {},
   "outputs": [
    {
     "name": "stdout",
     "output_type": "stream",
     "text": [
      "0b1000\n",
      "000\n",
      "0b1001\n",
      "001\n",
      "0b1010\n",
      "010\n",
      "0b1011\n",
      "011\n",
      "0b1100\n",
      "100\n",
      "0b1101\n",
      "101\n",
      "0b1110\n",
      "110\n",
      "0b1111\n",
      "111\n"
     ]
    }
   ],
   "source": [
    "n = 3\n",
    "for i in range(2**n,2**(n+1)):\n",
    "    print(bin(i))\n",
    "    print(bin(i)[3:])"
   ]
  },
  {
   "cell_type": "code",
   "execution_count": 4,
   "id": "9a76797a",
   "metadata": {},
   "outputs": [
    {
     "name": "stdout",
     "output_type": "stream",
     "text": [
      "1\n"
     ]
    }
   ],
   "source": [
    "a = [1,2]\n",
    "b,c = a\n",
    "print(b)"
   ]
  },
  {
   "cell_type": "code",
   "execution_count": 7,
   "id": "9b0ce546",
   "metadata": {},
   "outputs": [
    {
     "name": "stdout",
     "output_type": "stream",
     "text": [
      "The Max value of the list :  400\n"
     ]
    }
   ],
   "source": [
    "list = [2,89,400,5,6]\n",
    "max =list[0]  # here we set value \n",
    "\n",
    "for x in list:\n",
    "    if x > max:\n",
    "        max = x\n",
    "print(\"The Max value of the list : \", max)"
   ]
  },
  {
   "cell_type": "code",
   "execution_count": 9,
   "id": "3b37e087",
   "metadata": {},
   "outputs": [
    {
     "name": "stdout",
     "output_type": "stream",
     "text": [
      "The list is empty\n"
     ]
    }
   ],
   "source": [
    "list = []\n",
    "if not list:\n",
    "    print(\"The list is empty\")\n",
    "else:\n",
    "    print(\"The list is not empty !\")"
   ]
  },
  {
   "cell_type": "code",
   "execution_count": null,
   "id": "4c1beab3",
   "metadata": {},
   "outputs": [],
   "source": []
  }
 ],
 "metadata": {
  "kernelspec": {
   "display_name": "Python 3 (ipykernel)",
   "language": "python",
   "name": "python3"
  },
  "language_info": {
   "codemirror_mode": {
    "name": "ipython",
    "version": 3
   },
   "file_extension": ".py",
   "mimetype": "text/x-python",
   "name": "python",
   "nbconvert_exporter": "python",
   "pygments_lexer": "ipython3",
   "version": "3.9.13"
  }
 },
 "nbformat": 4,
 "nbformat_minor": 5
}
