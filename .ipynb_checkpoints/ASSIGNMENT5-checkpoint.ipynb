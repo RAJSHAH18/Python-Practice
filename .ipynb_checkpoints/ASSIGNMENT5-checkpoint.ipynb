{
 "cells": [
  {
   "cell_type": "code",
   "execution_count": null,
   "metadata": {},
   "outputs": [],
   "source": [
    "# NAME :- RAJ JIGNESHBHAI SHAH\n",
    "# ENROLLMENT NO :- SR21BSIT156\n",
    "# PC NO :- 76\n",
    "# SUBJECT :- PYTHON\n",
    "# FACULTY :- YESHA MA'AM \n",
    "# DATE :- 24-02-2023\n",
    "# Aim: To learn array operation in python\n",
    "# ASSIGNEMENT NO :- 5"
   ]
  },
  {
   "cell_type": "code",
   "execution_count": 11,
   "metadata": {
    "colab": {
     "base_uri": "https://localhost:8080/"
    },
    "executionInfo": {
     "elapsed": 619,
     "status": "ok",
     "timestamp": 1677271160153,
     "user": {
      "displayName": "Sahid Midda",
      "userId": "12629449057452271130"
     },
     "user_tz": -330
    },
    "id": "MB3209zXfoUG",
    "outputId": "2d7f921c-8922-4beb-d13e-2cc8c7d33090"
   },
   "outputs": [
    {
     "name": "stdout",
     "output_type": "stream",
     "text": [
      "Orginal array:  [5 8 2 9 1]\n",
      "Array items at different indexces are :  [5 8 2 9 1]\n"
     ]
    }
   ],
   "source": [
    "\n",
    "# Q.1 Write a Python code to create an array of 5 integers and display the array items. Access individual element through indexes. \n",
    "\n",
    "# from array import *\n",
    "import numpy as np\n",
    "num_list1 = [5,8,2,9,1]\n",
    "arr1 = np.array(num_list1)\n",
    "print('Orginal array: ',arr1)\n",
    "# print('Array item at index 3: ',arr1[3])\n",
    "print('Array items at different indexces are : ',arr1[0:len(arr1)])\n"
   ]
  },
  {
   "cell_type": "code",
   "execution_count": 2,
   "metadata": {
    "colab": {
     "base_uri": "https://localhost:8080/"
    },
    "executionInfo": {
     "elapsed": 412,
     "status": "ok",
     "timestamp": 1677271188233,
     "user": {
      "displayName": "Sahid Midda",
      "userId": "12629449057452271130"
     },
     "user_tz": -330
    },
    "id": "1h0546eSJVaL",
    "outputId": "8191ae24-3f6c-479e-9a34-62b48d02595c"
   },
   "outputs": [
    {
     "name": "stdout",
     "output_type": "stream",
     "text": [
      "Original array:  array('i', [5, 8, 2, 9, 1])\n",
      "Reversed array:  array('i', [1, 9, 2, 8, 5])\n"
     ]
    }
   ],
   "source": [
    "# Q.2 Write a Python code to reverse the order of the items in the array.\n",
    "\n",
    "from array import *\n",
    "\n",
    "num_list1 = [5,8,2,9,1]\n",
    "arr1 = array('i',num_list1)\n",
    "print('Original array: ',arr1)  \n",
    "arr1.reverse()                    #or print(arr1[::-1])\n",
    "print('Reversed array: ',arr1)\n"
   ]
  },
  {
   "cell_type": "code",
   "execution_count": 3,
   "metadata": {
    "colab": {
     "base_uri": "https://localhost:8080/"
    },
    "executionInfo": {
     "elapsed": 424,
     "status": "ok",
     "timestamp": 1677271193551,
     "user": {
      "displayName": "Sahid Midda",
      "userId": "12629449057452271130"
     },
     "user_tz": -330
    },
    "id": "X8EWpy8ryLAo",
    "outputId": "e4812e23-fa7e-4c9d-d2d7-e0a8d364aeaa"
   },
   "outputs": [
    {
     "name": "stdout",
     "output_type": "stream",
     "text": [
      "Original array:  array('i', [5, 9, 6, 3, 5, 8, 2, 5, 4, 5, 1])\n",
      "No. of occurences of (5) in above array:  4\n"
     ]
    }
   ],
   "source": [
    "# Q.3 Write a Python code to get the number of occurrences of a specified element in an array. \n",
    "\n",
    "num_list2 = [5,9,6,3,5,8,2,5,4,5,1]\n",
    "arr2 = array(\"i\",num_list2)\n",
    "print('Original array: ',arr2)\n",
    "print('No. of occurences of (5) in above array: ',arr2.count(5))"
   ]
  },
  {
   "cell_type": "code",
   "execution_count": 4,
   "metadata": {
    "colab": {
     "base_uri": "https://localhost:8080/"
    },
    "executionInfo": {
     "elapsed": 542,
     "status": "ok",
     "timestamp": 1677271222346,
     "user": {
      "displayName": "Sahid Midda",
      "userId": "12629449057452271130"
     },
     "user_tz": -330
    },
    "id": "lyjqIzgLhd6-",
    "outputId": "91874510-bd57-47aa-e9c0-fc4aca3f1960"
   },
   "outputs": [
    {
     "name": "stdout",
     "output_type": "stream",
     "text": [
      "Original array:  array('i', [5, 9, 6, 3, 5, 8, 2, 5, 4, 5, 1])\n",
      "Array after sorting (BubbleSort):  array('i', [1, 2, 3, 4, 5, 5, 5, 5, 6, 8, 9])\n"
     ]
    }
   ],
   "source": [
    "# Moderate:\n",
    "# Q.4 Write a python program to sort array with any sorting algorithm.(e.g. bubble sort, quicksort)\n",
    "\n",
    "num_list2 = [5,9,6,3,5,8,2,5,4,5,1]\n",
    "arr2 = array(\"i\",num_list2)\n",
    "\n",
    "def myBubbleSort(arr):\n",
    "  n = len(arr)\n",
    "  for i in range(n):\n",
    "    for j in range(0,n-i-1):\n",
    "      if arr[j] > arr[j+1]:\n",
    "        arr[j],arr[j+1] = arr[j+1],arr[j]\n",
    "\n",
    "print('Original array: ',arr2)\n",
    "myBubbleSort(arr2)\n",
    "print(\"Array after sorting (BubbleSort): \", arr2)"
   ]
  },
  {
   "cell_type": "code",
   "execution_count": 5,
   "metadata": {
    "colab": {
     "base_uri": "https://localhost:8080/"
    },
    "executionInfo": {
     "elapsed": 398,
     "status": "ok",
     "timestamp": 1677271280729,
     "user": {
      "displayName": "Sahid Midda",
      "userId": "12629449057452271130"
     },
     "user_tz": -330
    },
    "id": "haf4SUJH-KrI",
    "outputId": "65422042-4ffd-4802-a3c7-3b1c6d2b21b5"
   },
   "outputs": [
    {
     "name": "stdout",
     "output_type": "stream",
     "text": [
      "[[1 2 3]\n",
      " [4 5 6]\n",
      " [7 8 9]]\n"
     ]
    }
   ],
   "source": [
    "# Note: question left to be solved\n",
    "# Q.5 Write a python program to convert 2-D 3*3 matrix values in to zero to one. \n",
    "\n",
    "import numpy as np\n",
    "x =  np.arange(1,10).reshape(3,3)\n",
    "print(x)\n"
   ]
  },
  {
   "cell_type": "code",
   "execution_count": 6,
   "metadata": {
    "colab": {
     "base_uri": "https://localhost:8080/"
    },
    "executionInfo": {
     "elapsed": 446,
     "status": "ok",
     "timestamp": 1677271295974,
     "user": {
      "displayName": "Sahid Midda",
      "userId": "12629449057452271130"
     },
     "user_tz": -330
    },
    "id": "5rg_-oJ5Bnq1",
    "outputId": "da839923-7185-49f7-bf70-55045447130a"
   },
   "outputs": [
    {
     "name": "stdout",
     "output_type": "stream",
     "text": [
      "Original 3*3 matrix: \n",
      "[[ 1 -5  3]\n",
      " [-8  6  0]\n",
      " [-2  4 -9]]\n",
      "\n",
      "Determinant of above matrix:  245.99999999999991\n",
      "\n",
      "Inverse: \n",
      "[[-0.2195122  -0.13414634 -0.07317073]\n",
      " [-0.29268293 -0.01219512 -0.09756098]\n",
      " [-0.08130081  0.02439024 -0.13821138]]\n"
     ]
    }
   ],
   "source": [
    "# Q.6 Write a python program to create inverse of 3*3 matrix. \n",
    "\n",
    "import numpy as np\n",
    "from numpy import linalg as LA\n",
    "\n",
    "myMatrix = np.array([[1,-5,3],[-8,6,0],[-2,4,-9]])\n",
    "print('Original 3*3 matrix: ')\n",
    "print(myMatrix)\n",
    "print()\n",
    "\n",
    "detMyMatrix = np.linalg.det(myMatrix)\n",
    "if detMyMatrix != 0:\n",
    "  print('Determinant of above matrix: ',detMyMatrix)\n",
    "  print()\n",
    "  res = np.linalg.inv(myMatrix)\n",
    "  print('Inverse: ')\n",
    "  print(res)\n",
    "else:\n",
    "  print('Determinant is 0, given above is a Singular Matrix!')\n"
   ]
  },
  {
   "cell_type": "code",
   "execution_count": 7,
   "metadata": {
    "colab": {
     "base_uri": "https://localhost:8080/"
    },
    "executionInfo": {
     "elapsed": 414,
     "status": "ok",
     "timestamp": 1677271612965,
     "user": {
      "displayName": "Sahid Midda",
      "userId": "12629449057452271130"
     },
     "user_tz": -330
    },
    "id": "EXt3EeroGVBD",
    "outputId": "20fb170d-5c35-428c-a9c5-69d7b1048e50"
   },
   "outputs": [
    {
     "name": "stdout",
     "output_type": "stream",
     "text": [
      "Original 3*5 matrix:\n",
      "[[21 22 23 24 25]\n",
      " [26 27 28 29 30]\n",
      " [31 32 33 34 35]]\n",
      "\n",
      "Index:[ 0 ][ 0 ] 3.044522437723423\n",
      "Index:[ 0 ][ 1 ] 3.091042453358316\n",
      "Index:[ 0 ][ 2 ] 3.1354942159291497\n",
      "Index:[ 0 ][ 3 ] 3.1780538303479458\n",
      "Index:[ 0 ][ 4 ] 3.2188758248682006\n",
      "Index:[ 1 ][ 0 ] 3.258096538021482\n",
      "Index:[ 1 ][ 1 ] 3.295836866004329\n",
      "Index:[ 1 ][ 2 ] 3.332204510175204\n",
      "Index:[ 1 ][ 3 ] 3.367295829986474\n",
      "Index:[ 1 ][ 4 ] 3.4011973816621555\n",
      "Index:[ 2 ][ 0 ] 3.4339872044851463\n",
      "Index:[ 2 ][ 1 ] 3.4657359027997265\n",
      "Index:[ 2 ][ 2 ] 3.4965075614664802\n",
      "Index:[ 2 ][ 3 ] 3.5263605246161616\n",
      "Index:[ 2 ][ 4 ] 3.5553480614894135\n"
     ]
    }
   ],
   "source": [
    "# Advanced:\n",
    "# Q.7 Create Python function to generate log values of 3*5 matrix\n",
    "\n",
    "import math\n",
    "\n",
    "m1 = np.arange(21,36).reshape(3,5)\n",
    "\n",
    "def myLogger(arr):\n",
    "  rows = arr.shape[0]\n",
    "  cols = arr.shape[1]\n",
    "  for i in range(rows):    # or directly 0,3\n",
    "    for j in range(cols):  # or directly 0,5\n",
    "      print('Index:[',i,'][',j,']', math.log(arr[i][j]))\n",
    "\n",
    "print('Original 3*5 matrix:')\n",
    "print(m1)\n",
    "print()\n",
    "myLogger(m1)\n"
   ]
  },
  {
   "cell_type": "code",
   "execution_count": null,
   "metadata": {},
   "outputs": [],
   "source": []
  }
 ],
 "metadata": {
  "colab": {
   "authorship_tag": "ABX9TyPySVLYn1rkoIftxje7EHqJ",
   "provenance": []
  },
  "kernelspec": {
   "display_name": "Python 3 (ipykernel)",
   "language": "python",
   "name": "python3"
  },
  "language_info": {
   "codemirror_mode": {
    "name": "ipython",
    "version": 3
   },
   "file_extension": ".py",
   "mimetype": "text/x-python",
   "name": "python",
   "nbconvert_exporter": "python",
   "pygments_lexer": "ipython3",
   "version": "3.9.13"
  }
 },
 "nbformat": 4,
 "nbformat_minor": 1
}
