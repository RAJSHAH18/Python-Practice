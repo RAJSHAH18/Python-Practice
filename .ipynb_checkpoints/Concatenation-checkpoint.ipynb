{
 "cells": [
  {
   "cell_type": "markdown",
   "id": "d442a7ac",
   "metadata": {},
   "source": [
    "# Concatenation"
   ]
  },
  {
   "cell_type": "code",
   "execution_count": 1,
   "id": "ee1d819e",
   "metadata": {},
   "outputs": [],
   "source": [
    "# String concatenation\n",
    "x = \"hello\"\n",
    "y = \"world\""
   ]
  },
  {
   "cell_type": "code",
   "execution_count": 2,
   "id": "d930c16b",
   "metadata": {},
   "outputs": [
    {
     "name": "stdout",
     "output_type": "stream",
     "text": [
      "helloworld\n"
     ]
    }
   ],
   "source": [
    "ans = x + y\n",
    "print(ans)"
   ]
  },
  {
   "cell_type": "code",
   "execution_count": 4,
   "id": "3b6a9147",
   "metadata": {},
   "outputs": [
    {
     "name": "stdout",
     "output_type": "stream",
     "text": [
      "Ronaldo is a Great footballer\n"
     ]
    }
   ],
   "source": [
    "x = \"Ronaldo is a\"\n",
    "y = \"Great footballer\"\n",
    "print(x +\" \"+y)"
   ]
  },
  {
   "cell_type": "markdown",
   "id": "45eb981d",
   "metadata": {},
   "source": [
    "# lists Concatenation"
   ]
  },
  {
   "cell_type": "code",
   "execution_count": 5,
   "id": "e179eef9",
   "metadata": {},
   "outputs": [
    {
     "name": "stdout",
     "output_type": "stream",
     "text": [
      "[1, 2, 3, 4, 10, 12, 13, 14]\n"
     ]
    }
   ],
   "source": [
    "l1 = [1,2,3,4]\n",
    "l2 = [10,12,13,14]\n",
    "print (l1 + l2)"
   ]
  },
  {
   "cell_type": "markdown",
   "id": "2a49922c",
   "metadata": {},
   "source": [
    "# Tuple concatenation"
   ]
  },
  {
   "cell_type": "code",
   "execution_count": 6,
   "id": "e92979a8",
   "metadata": {},
   "outputs": [
    {
     "name": "stdout",
     "output_type": "stream",
     "text": [
      "(10, 12, 13, 14, 15, 20, 30, 40, 50)\n"
     ]
    }
   ],
   "source": [
    "a = (10,12,13,14)\n",
    "b = (15,20,30,40,50)\n",
    "print(a+b)"
   ]
  },
  {
   "cell_type": "code",
   "execution_count": null,
   "id": "aed4aad8",
   "metadata": {},
   "outputs": [],
   "source": []
  }
 ],
 "metadata": {
  "kernelspec": {
   "display_name": "Python 3 (ipykernel)",
   "language": "python",
   "name": "python3"
  },
  "language_info": {
   "codemirror_mode": {
    "name": "ipython",
    "version": 3
   },
   "file_extension": ".py",
   "mimetype": "text/x-python",
   "name": "python",
   "nbconvert_exporter": "python",
   "pygments_lexer": "ipython3",
   "version": "3.9.13"
  }
 },
 "nbformat": 4,
 "nbformat_minor": 5
}
