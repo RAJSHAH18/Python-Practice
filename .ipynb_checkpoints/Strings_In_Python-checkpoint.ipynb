{
 "cells": [
  {
   "cell_type": "markdown",
   "id": "0c381240",
   "metadata": {},
   "source": [
    "# String is a sequence collection of charaters.\n",
    "# We can create String By enclosing Characters in quotes.\n",
    "# Pyton uses Unicode format to represent characters"
   ]
  },
  {
   "cell_type": "markdown",
   "id": "78e7fa65",
   "metadata": {},
   "source": [
    "#  Declaring a String"
   ]
  },
  {
   "cell_type": "code",
   "execution_count": 1,
   "id": "6cf8f3eb",
   "metadata": {},
   "outputs": [
    {
     "name": "stdout",
     "output_type": "stream",
     "text": [
      "Hello#World#Hii#RAJ SHAH\n"
     ]
    }
   ],
   "source": [
    "name  = \"RAJ SHAH\"\n",
    "a = 'Hello'\n",
    "b = \"\"\"World\"\"\"\n",
    "c = '''Hii'''\n",
    "print (a,b,c,name,sep=\"#\")"
   ]
  },
  {
   "cell_type": "markdown",
   "id": "d8bde543",
   "metadata": {},
   "source": [
    "# Reading and printing A string"
   ]
  },
  {
   "cell_type": "code",
   "execution_count": 6,
   "id": "c271d541",
   "metadata": {},
   "outputs": [
    {
     "name": "stdout",
     "output_type": "stream",
     "text": [
      "Enter Your Name : manthan love zeel\n",
      "Your name is /manthan love zeel\n",
      "Your name is manthan love zeel\n",
      "Your name is manthan love zeelmanthan love zeel\n",
      "Your name is manthan love zeel\n"
     ]
    }
   ],
   "source": [
    "name = input(\"Enter Your Name : \")\n",
    "print (\"Your name is \",name,sep=\"/\")\n",
    "print('Your name is {a}'.format(a=name))\n",
    "print (\"Your name is {0}{1}\".format(name,name))\n",
    "print(\"Your name is {}\".format(name))"
   ]
  },
  {
   "cell_type": "markdown",
   "id": "8eb54f87",
   "metadata": {},
   "source": [
    "# Accessing Individual Characters"
   ]
  },
  {
   "cell_type": "code",
   "execution_count": 3,
   "id": "d39556d1",
   "metadata": {},
   "outputs": [
    {
     "name": "stdout",
     "output_type": "stream",
     "text": [
      "Enter Your Name : Hiral\n",
      "First Character is  H\n",
      "First Character is  i\n",
      "First Character is  r\n",
      "First Character is  l\n",
      "First Character is  a\n",
      "First Character is  r\n"
     ]
    }
   ],
   "source": [
    "name = input(\"Enter Your Name : \")\n",
    "print(\"First Character is \",name[0])\n",
    "print(\"First Character is \",name[1])\n",
    "print(\"First Character is \",name[2])\n",
    "print(\"First Character is \",name[-1])\n",
    "print(\"First Character is \",name[-2])\n",
    "print(\"First Character is \",name[-3])\n"
   ]
  },
  {
   "cell_type": "code",
   "execution_count": 9,
   "id": "20173f3d",
   "metadata": {},
   "outputs": [
    {
     "name": "stdout",
     "output_type": "stream",
     "text": [
      "RAJ <class 'str'>\n",
      "R <class 'str'>\n"
     ]
    }
   ],
   "source": [
    "print(name,type(name))\n",
    "print(name[0],type(name[0]))"
   ]
  },
  {
   "cell_type": "markdown",
   "id": "179d9f1a",
   "metadata": {},
   "source": [
    "# Silcing"
   ]
  },
  {
   "cell_type": "code",
   "execution_count": 12,
   "id": "4f3d858c",
   "metadata": {},
   "outputs": [
    {
     "name": "stdout",
     "output_type": "stream",
     "text": [
      "First 5 Characters of String :- WELCO\n",
      "String in Reverse Order:- HAHS JAR EMOCLEW\n",
      "String Excluding First 5 Characters:- ME RAJ SHAH\n",
      "String is between 3rd to 8th:-  COME \n"
     ]
    }
   ],
   "source": [
    "# Silcing is used to get substrings From a String\n",
    "gretting = \"WELCOME RAJ SHAH\"\n",
    "print(\"First 5 Characters of String :-\",gretting[:5])\n",
    "print(\"String in Reverse Order:-\",gretting[::-1])\n",
    "print(\"String Excluding First 5 Characters:-\",gretting[5:])\n",
    "print(\"String is between 3rd to 8th:- \",gretting[3:8])\n",
    "string = \"helloworld\"\n",
    "print(string[-1:0])"
   ]
  },
  {
   "cell_type": "markdown",
   "id": "20a2d2c5",
   "metadata": {},
   "source": [
    "# String Concatenation"
   ]
  },
  {
   "cell_type": "code",
   "execution_count": 15,
   "id": "df44d283",
   "metadata": {},
   "outputs": [
    {
     "name": "stdout",
     "output_type": "stream",
     "text": [
      "Raj Shah\n"
     ]
    }
   ],
   "source": [
    "firstName = \"Raj\"\n",
    "lastName = \"Shah\"\n",
    "fullName = firstName +\" \"+ lastName\n",
    "print(fullName)"
   ]
  },
  {
   "cell_type": "code",
   "execution_count": 20,
   "id": "217679de",
   "metadata": {},
   "outputs": [
    {
     "name": "stdout",
     "output_type": "stream",
     "text": [
      "Hello Hello Hello \n"
     ]
    }
   ],
   "source": [
    "word = \"Hello \"\n",
    "echo = word * 3\n",
    "print(echo)"
   ]
  },
  {
   "cell_type": "markdown",
   "id": "315b1a48",
   "metadata": {},
   "source": [
    "# Iterating String Using For Loop"
   ]
  },
  {
   "cell_type": "code",
   "execution_count": 5,
   "id": "f0ab9e1e",
   "metadata": {},
   "outputs": [
    {
     "name": "stdout",
     "output_type": "stream",
     "text": [
      "Enter Name :-RAJ\n",
      "J\n",
      "A\n",
      "R\n"
     ]
    }
   ],
   "source": [
    "name = input(\"Enter Name :-\")\n",
    "# for i in name:\n",
    "#     print(i)\n",
    "for i in range(len(name)-1,-1,-1):\n",
    "    print(name[i])\n",
    "# for i in range()"
   ]
  },
  {
   "cell_type": "markdown",
   "id": "5643e60f",
   "metadata": {},
   "source": [
    "# Count Number of characters in String"
   ]
  },
  {
   "cell_type": "code",
   "execution_count": 4,
   "id": "e5224ef3",
   "metadata": {},
   "outputs": [
    {
     "name": "stdout",
     "output_type": "stream",
     "text": [
      "Enter Name :-Raj\n",
      "The String \"Raj\" has 3 Characters\n",
      "3\n"
     ]
    }
   ],
   "source": [
    "name = input(\"Enter Name :-\")\n",
    "word_counter = 0\n",
    "for i in name:\n",
    "    word_counter = word_counter+1\n",
    "print(\"The String \\\"{}\\\" has {} Characters\".format(name,word_counter))\n",
    "print(len(name))"
   ]
  },
  {
   "cell_type": "markdown",
   "id": "7e238005",
   "metadata": {},
   "source": [
    "# Length of String"
   ]
  },
  {
   "cell_type": "code",
   "execution_count": 28,
   "id": "106b4e5d",
   "metadata": {},
   "outputs": [
    {
     "name": "stdout",
     "output_type": "stream",
     "text": [
      "The length of string \"HELLO WORLD\" is 11\n"
     ]
    }
   ],
   "source": [
    "message = \"HELLO WORLD\"\n",
    "print(\"The length of string \\\"{}\\\" is {}\".format(message,len(message)))"
   ]
  },
  {
   "cell_type": "code",
   "execution_count": 40,
   "id": "e918cf8b",
   "metadata": {},
   "outputs": [
    {
     "name": "stdout",
     "output_type": "stream",
     "text": [
      "Enter message:-Hii How Are You!18\n",
      "Total No.of Digits are :- 2\n",
      "Total No.of Spaces are :- 3\n",
      "Total No.of Alphabets are :- 12\n",
      "Total No.of Character in lowercase are :- 8\n",
      "Total No.of Character in uppercase are :- 4\n"
     ]
    }
   ],
   "source": [
    "# str.isdigits() is used to check whether String contains only digits or not\n",
    "# str.isalpha() is used to check Whether String contains only alphabets or not\n",
    "# str,islower() is used to check whether String contains only characters in lower case\n",
    "# str.isupper() is used to check whether String contains only characters in upper case\n",
    "# str.isalnum() is used to check Whether String Contains only alphanumeric chcarcaters\n",
    "# str.isspace() is used to check Whether String contains only spaces od not\n",
    "# str.istitle() is used to that first letter of every word of senetence is in uppercase or not\n",
    "\n",
    "\n",
    "\n",
    "\n",
    "\n",
    "message = input(\"Enter message:-\")\n",
    "digits = 0\n",
    "alpha = 0\n",
    "lower = 0\n",
    "upper = 0\n",
    "space = 0\n",
    "\n",
    "for i in message:\n",
    "    if(i.isdigit()):\n",
    "        digits+=1\n",
    "    if(i.isalpha()):\n",
    "        alpha+=1\n",
    "    if(i.isspace()):\n",
    "        space+=1\n",
    "    if(i.islower()==True):\n",
    "        lower+=1\n",
    "    if(i.isupper()):\n",
    "        upper+=1\n",
    "    \n",
    "print(\"Total No.of Digits are :-\",digits)\n",
    "print(\"Total No.of Spaces are :-\",space)\n",
    "print(\"Total No.of Alphabets are :-\",alpha)\n",
    "print(\"Total No.of Character in lowercase are :-\",lower)\n",
    "print(\"Total No.of Character in uppercase are :-\",upper)\n"
   ]
  },
  {
   "cell_type": "code",
   "execution_count": 47,
   "id": "0544d271",
   "metadata": {},
   "outputs": [
    {
     "name": "stdout",
     "output_type": "stream",
     "text": [
      "Correct\n"
     ]
    }
   ],
   "source": [
    "# isalnum()\n",
    "username = \"RAJSHAH189\"\n",
    "if(username.isalnum()):\n",
    "    print(\"Correct\")\n",
    "else:\n",
    "    print(\"Incorrect\")"
   ]
  },
  {
   "cell_type": "code",
   "execution_count": 44,
   "id": "672b3794",
   "metadata": {},
   "outputs": [
    {
     "name": "stdout",
     "output_type": "stream",
     "text": [
      "Correct\n"
     ]
    }
   ],
   "source": [
    "# isdigits\n",
    "# In this method floating point can not considered as digit\n",
    "num = \"123456\"\n",
    "if(num.isdigit()):\n",
    "    print(\"Correct\")\n",
    "else:\n",
    "    print(\"Incorrect\")"
   ]
  },
  {
   "cell_type": "code",
   "execution_count": 45,
   "id": "ad90f76d",
   "metadata": {},
   "outputs": [
    {
     "name": "stdout",
     "output_type": "stream",
     "text": [
      "Enter message :-Hii,How Are You!\n",
      "Correct\n"
     ]
    }
   ],
   "source": [
    "message = input(\"Enter message :-\")\n",
    "if(message.istitle()):\n",
    "    print(\"Correct\")\n",
    "else:\n",
    "    print(\"Incorrect\")"
   ]
  },
  {
   "cell_type": "code",
   "execution_count": 5,
   "id": "72bc6999",
   "metadata": {},
   "outputs": [
    {
     "name": "stdout",
     "output_type": "stream",
     "text": [
      "Enter Password :-Rajshah1@\n",
      "1\n",
      "Strong password\n"
     ]
    }
   ],
   "source": [
    "# Write A Program To check Whether a Password is Strong or not\n",
    "\n",
    "password = input(\"Enter Password :-\")\n",
    "\n",
    "digits = 0\n",
    "lower = 0\n",
    "upper = 0\n",
    "alnum = 0\n",
    "for i in password:\n",
    "    if(i.isdigit()):\n",
    "        digits+=1\n",
    "    if(i.islower()):\n",
    "        lower+=1\n",
    "    if(i.isupper()):\n",
    "        upper+=1\n",
    "    if(not(i.isalnum()) and not(i.isspace())):\n",
    "#     if((i.isspace() == False) and (i.isalnum == False) ):\n",
    "        alnum+=1\n",
    "# print(alnum)\n",
    "if(len(password)>=6):\n",
    "    if(digits>=1):\n",
    "        if(lower>=1):\n",
    "            if(upper>=1):\n",
    "                if(alnum>=1):\n",
    "                    print(\"Strong password\")\n",
    "                else:\n",
    "                    print(\"Password must contains atleast 1 special charcter\")\n",
    "            else:\n",
    "                print(\"Password must contain atleast 1 character in uppercase\")\n",
    "        else:\n",
    "            print(\"Password must contain atleast 1 charcter in lowercase\")\n",
    "    else:\n",
    "        print(\"Password must contain atleast 1 digit\")\n",
    "else:\n",
    "    print(\"Password length must be atleast 6 \")"
   ]
  },
  {
   "cell_type": "markdown",
   "id": "f6efb376",
   "metadata": {},
   "source": [
    "# String Methods"
   ]
  },
  {
   "cell_type": "code",
   "execution_count": 2,
   "id": "80d25819",
   "metadata": {},
   "outputs": [],
   "source": [
    "# str.lower() method is used to convert string in lowercase\n",
    "# str.upper() method is used to convert string in uppercase\n",
    "# str.swapcase() method is used to convert uppercase to lowercase and vice versa\n",
    "# str.title() method is used to convert first letter of every word in uppercase\n",
    "# str.capitalize() method is used to convert first character of string in uppercase and others in lowercase\n"
   ]
  },
  {
   "cell_type": "code",
   "execution_count": 4,
   "id": "e4c67a9c",
   "metadata": {},
   "outputs": [
    {
     "name": "stdout",
     "output_type": "stream",
     "text": [
      "Enter String :-Hello World\n",
      "hello world\n"
     ]
    }
   ],
   "source": [
    "# str.lower()\n",
    "string = input(\"Enter String :-\")\n",
    "print(string.lower())"
   ]
  },
  {
   "cell_type": "code",
   "execution_count": 5,
   "id": "da597662",
   "metadata": {},
   "outputs": [
    {
     "name": "stdout",
     "output_type": "stream",
     "text": [
      "Enter String :-hello world\n",
      "HELLO WORLD\n"
     ]
    }
   ],
   "source": [
    "# str.upper()\n",
    "string = input(\"Enter String :-\")\n",
    "ans = string.upper()\n",
    "print(ans)"
   ]
  },
  {
   "cell_type": "code",
   "execution_count": 7,
   "id": "65cc4ac2",
   "metadata": {},
   "outputs": [
    {
     "name": "stdout",
     "output_type": "stream",
     "text": [
      "Hi,How Can I Help You?\n",
      "hi,how can i help you?\n"
     ]
    }
   ],
   "source": [
    "# str.title()\n",
    "string = \"hi,how can i help you?\"\n",
    "ans = string.title()\n",
    "print(ans)\n",
    "print(string)"
   ]
  },
  {
   "cell_type": "code",
   "execution_count": 8,
   "id": "0e66d9b7",
   "metadata": {},
   "outputs": [
    {
     "name": "stdout",
     "output_type": "stream",
     "text": [
      "hELLo@wOrLD\n"
     ]
    }
   ],
   "source": [
    "# str.swapcase()\n",
    "string = \"HellO@WoRld\"\n",
    "ans = string.swapcase()\n",
    "print(ans)"
   ]
  },
  {
   "cell_type": "code",
   "execution_count": 9,
   "id": "b4bf0377",
   "metadata": {},
   "outputs": [
    {
     "name": "stdout",
     "output_type": "stream",
     "text": [
      "Hello_world \n"
     ]
    }
   ],
   "source": [
    "# str.capitalize()\n",
    "string = \"hello_world \"\n",
    "ans = string.capitalize()\n",
    "print (ans)"
   ]
  },
  {
   "cell_type": "code",
   "execution_count": 13,
   "id": "bd9e89cb",
   "metadata": {},
   "outputs": [
    {
     "name": "stdout",
     "output_type": "stream",
     "text": [
      "Enter String:-Rajshah1234@gmail.com\n",
      "a\n",
      "a\n",
      "a\n",
      "i\n",
      "o\n",
      "The Total number of vowels in a String are:-  5\n"
     ]
    }
   ],
   "source": [
    "# count number of vowels in string\n",
    "string = input(\"Enter String:-\")\n",
    "vowel_count = 0\n",
    "vowels = \"aeiou\"\n",
    "for i in string:\n",
    "    if(i.lower() in vowels):\n",
    "#         print(i)\n",
    "        vowel_count+=1\n",
    "print(\"The Total number of vowels in a String are:- \",vowel_count)\n"
   ]
  },
  {
   "cell_type": "code",
   "execution_count": 14,
   "id": "92d4edf7",
   "metadata": {},
   "outputs": [],
   "source": [
    "# str.count(sub) method is used to count the total no of occurences of search string\n",
    "# str.find(sub) Return the lowest index in the string Where substirng is found else return -1 if substring is not found\n",
    "# str.index(sub)like find() but raise valueerror when substring is not found\n",
    "# str.split(sep == none)re"
   ]
  },
  {
   "cell_type": "code",
   "execution_count": 20,
   "id": "6e7f5c50",
   "metadata": {},
   "outputs": [
    {
     "name": "stdout",
     "output_type": "stream",
     "text": [
      "2\n"
     ]
    }
   ],
   "source": [
    "# str.count(value,start,end) method returns the number of times a specified value appears in the string\n",
    "string = \"I Love apples and apples are my favorite fruit\"\n",
    "ans = string.count(\"apples\")\n",
    "# ans = string.count(\"apples\",10)\n",
    "# ans = string.count(\"apples\",10,11)#starting at 10 index and ending 11 index\n",
    "\n",
    "\n",
    "print(ans)"
   ]
  },
  {
   "cell_type": "code",
   "execution_count": 23,
   "id": "e6e9a75c",
   "metadata": {},
   "outputs": [
    {
     "name": "stdout",
     "output_type": "stream",
     "text": [
      "15\n"
     ]
    }
   ],
   "source": [
    "# str.find(sub,start,end) method finds the first occurence of specified value and also return -1 if substring is not found\n",
    "string = \"Welcome to the world of Programming\"\n",
    "ans = string.find(\"world\")\n",
    "# ans = string.find(\"world\",16)\n",
    "# ans = string.find(\"world\",16,17)\n",
    "\n",
    "\n",
    "print(ans)\n"
   ]
  },
  {
   "cell_type": "code",
   "execution_count": 30,
   "id": "6c0e9856",
   "metadata": {},
   "outputs": [
    {
     "ename": "ValueError",
     "evalue": "substring not found",
     "output_type": "error",
     "traceback": [
      "\u001b[1;31m---------------------------------------------------------------------------\u001b[0m",
      "\u001b[1;31mValueError\u001b[0m                                Traceback (most recent call last)",
      "\u001b[1;32m~\\AppData\\Local\\Temp\\ipykernel_9564\\755871976.py\u001b[0m in \u001b[0;36m<module>\u001b[1;34m\u001b[0m\n\u001b[0;32m      2\u001b[0m \u001b[0mstring\u001b[0m \u001b[1;33m=\u001b[0m \u001b[1;34m\"Hello Welcome to the world of Gaming\"\u001b[0m\u001b[1;33m\u001b[0m\u001b[1;33m\u001b[0m\u001b[0m\n\u001b[0;32m      3\u001b[0m \u001b[0mans\u001b[0m \u001b[1;33m=\u001b[0m \u001b[0mstring\u001b[0m\u001b[1;33m.\u001b[0m\u001b[0mindex\u001b[0m\u001b[1;33m(\u001b[0m\u001b[1;34m\"world\"\u001b[0m\u001b[1;33m)\u001b[0m\u001b[1;33m\u001b[0m\u001b[1;33m\u001b[0m\u001b[0m\n\u001b[1;32m----> 4\u001b[1;33m \u001b[0mans\u001b[0m \u001b[1;33m=\u001b[0m \u001b[0mstring\u001b[0m\u001b[1;33m.\u001b[0m\u001b[0mindex\u001b[0m\u001b[1;33m(\u001b[0m\u001b[1;34m\"world\"\u001b[0m\u001b[1;33m,\u001b[0m\u001b[1;36m22\u001b[0m\u001b[1;33m)\u001b[0m\u001b[1;33m\u001b[0m\u001b[1;33m\u001b[0m\u001b[0m\n\u001b[0m\u001b[0;32m      5\u001b[0m \u001b[0mans\u001b[0m \u001b[1;33m=\u001b[0m \u001b[0mstring\u001b[0m\u001b[1;33m.\u001b[0m\u001b[0mindex\u001b[0m\u001b[1;33m(\u001b[0m\u001b[1;34m\"world\"\u001b[0m\u001b[1;33m,\u001b[0m\u001b[1;36m11\u001b[0m\u001b[1;33m,\u001b[0m\u001b[1;36m12\u001b[0m\u001b[1;33m)\u001b[0m\u001b[1;33m\u001b[0m\u001b[1;33m\u001b[0m\u001b[0m\n\u001b[0;32m      6\u001b[0m \u001b[1;33m\u001b[0m\u001b[0m\n",
      "\u001b[1;31mValueError\u001b[0m: substring not found"
     ]
    }
   ],
   "source": [
    "# str.index(sub,start,end) method is similar to find() but the differnece is that it raise an exception if substring is not found\n",
    "string = \"Hello Welcome to the world of Gaming\"\n",
    "ans = string.index(\"world\")\n",
    "# ans = string.index(\"world\",22)\n",
    "# ans = string.index(\"world\",11,12)\n",
    "\n",
    "\n",
    "print(ans)\n",
    "ans = string.index(\"world\")\n"
   ]
  },
  {
   "cell_type": "code",
   "execution_count": 43,
   "id": "bceeabf7",
   "metadata": {},
   "outputs": [
    {
     "name": "stdout",
     "output_type": "stream",
     "text": [
      "['hello', 'my name is Raj,I am 20 years old']\n",
      "['hello', 'my name is Raj,I am 20 years old']\n"
     ]
    }
   ],
   "source": [
    "# str.split(separator,maxsplit) method is used to spilt a string into list and its default separator is whitespace\n",
    "string = \"hello,my name is Raj,I am 20 years old\"\n",
    "# ans = string.split()#Default is whitespace\n",
    "ans = string.split(\",\",1)\n",
    "print(ans)\n",
    "print(str(ans))"
   ]
  },
  {
   "cell_type": "code",
   "execution_count": 37,
   "id": "d4aaca40",
   "metadata": {},
   "outputs": [
    {
     "name": "stdout",
     "output_type": "stream",
     "text": [
      "Hello How Can I Help You\n"
     ]
    }
   ],
   "source": [
    "# str.join(itreable) method takes all items in an iterable and joins them into one string\n",
    "# spearato.join(iterable)\n",
    "l1 = [\"hello\",\"how\",\"can\",\"i\",\"help\",\"you\"]\n",
    "string = \" \".join(l1)\n",
    "string = string.title()\n",
    "print (string)"
   ]
  },
  {
   "cell_type": "code",
   "execution_count": 38,
   "id": "0ab7531b",
   "metadata": {},
   "outputs": [
    {
     "name": "stdout",
     "output_type": "stream",
     "text": [
      "2\n"
     ]
    }
   ],
   "source": [
    "string = \"abababa\"\n",
    "substr = \"aba\"\n",
    "ans = string.count(substr)\n",
    "print(ans)"
   ]
  },
  {
   "cell_type": "code",
   "execution_count": 45,
   "id": "75ab3369",
   "metadata": {},
   "outputs": [
    {
     "name": "stdout",
     "output_type": "stream",
     "text": [
      "['R', 'A', 'J', 's', 'h', 'a', 'h']\n",
      "RAJshah\n"
     ]
    }
   ],
   "source": [
    "name = \"RAJshah\"\n",
    "ans = list(name)\n",
    "print(ans)\n",
    "print(\"\".join(ans))"
   ]
  },
  {
   "cell_type": "code",
   "execution_count": 49,
   "id": "c9ac37f6",
   "metadata": {},
   "outputs": [
    {
     "name": "stdout",
     "output_type": "stream",
     "text": [
      "10 20 30 40 50\n"
     ]
    }
   ],
   "source": [
    "l1 = [10,20,30,40,50]\n",
    "ans = \" \".join(map(str,l1))\n",
    "print(ans)"
   ]
  },
  {
   "cell_type": "code",
   "execution_count": 53,
   "id": "f5320f8d",
   "metadata": {},
   "outputs": [
    {
     "name": "stdout",
     "output_type": "stream",
     "text": [
      "I hate banana and i also like oranges\n"
     ]
    }
   ],
   "source": [
    "# str.replace(oldvalue,newvalue,count) method replaces a specified phrase woth another specifeid phrase\n",
    "string = \"I like banana and i also like oranges\"\n",
    "ans = string.replace(\"like\",\"hate\")\n",
    "ans = string.replace(\"like\",\"hate\",1)\n",
    "\n",
    "print(ans)\n"
   ]
  },
  {
   "cell_type": "code",
   "execution_count": 2,
   "id": "0d6f284f",
   "metadata": {},
   "outputs": [
    {
     "name": "stdout",
     "output_type": "stream",
     "text": [
      "False\n"
     ]
    }
   ],
   "source": [
    "st = \"hello \"\n",
    "print(st.isspace())"
   ]
  },
  {
   "cell_type": "code",
   "execution_count": null,
   "id": "158f34bb",
   "metadata": {},
   "outputs": [],
   "source": []
  }
 ],
 "metadata": {
  "kernelspec": {
   "display_name": "Python 3 (ipykernel)",
   "language": "python",
   "name": "python3"
  },
  "language_info": {
   "codemirror_mode": {
    "name": "ipython",
    "version": 3
   },
   "file_extension": ".py",
   "mimetype": "text/x-python",
   "name": "python",
   "nbconvert_exporter": "python",
   "pygments_lexer": "ipython3",
   "version": "3.9.13"
  },
  "vscode": {
   "interpreter": {
    "hash": "3929fc3237e371b922bed4320230b0a3e157a31faf7bdcaccbb1bfc1fc754f1e"
   }
  }
 },
 "nbformat": 4,
 "nbformat_minor": 5
}
