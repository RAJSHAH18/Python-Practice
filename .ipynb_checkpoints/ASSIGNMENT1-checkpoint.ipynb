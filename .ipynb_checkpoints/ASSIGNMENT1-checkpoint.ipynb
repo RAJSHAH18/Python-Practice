{
 "cells": [
  {
   "cell_type": "code",
   "execution_count": null,
   "id": "8e16fb68",
   "metadata": {},
   "outputs": [],
   "source": [
    "# NAME :- RAJ JIGNESHBHAI SHAH\n",
    "# ENROLLMENT NO :- SR21BSIT156\n",
    "# PC NO :- 76\n",
    "# SUBJECT :- PYTHON\n",
    "# FACULTY :- YESHA MA'AM \n",
    "# DATE :- 3-02-2023\n",
    "# AIM :- : To learn string indexing, slicing and string functions in python.\n",
    "# ASSIGNEMENT NO :- 1"
   ]
  },
  {
   "cell_type": "markdown",
   "id": "ec8bc8e7",
   "metadata": {},
   "source": [
    "# Topic: String Slicing Operations and Functions"
   ]
  },
  {
   "cell_type": "code",
   "execution_count": null,
   "id": "9e5edff9",
   "metadata": {},
   "outputs": [],
   "source": [
    "\n"
   ]
  },
  {
   "cell_type": "markdown",
   "id": "72c5d8f1",
   "metadata": {},
   "source": [
    "###  Q.1 Input : s = 'King Arthur'\n",
    "### Output: 'ruhtrA gniK"
   ]
  },
  {
   "cell_type": "code",
   "execution_count": 8,
   "id": "e336725c",
   "metadata": {},
   "outputs": [
    {
     "name": "stdout",
     "output_type": "stream",
     "text": [
      "Enter Name:- King Arthur\n",
      "Using Extended slice :-\n",
      "ruhtrA gniK\n",
      "Using For Loop :-\n",
      "ruhtrA gniK\n"
     ]
    }
   ],
   "source": [
    "name = input(\"Enter Name:- \")\n",
    "# using extended slice to reverse a String \n",
    "print(\"Using Extended slice :-\")\n",
    "print(name[::-1])\n",
    "\n",
    "s = \"\"\n",
    "# using for loop\n",
    "\n",
    "for i in name:\n",
    "    s = i + s\n",
    "print(\"Using For Loop :-\")\n",
    "print(s)\n",
    "\n",
    "#OUTPUT:-\n",
    "# Enter Name:- King Arthur\n",
    "# Using Extended slice :-\n",
    "# ruhtrA gniK\n",
    "# Using For Loop :-\n",
    "# ruhtrA gniK"
   ]
  },
  {
   "cell_type": "markdown",
   "id": "80b503b9",
   "metadata": {},
   "source": [
    "### Q.2 Input : snack = \"Chocolate cookie.\"\n",
    "### Output 1: cookie Output 2: Vanila Cookie"
   ]
  },
  {
   "cell_type": "code",
   "execution_count": 15,
   "id": "c3becb0b",
   "metadata": {},
   "outputs": [
    {
     "name": "stdout",
     "output_type": "stream",
     "text": [
      "Enter snack :-Chocolate Vanial cookie\n",
      "Vanial cookie\n",
      "cookie\n"
     ]
    }
   ],
   "source": [
    "snack = input(\"Enter snack :-\")\n",
    "\n",
    "# old_value=\"Chocolate\"\n",
    "# new_value=\"Vanila\"\n",
    "\n",
    "print(snack[10:])\n",
    "print(snack[17:])\n",
    "# print(snack.find(\"cookie\"))\n",
    "# print(snack.replace(old_value,new_value))\n",
    "\n",
    "# OUTPUT:-\n",
    "# Enter snack :-Chocolate Vanial cookie\n",
    "# 1st output:- Vanial cookie\n",
    "# 2nd output:-cookie"
   ]
  },
  {
   "cell_type": "markdown",
   "id": "ab7a8aac",
   "metadata": {},
   "source": [
    "### Q.3 Input str = “Welcome to the world of Python”\n",
    "### Output : WcehwloPh"
   ]
  },
  {
   "cell_type": "code",
   "execution_count": 21,
   "id": "97a8e120",
   "metadata": {},
   "outputs": [
    {
     "name": "stdout",
     "output_type": "stream",
     "text": [
      "WceohwloPh\n"
     ]
    }
   ],
   "source": [
    "string = \"Welcome to the world of Python\"\n",
    "# Striding of string will be used \n",
    "ans = string[0:-1:3]\n",
    "print(ans)\n",
    "\n",
    "# OUTPUT:-\n",
    "# WceohwloPh"
   ]
  },
  {
   "cell_type": "markdown",
   "id": "9745efef",
   "metadata": {},
   "source": [
    "### Q.4 Count and print the occurrence of word “Apple” in following paragraph.\n"
   ]
  },
  {
   "cell_type": "code",
   "execution_count": 24,
   "id": "0b2b506b",
   "metadata": {},
   "outputs": [
    {
     "name": "stdout",
     "output_type": "stream",
     "text": [
      "The Total number of occurrence of Word \"Apple\" is:- 15\n"
     ]
    }
   ],
   "source": [
    "para = \"\"\"Apple Inc. is an American multinational technology company headquartered in Cupertino, California, that\n",
    "designs, develops, and sells consumer electronics, computer software, andonline services. It is considered\n",
    "one of the Big Four of technology along with Amazon, Google, and Facebook. The company's hardware\n",
    "products include the iPhone smartphone, theiPad tablet computer, the Mac personal computer, the iPod\n",
    "portable media player, the AppleWatch smartwatch, the Apple TV digital media player, the Apple AirPods\n",
    "wireless earbudsand the HomePod smart speaker. Apple's software includes the macOS, iOS, iPadOS,\n",
    "watchOS and tvOS operating systems, the iTunes media player, the Safari web browser, andthe iLife and\n",
    "iWork creativity and productivity suites, as well as professional applicationslike Final Cut Pro, Logic Pro,\n",
    "and Xcode. Its online services include the iTunes Store, theiOS App Store, Mac App Store, Apple Music,\n",
    "Apple TV+, iMessage, and iCloud. Otherservices include Apple Store, Genius Bar, AppleCare, Apple Pay,\n",
    "Apple Pay Cash, andApple Card. Apple was founded by Steve Jobs, Steve Wozniak, and Ronald Wayne\n",
    "inApril\n",
    "1976 to develop and sell Wozniak's Apple I personal computer, though Wayne sold his shareback within 12\n",
    "days. It was incorporated as Apple Computer, Inc.\n",
    "\"\"\"\n",
    "ans = para.count(\"Apple\")\n",
    "print(\"The Total number of occurrence of Word \\\"Apple\\\" is:-\",ans)\n",
    "\n",
    "# OUTPUT:-\n",
    "# The Total number of occurrence of Word \"Apple\" is:- 15"
   ]
  },
  {
   "cell_type": "markdown",
   "id": "fd25c31f",
   "metadata": {},
   "source": [
    "### Q.5 Replace word “Apple” with “Google” in above paragraph find positionof word“TV”.\n"
   ]
  },
  {
   "cell_type": "code",
   "execution_count": 30,
   "id": "43523752",
   "metadata": {},
   "outputs": [
    {
     "name": "stdout",
     "output_type": "stream",
     "text": [
      "Google Inc. is an American multinational technology company headquartered in Cupertino, California, that\n",
      "designs, develops, and sells consumer electronics, computer software, andonline services. It is considered\n",
      "one of the Big Four of technology along with Amazon, Google, and Facebook. The company's hardware\n",
      "products include the iPhone smartphone, theiPad tablet computer, the Mac personal computer, the iPod\n",
      "portable media player, the GoogleWatch smartwatch, the Google TV digital media player, the Google AirPods\n",
      "wireless earbudsand the HomePod smart speaker. Google's software includes the macOS, iOS, iPadOS,\n",
      "watchOS and tvOS operating systems, the iTunes media player, the Safari web browser, andthe iLife and\n",
      "iWork creativity and productivity suites, as well as professional applicationslike Final Cut Pro, Logic Pro,\n",
      "and Xcode. Its online services include the iTunes Store, theiOS App Store, Mac App Store, Google Music,\n",
      "Google TV+, iMessage, and iCloud. Otherservices include Google Store, Genius Bar, GoogleCare, Google Pay,\n",
      "Google Pay Cash, andGoogle Card. Google was founded by Steve Jobs, Steve Wozniak, and Ronald Wayne\n",
      "inApril\n",
      "1976 to develop and sell Wozniak's Google I personal computer, though Wayne sold his shareback within 12\n",
      "days. It was incorporated as Google Computer, Inc.\n",
      "\n",
      "The word \"TV\" is at :- 470 position\n"
     ]
    }
   ],
   "source": [
    "old_value =\"Apple\"\n",
    "new_value =\"Google\"\n",
    "ans = para.replace(old_value,new_value)\n",
    "print(ans)\n",
    "fnd = \"TV\"\n",
    "position = para.index(fnd)\n",
    "print(\"The word \\\"TV\\\" is at :- {} position\".format(position))\n",
    "\n",
    "# OUTPUT:-\n",
    "# Google Inc. is an American multinational technology company headquartered in Cupertino, California, that\n",
    "# designs, develops, and sells consumer electronics, computer software, andonline services. It is considered\n",
    "# one of the Big Four of technology along with Amazon, Google, and Facebook. The company's hardware\n",
    "# products include the iPhone smartphone, theiPad tablet computer, the Mac personal computer, the iPod\n",
    "# portable media player, the GoogleWatch smartwatch, the Google TV digital media player, the Google AirPods\n",
    "# wireless earbudsand the HomePod smart speaker. Google's software includes the macOS, iOS, iPadOS,\n",
    "# watchOS and tvOS operating systems, the iTunes media player, the Safari web browser, andthe iLife and\n",
    "# iWork creativity and productivity suites, as well as professional applicationslike Final Cut Pro, Logic Pro,\n",
    "# and Xcode. Its online services include the iTunes Store, theiOS App Store, Mac App Store, Google Music,\n",
    "# Google TV+, iMessage, and iCloud. Otherservices include Google Store, Genius Bar, GoogleCare, Google Pay,\n",
    "# Google Pay Cash, andGoogle Card. Google was founded by Steve Jobs, Steve Wozniak, and Ronald Wayne\n",
    "# inApril\n",
    "# 1976 to develop and sell Wozniak's Google I personal computer, though Wayne sold his shareback within 12\n",
    "# days. It was incorporated as Google Computer, Inc.\n",
    "\n",
    "# The word \"TV\" is at :- 470 position\n"
   ]
  },
  {
   "cell_type": "markdown",
   "id": "c828b73f",
   "metadata": {},
   "source": [
    "### Q.6 Write a program to parse an email id to print from which email server it was sent and when.\n",
    "### Info : “ From priti.rad@gmail.com Sun Oct 16 20:29:16 2016” \n",
    "### Output: The email has been sent through gmail.com It was sent on Sun Oct 16 20:29:16 2016"
   ]
  },
  {
   "cell_type": "code",
   "execution_count": 48,
   "id": "88784784",
   "metadata": {},
   "outputs": [
    {
     "name": "stdout",
     "output_type": "stream",
     "text": [
      "The email has been sent through gmail.com It was sent on Sun Oct 16 20:29:16 2016\n"
     ]
    }
   ],
   "source": [
    "info = \"From priti.rad@gmail.com Sun Oct 16 20:29:16 2016\"\n",
    "server = info[info.index(\"@\")+1:info.index(\" Sun\")]\n",
    "date = info[info.index(\"Sun\"):]\n",
    "print(\"The email has been sent through {} It was sent on {}\".format(server,date))\n",
    "\n",
    "\n",
    "# OUTPUT:-\n",
    "# The email has been sent through gmail.com It was sent on Sun Oct 16 20:29:16 2016"
   ]
  },
  {
   "cell_type": "markdown",
   "id": "dfd84d7c",
   "metadata": {},
   "source": [
    "### Q.7 Take string input as below and create short form of list. S = “ Violet Indigo Blue Green\n",
    "### Yelllow Orange Red”\n",
    "### Output: VIBGYOR\n"
   ]
  },
  {
   "cell_type": "code",
   "execution_count": 57,
   "id": "05e793bc",
   "metadata": {},
   "outputs": [
    {
     "name": "stdout",
     "output_type": "stream",
     "text": [
      "VIBGYOR\n"
     ]
    }
   ],
   "source": [
    "S = \"Violet Indigo Blue Green Yelllow Orange Red\"\n",
    "ans = \"\"\n",
    "S = S.split()\n",
    "for i in S:\n",
    "    ans = ans + i[:1]\n",
    "print(ans)\n",
    "\n",
    "# OUTPUT:-\n",
    "VIBGYOR\n"
   ]
  },
  {
   "cell_type": "markdown",
   "id": "997d4790",
   "metadata": {},
   "source": [
    "### Q.8 Switch the case in given string and generate following output. var =\n",
    "### 'TechBeamers'\n",
    "### Output : tECHbEAMERS"
   ]
  },
  {
   "cell_type": "code",
   "execution_count": 58,
   "id": "db427643",
   "metadata": {},
   "outputs": [
    {
     "name": "stdout",
     "output_type": "stream",
     "text": [
      "tECHbEAMERS\n"
     ]
    }
   ],
   "source": [
    "var = 'TechBeamers'\n",
    "# Using swapcase to channge case of every character\n",
    "ans = var.swapcase()\n",
    "print(ans)\n",
    "\n",
    "# OUTPUT:-\n",
    "\n",
    "# tECHbEAMERS\n"
   ]
  },
  {
   "cell_type": "markdown",
   "id": "d446c3f4",
   "metadata": {},
   "source": [
    "### Q.9 Split given string and generate following output.\n",
    "### var = \"This is a good example\"\n",
    "### Output 1: ['This', 'is', 'a', 'good', 'example']\n",
    "### Output 2: ['This', 'is', 'a', 'good example']"
   ]
  },
  {
   "cell_type": "code",
   "execution_count": 61,
   "id": "441f3927",
   "metadata": {},
   "outputs": [
    {
     "name": "stdout",
     "output_type": "stream",
     "text": [
      "['This', 'is', 'a', 'good', 'example']\n",
      "['This', 'is', 'a', 'good example']\n"
     ]
    }
   ],
   "source": [
    "var = \"This is a good example\"\n",
    "ans1 = var.split()\n",
    "ans2 = var.split(\" \",3)\n",
    "print(ans1)\n",
    "print(ans2)\n",
    "\n",
    "# OUTPUT:-\n",
    "# ['This', 'is', 'a', 'good', 'example']\n",
    "# ['This', 'is', 'a', 'good example']"
   ]
  },
  {
   "cell_type": "markdown",
   "id": "5b05f2d2",
   "metadata": {},
   "source": [
    "### Q.10 Split given paragraph in to four parts and count length of each statement.\n",
    "### “A paragraph is a series of sentences that are organized and coherent, and are all relatedtoasingle topic.\n",
    "### Almost every piece of writing you do that is longer than a fewsentences shouldbe organized into\n",
    "### paragraphs.”"
   ]
  },
  {
   "cell_type": "code",
   "execution_count": 72,
   "id": "a94fef98",
   "metadata": {},
   "outputs": [
    {
     "name": "stdout",
     "output_type": "stream",
     "text": [
      "['A paragraph is a series of sentences that are organized and coherent', ' and are all relatedtoasingle topic.Almost every piece of writing you', ' do that is longer than a ', 'fewsentences shouldbe organized into paragraphs']\n",
      "The length of 1 Paragraph :68 \n",
      "The length of 2 Paragraph :69 \n",
      "The length of 3 Paragraph :26 \n",
      "The length of 4 Paragraph :47 \n"
     ]
    }
   ],
   "source": [
    "p = \"A paragraph is a series of sentences that are organized and coherent, and are all relatedtoasingle topic.Almost every piece of writing you, do that is longer than a ,fewsentences shouldbe organized into paragraphs\"\n",
    "ans = p.split(\",\")\n",
    "print(ans)\n",
    "\n",
    "for i in range(0,len(ans)):\n",
    "    print(\"The length of {} Paragraph :{} \".format(i+1,len(ans[i])))\n",
    "    \n",
    "# # Another Way\n",
    "# j = 1\n",
    "# for i in ans:\n",
    "#     print(\"The length of {} Paragraph :{} \".format(j,len(i)))\n",
    "#     j +=1\n",
    " \n",
    "    \n",
    "# OUTPUT:-\n",
    "# ['A paragraph is a series of sentences that are organized and coherent', ' and are all relatedtoasingle topic.Almost every piece of writing you', ' do that is longer than a ', 'fewsentences shouldbe organized into paragraphs']\n",
    "# The length of 1 Paragraph :68 \n",
    "# The length of 2 Paragraph :69 \n",
    "# The length of 3 Paragraph :26 \n",
    "# The length of 4 Paragraph :47 \n"
   ]
  },
  {
   "cell_type": "code",
   "execution_count": 71,
   "id": "9ecb2d44",
   "metadata": {},
   "outputs": [
    {
     "name": "stdout",
     "output_type": "stream",
     "text": [
      "5\n",
      "4\n",
      "3\n",
      "2\n",
      "1\n"
     ]
    }
   ],
   "source": []
  },
  {
   "cell_type": "code",
   "execution_count": null,
   "id": "d12af43d",
   "metadata": {},
   "outputs": [],
   "source": []
  }
 ],
 "metadata": {
  "kernelspec": {
   "display_name": "Python 3 (ipykernel)",
   "language": "python",
   "name": "python3"
  },
  "language_info": {
   "codemirror_mode": {
    "name": "ipython",
    "version": 3
   },
   "file_extension": ".py",
   "mimetype": "text/x-python",
   "name": "python",
   "nbconvert_exporter": "python",
   "pygments_lexer": "ipython3",
   "version": "3.9.13"
  }
 },
 "nbformat": 4,
 "nbformat_minor": 5
}
