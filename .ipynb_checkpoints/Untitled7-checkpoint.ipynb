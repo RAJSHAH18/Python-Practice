{
 "cells": [
  {
   "cell_type": "code",
   "execution_count": 14,
   "id": "ff6815d7",
   "metadata": {},
   "outputs": [
    {
     "name": "stdout",
     "output_type": "stream",
     "text": [
      "Enter Value to Search : 5\n",
      "Item Not Found\n"
     ]
    }
   ],
   "source": [
    "myList = [1,2,\"Sonia\",\"Kritika\",True]\n",
    "searchItem = input(\"Enter Value to Search : \")\n",
    "for  i in myList:\n",
    "    if str(i) == str(searchItem):\n",
    "        print(\"Item Found\")\n",
    "        break\n",
    "else:\n",
    "    print(\"Item Not Found\")\n",
    "      "
   ]
  },
  {
   "cell_type": "code",
   "execution_count": 22,
   "id": "a7e8832c",
   "metadata": {},
   "outputs": [
    {
     "name": "stdout",
     "output_type": "stream",
     "text": [
      "Enter Value to Search : True\n",
      "Item Found\n"
     ]
    }
   ],
   "source": [
    "myList = [1,2,\"Sonia\",\"Kritika\",True]\n",
    "searchItem = input(\"Enter Value to Search : \")\n",
    "for  i in myList:\n",
    "    if i == int(searchItem) if searchItem.isdigit() else searchItem:\n",
    "        print(\"Item Found\")\n",
    "        break\n",
    "else:\n",
    "    print(\"Item Not Found\")"
   ]
  },
  {
   "cell_type": "code",
   "execution_count": 23,
   "id": "8aad4f11",
   "metadata": {},
   "outputs": [
    {
     "ename": "TypeError",
     "evalue": "sequence item 0: expected str instance, int found",
     "output_type": "error",
     "traceback": [
      "\u001b[1;31m---------------------------------------------------------------------------\u001b[0m",
      "\u001b[1;31mTypeError\u001b[0m                                 Traceback (most recent call last)",
      "\u001b[1;32m~\\AppData\\Local\\Temp\\ipykernel_4252\\573142835.py\u001b[0m in \u001b[0;36m<module>\u001b[1;34m\u001b[0m\n\u001b[0;32m      1\u001b[0m \u001b[0mmyList\u001b[0m \u001b[1;33m=\u001b[0m \u001b[1;33m[\u001b[0m\u001b[1;36m1\u001b[0m\u001b[1;33m,\u001b[0m\u001b[1;36m2\u001b[0m\u001b[1;33m,\u001b[0m\u001b[1;34m\"Sonia\"\u001b[0m\u001b[1;33m,\u001b[0m\u001b[1;34m\"Kritika\"\u001b[0m\u001b[1;33m,\u001b[0m\u001b[1;32mTrue\u001b[0m\u001b[1;33m]\u001b[0m\u001b[1;33m\u001b[0m\u001b[1;33m\u001b[0m\u001b[0m\n\u001b[1;32m----> 2\u001b[1;33m \u001b[0mmyList\u001b[0m \u001b[1;33m=\u001b[0m \u001b[1;34m\" \"\u001b[0m\u001b[1;33m.\u001b[0m\u001b[0mjoin\u001b[0m\u001b[1;33m(\u001b[0m\u001b[0mmyList\u001b[0m\u001b[1;33m)\u001b[0m\u001b[1;33m\u001b[0m\u001b[1;33m\u001b[0m\u001b[0m\n\u001b[0m\u001b[0;32m      3\u001b[0m \u001b[0msearchItem\u001b[0m \u001b[1;33m=\u001b[0m \u001b[0minput\u001b[0m\u001b[1;33m(\u001b[0m\u001b[1;34m\"Enter Value to Search : \"\u001b[0m\u001b[1;33m)\u001b[0m\u001b[1;33m\u001b[0m\u001b[1;33m\u001b[0m\u001b[0m\n\u001b[0;32m      4\u001b[0m \u001b[1;32mfor\u001b[0m  \u001b[0mi\u001b[0m \u001b[1;32min\u001b[0m \u001b[0mmyList\u001b[0m\u001b[1;33m:\u001b[0m\u001b[1;33m\u001b[0m\u001b[1;33m\u001b[0m\u001b[0m\n\u001b[0;32m      5\u001b[0m     \u001b[1;32mif\u001b[0m \u001b[0mi\u001b[0m \u001b[1;33m==\u001b[0m \u001b[0mint\u001b[0m\u001b[1;33m(\u001b[0m\u001b[0msearchItem\u001b[0m\u001b[1;33m)\u001b[0m \u001b[1;32mif\u001b[0m \u001b[0msearchItem\u001b[0m\u001b[1;33m.\u001b[0m\u001b[0misdigit\u001b[0m\u001b[1;33m(\u001b[0m\u001b[1;33m)\u001b[0m \u001b[1;32melse\u001b[0m \u001b[0msearchItem\u001b[0m\u001b[1;33m:\u001b[0m\u001b[1;33m\u001b[0m\u001b[1;33m\u001b[0m\u001b[0m\n",
      "\u001b[1;31mTypeError\u001b[0m: sequence item 0: expected str instance, int found"
     ]
    }
   ],
   "source": [
    "myList = [1,2,\"Sonia\",\"Kritika\",True]\n",
    "myList = \" \".join([str()])\n",
    "searchItem = input(\"Enter Value to Search : \")\n",
    "for  i in myList:\n",
    "    if i == int(searchItem) if searchItem.isdigit() else searchItem:\n",
    "        print(\"Item Found\")\n",
    "        break\n",
    "else:\n",
    "    print(\"Item Not Found\")"
   ]
  },
  {
   "cell_type": "code",
   "execution_count": 25,
   "id": "177d23f8",
   "metadata": {},
   "outputs": [
    {
     "name": "stdout",
     "output_type": "stream",
     "text": [
      "Enter Value to Search : 15\n",
      "Item Not Found\n"
     ]
    }
   ],
   "source": [
    "myList = [1,2,\"Sonia\",\"Kritika\",True]\n",
    "searchItem = input(\"Enter Value to Search : \")\n",
    "for  i in myList:\n",
    "    if \"\"+i == \"\"+searchItem:\n",
    "        print(\"Item Found\")\n",
    "        break\n",
    "else:\n",
    "    print(\"Item Not Found\")"
   ]
  },
  {
   "cell_type": "code",
   "execution_count": null,
   "id": "79758556",
   "metadata": {},
   "outputs": [],
   "source": []
  }
 ],
 "metadata": {
  "kernelspec": {
   "display_name": "Python 3 (ipykernel)",
   "language": "python",
   "name": "python3"
  },
  "language_info": {
   "codemirror_mode": {
    "name": "ipython",
    "version": 3
   },
   "file_extension": ".py",
   "mimetype": "text/x-python",
   "name": "python",
   "nbconvert_exporter": "python",
   "pygments_lexer": "ipython3",
   "version": "3.9.13"
  }
 },
 "nbformat": 4,
 "nbformat_minor": 5
}
