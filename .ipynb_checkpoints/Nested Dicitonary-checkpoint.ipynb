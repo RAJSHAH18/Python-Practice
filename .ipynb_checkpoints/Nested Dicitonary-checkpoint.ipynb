{
 "cells": [
  {
   "cell_type": "code",
   "execution_count": 5,
   "id": "946c0dfc",
   "metadata": {},
   "outputs": [],
   "source": [
    "student = {  \"John\" :{\"History\" : 80,\"Chemistry\" : 85,\"Physics\" : 60,\"Maths\" : 85,\"English\" :92 },\n",
    "             \"Martina\" :{\"History\" : 95,\"Chemistry\" : 82,\"Physics\" : 80,\"Maths\" : 88,\"English\" :92 },\n",
    "             \"Mark\" :{\"History\" : 90,\"Chemistry\" : 75,\"Physics\" : 77,\"Maths\" : 85,\"English\" :92 }\n",
    "          }"
   ]
  },
  {
   "cell_type": "code",
   "execution_count": 6,
   "id": "36121a81",
   "metadata": {},
   "outputs": [
    {
     "data": {
      "text/plain": [
       "{'John': {'History': 80,\n",
       "  'Chemistry': 85,\n",
       "  'Physics': 60,\n",
       "  'Maths': 85,\n",
       "  'English': 92},\n",
       " 'Martina': {'History': 95,\n",
       "  'Chemistry': 82,\n",
       "  'Physics': 80,\n",
       "  'Maths': 88,\n",
       "  'English': 92},\n",
       " 'Mark': {'History': 90,\n",
       "  'Chemistry': 75,\n",
       "  'Physics': 77,\n",
       "  'Maths': 85,\n",
       "  'English': 92}}"
      ]
     },
     "execution_count": 6,
     "metadata": {},
     "output_type": "execute_result"
    }
   ],
   "source": [
    "student"
   ]
  },
  {
   "cell_type": "code",
   "execution_count": 7,
   "id": "6a4da658",
   "metadata": {},
   "outputs": [
    {
     "data": {
      "text/plain": [
       "{'History': 80, 'Chemistry': 85, 'Physics': 60, 'Maths': 85, 'English': 92}"
      ]
     },
     "execution_count": 7,
     "metadata": {},
     "output_type": "execute_result"
    }
   ],
   "source": [
    "student[\"John\"]"
   ]
  },
  {
   "cell_type": "code",
   "execution_count": 8,
   "id": "3c5fc354",
   "metadata": {},
   "outputs": [
    {
     "data": {
      "text/plain": [
       "80"
      ]
     },
     "execution_count": 8,
     "metadata": {},
     "output_type": "execute_result"
    }
   ],
   "source": [
    "student[\"John\"][\"History\"]"
   ]
  },
  {
   "cell_type": "code",
   "execution_count": 9,
   "id": "d2d7307a",
   "metadata": {},
   "outputs": [
    {
     "data": {
      "text/plain": [
       "82"
      ]
     },
     "execution_count": 9,
     "metadata": {},
     "output_type": "execute_result"
    }
   ],
   "source": [
    "student[\"Martina\"][\"Chemistry\"]"
   ]
  },
  {
   "cell_type": "markdown",
   "id": "2d9efc07",
   "metadata": {},
   "source": [
    "# Iterating nested dictionary"
   ]
  },
  {
   "cell_type": "code",
   "execution_count": 12,
   "id": "7a73d899",
   "metadata": {},
   "outputs": [
    {
     "name": "stdout",
     "output_type": "stream",
     "text": [
      "John got 80 in History\n",
      "Martina got 95 in History\n",
      "Mark got 90 in History\n"
     ]
    }
   ],
   "source": [
    "for i in student:\n",
    "    print(i,\"got\",student[i][\"History\"],\"in History\")"
   ]
  },
  {
   "cell_type": "code",
   "execution_count": 13,
   "id": "4f4c7e75",
   "metadata": {},
   "outputs": [
    {
     "data": {
      "text/plain": [
       "3"
      ]
     },
     "execution_count": 13,
     "metadata": {},
     "output_type": "execute_result"
    }
   ],
   "source": [
    "len(student)"
   ]
  },
  {
   "cell_type": "code",
   "execution_count": 25,
   "id": "cd6d0d8e",
   "metadata": {},
   "outputs": [
    {
     "name": "stdout",
     "output_type": "stream",
     "text": [
      "John 5\n",
      "Martina 5\n",
      "Mark 5\n",
      "Mark\n"
     ]
    }
   ],
   "source": [
    "for i in student:\n",
    "    print(i,len(student[i]))\n",
    "print(i)"
   ]
  },
  {
   "cell_type": "markdown",
   "id": "fde6cf99",
   "metadata": {},
   "source": [
    "# Maximum Marks Get by Student "
   ]
  },
  {
   "cell_type": "code",
   "execution_count": 37,
   "id": "4683f573",
   "metadata": {},
   "outputs": [
    {
     "name": "stdout",
     "output_type": "stream",
     "text": [
      "['History', 'Chemistry', 'Physics', 'Maths', 'English']\n",
      "['History', 'Chemistry', 'Physics', 'Maths', 'English']\n",
      "\n",
      "The maximum marks according to subjects are :- \n",
      "History = 95\n",
      "Chemistry = 85\n",
      "Physics = 80\n",
      "Maths = 88\n",
      "English = 92\n"
     ]
    }
   ],
   "source": [
    "# 1 way\n",
    "subjects = []\n",
    "for keys,values in student[\"Mark\"].items():\n",
    "    subjects.append(keys)\n",
    "print(subjects)\n",
    "# 2 way\n",
    "subjects = []\n",
    "for i in student[\"Mark\"]:\n",
    "    subjects.append(i)\n",
    "print(subjects)\n",
    "print()\n",
    "print(\"The maximum marks according to subjects are :- \")\n",
    "for i in subjects:\n",
    "    Marks = []\n",
    "    for j in student:\n",
    "        Marks.append(student[j][i])\n",
    "    print(i,\"=\",max(Marks))\n",
    "    \n"
   ]
  },
  {
   "cell_type": "markdown",
   "id": "12d2daae",
   "metadata": {},
   "source": [
    "# Minimum marks of particular subjects"
   ]
  },
  {
   "cell_type": "code",
   "execution_count": 39,
   "id": "03038c53",
   "metadata": {},
   "outputs": [
    {
     "name": "stdout",
     "output_type": "stream",
     "text": [
      "['History', 'Chemistry', 'Physics', 'Maths', 'English']\n"
     ]
    }
   ],
   "source": [
    "sub = []\n",
    "for i in student[\"Mark\"]:\n",
    "    sub.append(i)\n",
    "print(sub)"
   ]
  },
  {
   "cell_type": "code",
   "execution_count": 42,
   "id": "e630475e",
   "metadata": {},
   "outputs": [
    {
     "name": "stdout",
     "output_type": "stream",
     "text": [
      "The Minimum marks according to subjects are :- \n",
      "History = 80\n",
      "Chemistry = 75\n",
      "Physics = 60\n",
      "Maths = 85\n",
      "English = 92\n"
     ]
    }
   ],
   "source": [
    "print(\"The Minimum marks according to subjects are :- \")\n",
    "for i in sub:\n",
    "    marks = []\n",
    "    for j in student:\n",
    "        marks.append(student[j][i])\n",
    "    print(i,\"=\",min(marks))"
   ]
  },
  {
   "cell_type": "code",
   "execution_count": null,
   "id": "079b1b9e",
   "metadata": {},
   "outputs": [],
   "source": [
    "\n"
   ]
  }
 ],
 "metadata": {
  "kernelspec": {
   "display_name": "Python 3 (ipykernel)",
   "language": "python",
   "name": "python3"
  },
  "language_info": {
   "codemirror_mode": {
    "name": "ipython",
    "version": 3
   },
   "file_extension": ".py",
   "mimetype": "text/x-python",
   "name": "python",
   "nbconvert_exporter": "python",
   "pygments_lexer": "ipython3",
   "version": "3.9.13"
  }
 },
 "nbformat": 4,
 "nbformat_minor": 5
}
