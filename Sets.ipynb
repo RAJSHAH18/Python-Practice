{
 "cells": [
  {
   "cell_type": "code",
   "execution_count": 1,
   "id": "5bfe46e2",
   "metadata": {},
   "outputs": [],
   "source": [
    "# Sets is collection of unordered data items which can of different data types\n",
    "# Sets are defined in curly brackets.\n",
    "# In sets all the elements are unique\n"
   ]
  },
  {
   "cell_type": "markdown",
   "id": "acc4c563",
   "metadata": {},
   "source": [
    "# Define a Set"
   ]
  },
  {
   "cell_type": "code",
   "execution_count": 3,
   "id": "b322853d",
   "metadata": {},
   "outputs": [
    {
     "name": "stdout",
     "output_type": "stream",
     "text": [
      "{0.1, 0, 2, 3, 1, 'Hello'}\n"
     ]
    }
   ],
   "source": [
    "a = {.10,0,1,2,3,\"Hello\",True}\n",
    "print(a)"
   ]
  },
  {
   "cell_type": "code",
   "execution_count": 9,
   "id": "9c0b2842",
   "metadata": {},
   "outputs": [],
   "source": [
    "B = {True,False,'True','False',0,1,10,20,20,30.25,20.2}"
   ]
  },
  {
   "cell_type": "code",
   "execution_count": 10,
   "id": "a1255dce",
   "metadata": {},
   "outputs": [
    {
     "data": {
      "text/plain": [
       "{10, 20, 20.2, 30.25, False, 'False', True, 'True'}"
      ]
     },
     "execution_count": 10,
     "metadata": {},
     "output_type": "execute_result"
    }
   ],
   "source": [
    "B"
   ]
  },
  {
   "cell_type": "code",
   "execution_count": 11,
   "id": "e826fdf1",
   "metadata": {},
   "outputs": [
    {
     "data": {
      "text/plain": [
       "set"
      ]
     },
     "execution_count": 11,
     "metadata": {},
     "output_type": "execute_result"
    }
   ],
   "source": [
    "type(B)"
   ]
  },
  {
   "cell_type": "code",
   "execution_count": 7,
   "id": "037b9b9b",
   "metadata": {},
   "outputs": [],
   "source": [
    "# Set doesnt contains duplicate values\n",
    "list1 = [1,2,3,4,4,5,5.0,6,0.6,17,17.25,18,True,False]"
   ]
  },
  {
   "cell_type": "code",
   "execution_count": 8,
   "id": "c66fa5f7",
   "metadata": {},
   "outputs": [
    {
     "data": {
      "text/plain": [
       "[1, 2, 3, 4, 4, 5, 5.0, 6, 0.6, 17, 17.25, 18, True, False]"
      ]
     },
     "execution_count": 8,
     "metadata": {},
     "output_type": "execute_result"
    }
   ],
   "source": [
    "list1"
   ]
  },
  {
   "cell_type": "markdown",
   "id": "ac592534",
   "metadata": {},
   "source": [
    "# Converting list into a set by using set operator\n",
    "# set method is constructor like int,str,etc....\n"
   ]
  },
  {
   "cell_type": "code",
   "execution_count": 10,
   "id": "805b659a",
   "metadata": {},
   "outputs": [
    {
     "name": "stdout",
     "output_type": "stream",
     "text": [
      "{0.6, 1, 2, 3, 4, 5, 6, False, 17, 17.25, 18}\n",
      "<class 'list'>\n"
     ]
    }
   ],
   "source": [
    "# Covert list into set\n",
    "print(set(list1))\n",
    "print(type(list1))"
   ]
  },
  {
   "cell_type": "code",
   "execution_count": 11,
   "id": "62e37d3b",
   "metadata": {},
   "outputs": [
    {
     "name": "stdout",
     "output_type": "stream",
     "text": [
      "0.6 1 2 3 4 5 6 False 17 17.25 18 "
     ]
    }
   ],
   "source": [
    "# Printing set element\n",
    "for i in set(list1):\n",
    "    print(i,end=\" \")"
   ]
  },
  {
   "cell_type": "code",
   "execution_count": null,
   "id": "625ed248",
   "metadata": {},
   "outputs": [],
   "source": []
  }
 ],
 "metadata": {
  "kernelspec": {
   "display_name": "Python 3 (ipykernel)",
   "language": "python",
   "name": "python3"
  },
  "language_info": {
   "codemirror_mode": {
    "name": "ipython",
    "version": 3
   },
   "file_extension": ".py",
   "mimetype": "text/x-python",
   "name": "python",
   "nbconvert_exporter": "python",
   "pygments_lexer": "ipython3",
   "version": "3.9.13"
  }
 },
 "nbformat": 4,
 "nbformat_minor": 5
}
