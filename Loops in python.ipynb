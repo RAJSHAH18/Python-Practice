{
 "cells": [
  {
   "cell_type": "markdown",
   "id": "6a87a093",
   "metadata": {},
   "source": [
    "# For Loop"
   ]
  },
  {
   "cell_type": "code",
   "execution_count": 1,
   "id": "1c657ea7",
   "metadata": {},
   "outputs": [],
   "source": [
    "# For loop is used too print something several no.of times\n",
    "# We can use for loop to illterate any sequence or any object(List,Dictionary,Set)\n",
    "# Syntax:for condition:\n",
    "# statements\n"
   ]
  },
  {
   "cell_type": "code",
   "execution_count": 3,
   "id": "e23c2f53",
   "metadata": {},
   "outputs": [
    {
     "name": "stdout",
     "output_type": "stream",
     "text": [
      "0\n",
      "1\n",
      "2\n",
      "3\n",
      "4\n"
     ]
    }
   ],
   "source": [
    "for i in range(0,5):\n",
    "    print (i)"
   ]
  },
  {
   "cell_type": "code",
   "execution_count": 9,
   "id": "6f92e441",
   "metadata": {},
   "outputs": [
    {
     "name": "stdout",
     "output_type": "stream",
     "text": [
      "Hello world\n",
      "Hello world\n",
      "Hello world\n"
     ]
    }
   ],
   "source": [
    "for i in range(-3,0):\n",
    "    print(\"Hello world\")\n"
   ]
  },
  {
   "cell_type": "code",
   "execution_count": null,
   "id": "65c53200",
   "metadata": {},
   "outputs": [],
   "source": []
  },
  {
   "cell_type": "code",
   "execution_count": 10,
   "id": "f9330abe",
   "metadata": {},
   "outputs": [
    {
     "name": "stdout",
     "output_type": "stream",
     "text": [
      "1\n",
      "1\n",
      "1\n",
      "1\n",
      "1\n"
     ]
    }
   ],
   "source": [
    "x = 1\n",
    "for i in range(0,5):\n",
    "    print (x)"
   ]
  },
  {
   "cell_type": "code",
   "execution_count": 11,
   "id": "ef55dce1",
   "metadata": {},
   "outputs": [
    {
     "name": "stdout",
     "output_type": "stream",
     "text": [
      "1\n",
      "2\n",
      "3\n",
      "4\n",
      "5\n"
     ]
    }
   ],
   "source": [
    "x = 1\n",
    "for i in range(0,5):\n",
    "    print (x+i)"
   ]
  },
  {
   "cell_type": "markdown",
   "id": "6e6a7910",
   "metadata": {},
   "source": [
    "# Factorial of number"
   ]
  },
  {
   "cell_type": "markdown",
   "id": "5abc07f4",
   "metadata": {},
   "source": [
    "\n",
    "for i in range(1,int(input(\"Enter No :\"))+1):\n",
    "    x = (x*i)\n",
    "    \n",
    "print (\"The Factorial is \",x);"
   ]
  },
  {
   "cell_type": "code",
   "execution_count": 18,
   "id": "bb585c5c",
   "metadata": {},
   "outputs": [
    {
     "name": "stdout",
     "output_type": "stream",
     "text": [
      "Enter no :5\n",
      "The Factorial of 5 is 120\n"
     ]
    }
   ],
   "source": [
    "x = 1\n",
    "num = int(input(\"Enter no :\"))\n",
    "for i in range(1,num+1):\n",
    "    x = (x*i)\n",
    "print (\"The Factorial of {} is {}\".format(num,x));\n"
   ]
  },
  {
   "cell_type": "markdown",
   "id": "7a4aa39e",
   "metadata": {},
   "source": [
    "# For Iterating Lists element using for loop"
   ]
  },
  {
   "cell_type": "code",
   "execution_count": 19,
   "id": "bed57b5f",
   "metadata": {},
   "outputs": [
    {
     "name": "stdout",
     "output_type": "stream",
     "text": [
      "Red\n",
      "Yellow\n",
      "Green\n",
      "Blue\n"
     ]
    }
   ],
   "source": [
    "l1 = [\"Red\",\"Yellow\",\"Green\",\"Blue\"]\n",
    "for i in l1:\n",
    "    print (i);"
   ]
  },
  {
   "cell_type": "markdown",
   "id": "9cf6859d",
   "metadata": {},
   "source": [
    "# To provide range to illetrate lists items"
   ]
  },
  {
   "cell_type": "code",
   "execution_count": 20,
   "id": "56fd9455",
   "metadata": {},
   "outputs": [
    {
     "name": "stdout",
     "output_type": "stream",
     "text": [
      "Red\n",
      "Yellow\n",
      "Green\n",
      "Blue\n"
     ]
    }
   ],
   "source": [
    "for i in range(0,len(l1)):\n",
    "    print (l1[i]);"
   ]
  },
  {
   "cell_type": "markdown",
   "id": "8cf2ff10",
   "metadata": {},
   "source": [
    "# While loop"
   ]
  },
  {
   "cell_type": "code",
   "execution_count": 21,
   "id": "880a1205",
   "metadata": {},
   "outputs": [],
   "source": [
    "# While is similar to for loop .\n",
    "# But in while loop we have to assign a value to tje variable before using it in while loop\n",
    "# We can use while loop if we want to perform any task several no.of times\n",
    "# Syntax for while loop: while(condition)\n"
   ]
  },
  {
   "cell_type": "code",
   "execution_count": 22,
   "id": "3ba4a200",
   "metadata": {},
   "outputs": [
    {
     "name": "stdout",
     "output_type": "stream",
     "text": [
      "Hello\n",
      "Hello\n",
      "Hello\n",
      "Hello\n",
      "Hello\n",
      "Hello\n",
      "Hello\n",
      "Hello\n",
      "Hello\n",
      "Hello\n"
     ]
    }
   ],
   "source": [
    "i = 0\n",
    "while (i<10):\n",
    "    print (\"Hello\")\n",
    "    i +=1"
   ]
  },
  {
   "cell_type": "code",
   "execution_count": 23,
   "id": "033d65e7",
   "metadata": {},
   "outputs": [
    {
     "name": "stdout",
     "output_type": "stream",
     "text": [
      "0\n",
      "1\n",
      "2\n",
      "3\n",
      "4\n"
     ]
    }
   ],
   "source": [
    "i = 0\n",
    "while(i < 5):\n",
    "    print (i)\n",
    "    i+=1"
   ]
  },
  {
   "cell_type": "code",
   "execution_count": 25,
   "id": "0178abb9",
   "metadata": {},
   "outputs": [
    {
     "name": "stdout",
     "output_type": "stream",
     "text": [
      "0 0\n",
      "1 2\n",
      "2 4\n",
      "3 6\n"
     ]
    }
   ],
   "source": [
    "i = 0\n",
    "j = 0\n",
    "while(i + j < 10):\n",
    "    print(i,j)\n",
    "    i +=1\n",
    "    j +=2"
   ]
  },
  {
   "cell_type": "markdown",
   "id": "b7ef1351",
   "metadata": {},
   "source": [
    "# Break Keyword"
   ]
  },
  {
   "cell_type": "code",
   "execution_count": 26,
   "id": "a5cd7efb",
   "metadata": {},
   "outputs": [
    {
     "name": "stdout",
     "output_type": "stream",
     "text": [
      "1\n",
      "2\n",
      "3\n"
     ]
    }
   ],
   "source": [
    "# Break keyword in python is used to exit or break the loop .\n",
    "for i in range(1,5):\n",
    "    print (i)\n",
    "    if(i == 3):\n",
    "        break"
   ]
  },
  {
   "cell_type": "code",
   "execution_count": 28,
   "id": "c43d811e",
   "metadata": {},
   "outputs": [
    {
     "name": "stdout",
     "output_type": "stream",
     "text": [
      "Enter a number :5\n",
      "1\n"
     ]
    }
   ],
   "source": [
    "x = int(input(\"Enter a number :\"))\n",
    "for i in range(1,x):\n",
    "    if(i %2==0):\n",
    "        break\n",
    "    print(i)"
   ]
  },
  {
   "cell_type": "code",
   "execution_count": 29,
   "id": "cac9d041",
   "metadata": {},
   "outputs": [
    {
     "name": "stdout",
     "output_type": "stream",
     "text": [
      "10\n",
      "20\n"
     ]
    }
   ],
   "source": [
    "l1 =  [10,20,54,79,110]\n",
    "for i in l1:\n",
    "    if(i >50):\n",
    "        break\n",
    "    print (i)"
   ]
  },
  {
   "cell_type": "code",
   "execution_count": null,
   "id": "ee83f0dd",
   "metadata": {},
   "outputs": [],
   "source": [
    "# i = 0\n",
    "# while(i<5):\n",
    "# #     if(i == 3):\n",
    "# #         break\n",
    "#     i=i+1\n",
    "#     print(i)\n",
    "    "
   ]
  },
  {
   "cell_type": "code",
   "execution_count": 2,
   "id": "2b41dc6d",
   "metadata": {},
   "outputs": [
    {
     "name": "stdout",
     "output_type": "stream",
     "text": [
      "0\n",
      "1\n",
      "2\n"
     ]
    }
   ],
   "source": [
    "i = 0\n",
    "while(i<5):\n",
    "    if(i==3):\n",
    "        break\n",
    "    print(i)\n",
    "    i +=1\n",
    "    "
   ]
  },
  {
   "cell_type": "markdown",
   "id": "e78c1f52",
   "metadata": {},
   "source": [
    "# Continue Keyword"
   ]
  },
  {
   "cell_type": "code",
   "execution_count": 5,
   "id": "4099560f",
   "metadata": {},
   "outputs": [],
   "source": [
    "# continue keyword is used to skip any iteration based on condition it means it will not exit tthe loop it will continue tthe loop\n",
    " "
   ]
  },
  {
   "cell_type": "code",
   "execution_count": 6,
   "id": "9a925164",
   "metadata": {},
   "outputs": [
    {
     "name": "stdout",
     "output_type": "stream",
     "text": [
      "0\n",
      "1\n",
      "2\n",
      "4\n"
     ]
    }
   ],
   "source": [
    "for i in range(0,5):\n",
    "    if(i == 3):\n",
    "        continue\n",
    "    print(i)"
   ]
  },
  {
   "cell_type": "code",
   "execution_count": 7,
   "id": "1499cb9b",
   "metadata": {},
   "outputs": [
    {
     "name": "stdout",
     "output_type": "stream",
     "text": [
      "10\n",
      "20\n",
      "30\n",
      "50\n"
     ]
    }
   ],
   "source": [
    "l1 = [10,20,30,40,50]\n",
    "for i  in l1:\n",
    "    if(i ==40):\n",
    "        continue\n",
    "    print(i)"
   ]
  },
  {
   "cell_type": "code",
   "execution_count": null,
   "id": "a9f48dda",
   "metadata": {},
   "outputs": [],
   "source": []
  }
 ],
 "metadata": {
  "kernelspec": {
   "display_name": "Python 3 (ipykernel)",
   "language": "python",
   "name": "python3"
  },
  "language_info": {
   "codemirror_mode": {
    "name": "ipython",
    "version": 3
   },
   "file_extension": ".py",
   "mimetype": "text/x-python",
   "name": "python",
   "nbconvert_exporter": "python",
   "pygments_lexer": "ipython3",
   "version": "3.9.13"
  }
 },
 "nbformat": 4,
 "nbformat_minor": 5
}
