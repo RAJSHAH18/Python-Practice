{
 "cells": [
  {
   "cell_type": "code",
   "execution_count": 14,
   "id": "df62383e",
   "metadata": {},
   "outputs": [
    {
     "name": "stdout",
     "output_type": "stream",
     "text": [
      "Enter Value to Search : 5\n",
      "Item Not Found\n"
     ]
    }
   ],
   "source": [
    "myList = [1,2,\"Sonia\",\"Kritika\",True]\n",
    "searchItem = input(\"Enter Value to Search : \")\n",
    "for  i in myList:\n",
    "    if str(i) == str(searchItem):\n",
    "        print(\"Item Found\")\n",
    "        break\n",
    "else:\n",
    "    print(\"Item Not Found\")\n",
    "      "
   ]
  },
  {
   "cell_type": "code",
   "execution_count": 22,
   "id": "374c7a37",
   "metadata": {},
   "outputs": [
    {
     "name": "stdout",
     "output_type": "stream",
     "text": [
      "Enter Value to Search : True\n",
      "Item Found\n"
     ]
    }
   ],
   "source": [
    "myList = [1,2,\"Sonia\",\"Kritika\",True]\n",
    "searchItem = input(\"Enter Value to Search : \")\n",
    "for  i in myList:\n",
    "    if i == int(searchItem) if searchItem.isdigit() else searchItem:\n",
    "        print(\"Item Found\")\n",
    "        break\n",
    "else:\n",
    "    print(\"Item Not Found\")"
   ]
  },
  {
   "cell_type": "code",
   "execution_count": 1,
   "id": "5584bea5",
   "metadata": {},
   "outputs": [
    {
     "name": "stdout",
     "output_type": "stream",
     "text": [
      "Enter Value to Search : 111\n",
      "Item Not Found\n"
     ]
    }
   ],
   "source": [
    "myList = [1,2,\"Sonia\",\"Kritika\",True]\n",
    "myList = \" \".join([str()])\n",
    "searchItem = input(\"Enter Value to Search : \")\n",
    "for  i in myList:\n",
    "    if i == int(searchItem) if searchItem.isdigit() else searchItem:\n",
    "        print(\"Item Found\")\n",
    "        break\n",
    "else:\n",
    "    print(\"Item Not Found\")"
   ]
  },
  {
   "cell_type": "code",
   "execution_count": 27,
   "id": "772f9773",
   "metadata": {},
   "outputs": [
    {
     "name": "stdout",
     "output_type": "stream",
     "text": [
      "Enter Value to Search : 1\n",
      "Item Found\n"
     ]
    }
   ],
   "source": [
    "myList = [1,2,\"Sonia\",\"Kritika\",True]\n",
    "searchItem = input(\"Enter Value to Search : \")\n",
    "for  i in myList:\n",
    "    if str(i) == \"\"+searchItem:\n",
    "        print(\"Item Found\")\n",
    "        break\n",
    "else:\n",
    "    print(\"Item Not Found\")"
   ]
  },
  {
   "cell_type": "code",
   "execution_count": 31,
   "id": "aa5592e3",
   "metadata": {},
   "outputs": [
    {
     "name": "stdout",
     "output_type": "stream",
     "text": [
      "<class 'int'>\n"
     ]
    }
   ],
   "source": [
    "print(type(1))"
   ]
  },
  {
   "cell_type": "code",
   "execution_count": 32,
   "id": "da73f42f",
   "metadata": {},
   "outputs": [
    {
     "name": "stdout",
     "output_type": "stream",
     "text": [
      "The value is an integer.\n"
     ]
    }
   ],
   "source": [
    "value = 1\n",
    "\n",
    "if type(value) == int:\n",
    "    print(\"The value is an integer.\")\n",
    "else:\n",
    "    print(\"The value is not an integer.\")\n"
   ]
  },
  {
   "cell_type": "code",
   "execution_count": 44,
   "id": "6f629d35",
   "metadata": {},
   "outputs": [
    {
     "name": "stdout",
     "output_type": "stream",
     "text": [
      "Enter Value to Search : 1\n",
      "Item Found\n"
     ]
    }
   ],
   "source": [
    "myList = [1,2,\"Sonia\",\"Kritika\",True]\n",
    "searchItem = input(\"Enter Value to Search : \")\n",
    "for  i in myList:\n",
    "    if((f\"{i}\" if (type(i)==int) else i) == searchItem):\n",
    "        print(\"Item Found\")\n",
    "        break\n",
    "else:\n",
    "    print(\"Item Not Found\")"
   ]
  },
  {
   "cell_type": "code",
   "execution_count": null,
   "id": "b2f5c28a",
   "metadata": {},
   "outputs": [],
   "source": [
    "myList = [1,2,\"Sonia\",\"Kritika\",True]\n",
    "newItems = [f\"{i}\" for i in myList]\n",
    "searchItem = input(\"Enter Value to Search : \")\n",
    "for  i in newItems:\n",
    "    if i == searchItem:\n",
    "        print(\"Item Found\")\n",
    "        break\n",
    "else:\n",
    "    print(\"Item Not Found\")"
   ]
  },
  {
   "cell_type": "code",
   "execution_count": null,
   "id": "aaa206f2",
   "metadata": {},
   "outputs": [],
   "source": [
    "     "
   ]
  }
 ],
 "metadata": {
  "kernelspec": {
   "display_name": "Python 3 (ipykernel)",
   "language": "python",
   "name": "python3"
  },
  "language_info": {
   "codemirror_mode": {
    "name": "ipython",
    "version": 3
   },
   "file_extension": ".py",
   "mimetype": "text/x-python",
   "name": "python",
   "nbconvert_exporter": "python",
   "pygments_lexer": "ipython3",
   "version": "3.9.13"
  }
 },
 "nbformat": 4,
 "nbformat_minor": 5
}
