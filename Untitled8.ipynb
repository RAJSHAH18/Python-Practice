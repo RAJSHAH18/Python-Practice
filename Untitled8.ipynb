{
 "cells": [
  {
   "cell_type": "code",
   "execution_count": 25,
   "id": "da2b9676",
   "metadata": {},
   "outputs": [
    {
     "name": "stdout",
     "output_type": "stream",
     "text": [
      "Enter a number to check Whether it is prime or composite number : -5\n",
      "-5 is neither prime or composite number\n"
     ]
    }
   ],
   "source": [
    "# Write a python program to find whether a number is prime or composit number\n",
    "num = int(input(\"Enter a number to check Whether it is prime or composite number : \"))\n",
    "count = 0\n",
    "for i in range(1,num+1):\n",
    "    if num%i==0:\n",
    "        count+=1\n",
    "if(num<=1):\n",
    "    print(f\"{num} is neither prime or composite number\")\n",
    "elif(count==2):\n",
    "    print(f\"{num} is a prime number\")\n",
    "else:\n",
    "    print(f\"{num} is a Composite number\")"
   ]
  },
  {
   "cell_type": "code",
   "execution_count": 36,
   "id": "1fe892a4",
   "metadata": {},
   "outputs": [
    {
     "name": "stdout",
     "output_type": "stream",
     "text": [
      "Enter a number to check whether it is an armstrong or not : 372\n",
      "372 is not an Armstring number\n"
     ]
    }
   ],
   "source": [
    "# Write a python program to check whether a number an Armstrong or not...\n",
    "num = input(\"Enter a number to check whether it is an armstrong or not : \")\n",
    "power = len(num)\n",
    "num = int(num)\n",
    "temp = num\n",
    "rem = 0\n",
    "ans = 0\n",
    "\n",
    "while(temp>0):\n",
    "    rem = temp%10\n",
    "    ans += rem**power\n",
    "    temp = temp//10\n",
    "if(num == ans):\n",
    "    print(f\"{num} is an Armstrong number\")\n",
    "else:\n",
    "    print(f\"{num} is not an Armstring number\")\n"
   ]
  },
  {
   "cell_type": "code",
   "execution_count": null,
   "id": "27f2baf3",
   "metadata": {},
   "outputs": [],
   "source": []
  }
 ],
 "metadata": {
  "kernelspec": {
   "display_name": "Python 3 (ipykernel)",
   "language": "python",
   "name": "python3"
  },
  "language_info": {
   "codemirror_mode": {
    "name": "ipython",
    "version": 3
   },
   "file_extension": ".py",
   "mimetype": "text/x-python",
   "name": "python",
   "nbconvert_exporter": "python",
   "pygments_lexer": "ipython3",
   "version": "3.9.13"
  }
 },
 "nbformat": 4,
 "nbformat_minor": 5
}
