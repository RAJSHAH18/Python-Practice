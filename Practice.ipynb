{
 "cells": [
  {
   "cell_type": "markdown",
   "id": "42e33421",
   "metadata": {},
   "source": [
    "# Using recursion Find Factorial"
   ]
  },
  {
   "cell_type": "code",
   "execution_count": 1,
   "id": "22d8615c",
   "metadata": {},
   "outputs": [],
   "source": [
    "# Definig a Function\n",
    "def factorial(x):\n",
    "    if(x==0):\n",
    "        return 1\n",
    "    else:\n",
    "        return x * factorial(x-1)"
   ]
  },
  {
   "cell_type": "code",
   "execution_count": 5,
   "id": "e9d17fa5",
   "metadata": {},
   "outputs": [
    {
     "name": "stdout",
     "output_type": "stream",
     "text": [
      "Enter Number :- 5\n",
      "The Factorial of 5 is : 120\n"
     ]
    }
   ],
   "source": [
    "num = int(input(\"Enter Number :- \"))\n",
    "ans = factorial(num)\n",
    "print(f\"The Factorial of {num} is : {ans}\")"
   ]
  },
  {
   "cell_type": "code",
   "execution_count": 11,
   "id": "85e53310",
   "metadata": {},
   "outputs": [
    {
     "name": "stdout",
     "output_type": "stream",
     "text": [
      "The Factorial of 5 is :- 120 \n"
     ]
    }
   ],
   "source": [
    "print(\"The Factorial of %s is :- %d \"%(num,ans))"
   ]
  },
  {
   "cell_type": "markdown",
   "id": "47d255bf",
   "metadata": {},
   "source": [
    "# Using recursion find fibonacci series of n numbers"
   ]
  },
  {
   "cell_type": "code",
   "execution_count": 7,
   "id": "195b443f",
   "metadata": {},
   "outputs": [],
   "source": [
    "# Defining a Function\n",
    "def fibonacci(x):\n",
    "    if(x==1):\n",
    "        return 0\n",
    "    elif(x==2):\n",
    "        return 1\n",
    "    else:\n",
    "        return fibonacci(x-1) + fibonacci(x-2)\n",
    "            \n",
    "        "
   ]
  },
  {
   "cell_type": "code",
   "execution_count": 9,
   "id": "639057de",
   "metadata": {},
   "outputs": [
    {
     "name": "stdout",
     "output_type": "stream",
     "text": [
      "Enter Number5\n",
      "The Fibonacci series of 5th terms are :0 1 1 2 3\n"
     ]
    }
   ],
   "source": [
    "n = int(input(\"Enter Number\"))\n",
    "s = []\n",
    "for i in range(1,n+1):\n",
    "    s.append(fibonacci(i))\n",
    "# print (s)\n",
    "string =\"\"\n",
    "for i in s:\n",
    "    string = string+\" \"+str(i)\n",
    "# print(string)\n",
    "print(f\"The Fibonacci series of {n}th terms are :{string.strip()}\")"
   ]
  },
  {
   "cell_type": "markdown",
   "id": "2f1c62d3",
   "metadata": {},
   "source": [
    "# using recursion find sum of n number"
   ]
  },
  {
   "cell_type": "code",
   "execution_count": 4,
   "id": "be177ffb",
   "metadata": {},
   "outputs": [
    {
     "name": "stdout",
     "output_type": "stream",
     "text": [
      "Enter value of  x :- 20\n",
      "The sum of first 20 number is 210 \n"
     ]
    }
   ],
   "source": [
    "def add(x):\n",
    "    if(x==0):\n",
    "        return 0\n",
    "    else:\n",
    "        return x + add(x-1)\n",
    "\n",
    "x = int(input(\"Enter value of  x :- \"))\n",
    "print(f\"The sum of first {x} number is {add(x)} \")"
   ]
  },
  {
   "cell_type": "markdown",
   "id": "43e543c2",
   "metadata": {},
   "source": [
    "# Q.1 Write a Python program to count words in a sentence and arrange words in descendingorder."
   ]
  },
  {
   "cell_type": "code",
   "execution_count": 14,
   "id": "c0dc77cc",
   "metadata": {},
   "outputs": [
    {
     "name": "stdout",
     "output_type": "stream",
     "text": [
      "Enter String :- Hello World\n",
      "The Total Number of words in a String are : 2\n",
      "The Total Number of words in a String are : 2\n",
      "The String in Descending Order are : ['World', 'Hello']\n",
      "<class 'list'>\n"
     ]
    }
   ],
   "source": [
    "string =input(\"Enter String :- \")\n",
    "l1 = string.split()\n",
    "words = 0\n",
    "for i in l1:\n",
    "    words = words+1\n",
    "print(\"The Total Number of words in a String are :\",words)\n",
    "\n",
    "# ANOTHER WAY\n",
    "words = len(l1)\n",
    "print(\"The Total Number of words in a String are :\",words)\n",
    "\n",
    "l1.sort(reverse=True)\n",
    "print(\"The Words in Descending Order are :\",l1)\n",
    "# print(type(l1))"
   ]
  },
  {
   "cell_type": "markdown",
   "id": "81c271b2",
   "metadata": {},
   "source": [
    "# Q.2 Write a Python program to sum all the items in a list"
   ]
  },
  {
   "cell_type": "code",
   "execution_count": 17,
   "id": "f02fe3cc",
   "metadata": {},
   "outputs": [
    {
     "name": "stdout",
     "output_type": "stream",
     "text": [
      "The Sum Of all the items in a list is: 1334.2\n",
      "The Sum of all the items in a list is: 1334.2\n"
     ]
    }
   ],
   "source": [
    "l1 = [10,1213,15,40,20.2,36]\n",
    "ans = 0\n",
    "for i in l1:\n",
    "    ans +=i\n",
    "print(\"The Sum Of all the items in a list is:\",ans)\n",
    "# Another Way\n",
    "print(\"The Sum of all the items in a list is:\",sum(l1))"
   ]
  },
  {
   "cell_type": "markdown",
   "id": "ef59b777",
   "metadata": {},
   "source": [
    "# Q.3 Create an empty list in python and append English dictionary words to list. Arrangelist items In alphabetical order and find position of specific words in list."
   ]
  },
  {
   "cell_type": "code",
   "execution_count": 20,
   "id": "b58fa74e",
   "metadata": {},
   "outputs": [
    {
     "name": "stdout",
     "output_type": "stream",
     "text": [
      "The items in alphabetical order is : ['Cool', 'Create', 'Finish', 'Huge', 'Kite']\n",
      "The items in alphabetical order is : ['Cool', 'Create', 'Finish', 'Huge', 'Kite']\n"
     ]
    }
   ],
   "source": [
    "l1 = []\n",
    "l1.append(\"Create\")\n",
    "l1.append(\"Huge\")\n",
    "l1.append(\"Cool\")\n",
    "l1.append(\"Kite\")\n",
    "l1.append(\"Finish\")\n",
    "# arrange alphabetical using sorted method\n",
    "ls=sorted(l1)\n",
    "print(\"The items in alphabetical order is :\",ls)\n",
    "\n",
    "l1.sort()\n",
    "print(\"The items in alphabetical order is :\",l1)\n"
   ]
  },
  {
   "cell_type": "markdown",
   "id": "f9a9fdb6",
   "metadata": {},
   "source": [
    "# Q.4 Take input of any short text and check words of message that either they are standarddictionary words or not. Use another for English dictionary words"
   ]
  },
  {
   "cell_type": "code",
   "execution_count": 3,
   "id": "d57270c2",
   "metadata": {},
   "outputs": [
    {
     "name": "stdout",
     "output_type": "stream",
     "text": [
      "Enter Text :- Hi.. How are u\n",
      "Dictionary Words : How,are\n",
      "Non Dictionary Words : Hi..,u\n"
     ]
    }
   ],
   "source": [
    "text = input(\"Enter Text :- \")\n",
    "standard_dic = [\"How\",\"Are\",\"Your\",\"You\",\"In\",\"On\",\"are\",\"Hi\"]\n",
    "dc_words = []\n",
    "nondc_words = []\n",
    "for i in text.split():\n",
    "    if i in standard_dic:\n",
    "        dc_words.append(i)\n",
    "    else:\n",
    "        nondc_words.append(i)\n",
    "dc_words = \",\".join(dc_words)\n",
    "nondc_words=\",\".join(nondc_words)\n",
    "\n",
    "print(\"Dictionary Words :\",dc_words)\n",
    "print(\"Non Dictionary Words :\",nondc_words)\n",
    "        "
   ]
  },
  {
   "cell_type": "markdown",
   "id": "1b63066f",
   "metadata": {},
   "source": [
    "# Q.5 Write a Python program to check if a given string is python Keyword or not. (Can be implemented with list and keyword library both)"
   ]
  },
  {
   "cell_type": "code",
   "execution_count": 7,
   "id": "d35cd16a",
   "metadata": {},
   "outputs": [
    {
     "name": "stdout",
     "output_type": "stream",
     "text": [
      "print is not a keyword\n",
      "pass is a keyword\n",
      "else is a keyword\n",
      "elseif is not a keyword\n",
      "break is a keyword\n",
      "continue is a keyword\n",
      "\n",
      "\n",
      "print is not a keyword\n",
      "pass is a keyword\n",
      "else is a keyword\n",
      "elseif is not a keyword\n",
      "break is a keyword\n",
      "continue is a keyword\n"
     ]
    }
   ],
   "source": [
    "import keyword\n",
    "# First way\n",
    "keys = [\"print\",\"pass\",\"else\",\"elseif\",\"break\",\"continue\"]\n",
    "for i in range(len(keys)):\n",
    "    if keyword.iskeyword(keys[i]):\n",
    "        print(keys[i],\"is a keyword\")\n",
    "    else:\n",
    "        print(keys[i],\"is not a keyword\")\n",
    "        \n",
    "print()\n",
    "print()\n",
    "# Second Way\n",
    "for i in keys:\n",
    "    if i in keyword.kwlist:\n",
    "        print(i,\"is a keyword\")\n",
    "    else:\n",
    "        print(i,\"is not a keyword\")\n"
   ]
  },
  {
   "cell_type": "markdown",
   "id": "b807d750",
   "metadata": {},
   "source": [
    "# Q.6 Take input of any number and generate all possible binary strings."
   ]
  },
  {
   "cell_type": "code",
   "execution_count": null,
   "id": "5d2824d1",
   "metadata": {},
   "outputs": [],
   "source": [
    " "
   ]
  }
 ],
 "metadata": {
  "kernelspec": {
   "display_name": "Python 3 (ipykernel)",
   "language": "python",
   "name": "python3"
  },
  "language_info": {
   "codemirror_mode": {
    "name": "ipython",
    "version": 3
   },
   "file_extension": ".py",
   "mimetype": "text/x-python",
   "name": "python",
   "nbconvert_exporter": "python",
   "pygments_lexer": "ipython3",
   "version": "3.9.13"
  }
 },
 "nbformat": 4,
 "nbformat_minor": 5
}
