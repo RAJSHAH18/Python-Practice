{
 "cells": [
  {
   "cell_type": "code",
   "execution_count": 1,
   "id": "afcf2731",
   "metadata": {},
   "outputs": [
    {
     "name": "stdout",
     "output_type": "stream",
     "text": [
      "0b1000\n",
      "000\n",
      "0b1001\n",
      "001\n",
      "0b1010\n",
      "010\n",
      "0b1011\n",
      "011\n",
      "0b1100\n",
      "100\n",
      "0b1101\n",
      "101\n",
      "0b1110\n",
      "110\n",
      "0b1111\n",
      "111\n"
     ]
    }
   ],
   "source": [
    "n = 3 \n",
    "for i in range(2**n,2**(n+1)):\n",
    "    print(bin(i))\n",
    "    print(bin(i)[3:])"
   ]
  },
  {
   "cell_type": "code",
   "execution_count": 2,
   "id": "e6135695",
   "metadata": {},
   "outputs": [
    {
     "name": "stdout",
     "output_type": "stream",
     "text": [
      "0b1000\n"
     ]
    }
   ],
   "source": [
    "\n",
    "print(bin(8))"
   ]
  },
  {
   "cell_type": "code",
   "execution_count": 6,
   "id": "23c55f86",
   "metadata": {},
   "outputs": [
    {
     "name": "stdout",
     "output_type": "stream",
     "text": [
      "Enter number:- 5\n",
      "\n",
      "00000\n",
      "00001\n",
      "00010\n",
      "00011\n",
      "00100\n",
      "00101\n",
      "00110\n",
      "00111\n",
      "01000\n",
      "01001\n",
      "01010\n",
      "01011\n",
      "01100\n",
      "01101\n",
      "01110\n",
      "01111\n",
      "10000\n",
      "10001\n",
      "10010\n",
      "10011\n",
      "10100\n",
      "10101\n",
      "10110\n",
      "10111\n",
      "11000\n",
      "11001\n",
      "11010\n",
      "11011\n",
      "11100\n",
      "11101\n",
      "11110\n",
      "11111\n",
      "\n",
      "00000\n",
      "00001\n",
      "00010\n",
      "00011\n",
      "00100\n",
      "00101\n",
      "00110\n",
      "00111\n",
      "01000\n",
      "01001\n",
      "01010\n",
      "01011\n",
      "01100\n",
      "01101\n",
      "01110\n",
      "01111\n",
      "10000\n",
      "10001\n",
      "10010\n",
      "10011\n",
      "10100\n",
      "10101\n",
      "10110\n",
      "10111\n",
      "11000\n",
      "11001\n",
      "11010\n",
      "11011\n",
      "11100\n",
      "11101\n",
      "11110\n",
      "11111\n"
     ]
    }
   ],
   "source": [
    "def getbin(n,a = ''):\n",
    "    if(len(a)==n):\n",
    "        print(a)\n",
    "    else:\n",
    "        getbin(n,a + '0')\n",
    "        getbin(n,a + '1')\n",
    "    \n",
    "n = int(input(\"Enter number:- \"))\n",
    "print()\n",
    "getbin(n)\n",
    "print()\n",
    "for i in range(2**n,2**(n+1)):\n",
    "    print(bin(i)[3:])\n"
   ]
  },
  {
   "cell_type": "code",
   "execution_count": 4,
   "id": "991322b4",
   "metadata": {},
   "outputs": [
    {
     "name": "stdout",
     "output_type": "stream",
     "text": [
      "30\n"
     ]
    }
   ],
   "source": [
    "print(10+20)"
   ]
  },
  {
   "cell_type": "code",
   "execution_count": 9,
   "id": "25994de5",
   "metadata": {},
   "outputs": [
    {
     "name": "stdout",
     "output_type": "stream",
     "text": [
      "54321"
     ]
    }
   ],
   "source": [
    "for i in range(5,0,-1):\n",
    "    print(i,end=\"\")"
   ]
  },
  {
   "cell_type": "code",
   "execution_count": 10,
   "id": "e6eb282a",
   "metadata": {},
   "outputs": [
    {
     "name": "stdout",
     "output_type": "stream",
     "text": [
      "Enter username : -Rajshah\n",
      "Rajshah@gmail.com"
     ]
    }
   ],
   "source": [
    "username = input(\"Enter username : -\")\n",
    "domain = \"gmail.com\"\n",
    "print(username,end=\"@\")\n",
    "print(domain,end=\"\")"
   ]
  },
  {
   "cell_type": "code",
   "execution_count": null,
   "id": "b1934823",
   "metadata": {},
   "outputs": [],
   "source": []
  }
 ],
 "metadata": {
  "kernelspec": {
   "display_name": "Python 3 (ipykernel)",
   "language": "python",
   "name": "python3"
  },
  "language_info": {
   "codemirror_mode": {
    "name": "ipython",
    "version": 3
   },
   "file_extension": ".py",
   "mimetype": "text/x-python",
   "name": "python",
   "nbconvert_exporter": "python",
   "pygments_lexer": "ipython3",
   "version": "3.9.13"
  }
 },
 "nbformat": 4,
 "nbformat_minor": 5
}
