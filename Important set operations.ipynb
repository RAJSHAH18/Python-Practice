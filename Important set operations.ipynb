{
 "cells": [
  {
   "cell_type": "code",
   "execution_count": 1,
   "id": "c8df17eb",
   "metadata": {},
   "outputs": [],
   "source": [
    "A = {1,2,3,7,8}\n",
    "B = {1,7,4,5,6}\n"
   ]
  },
  {
   "cell_type": "code",
   "execution_count": 2,
   "id": "f7ab68a4",
   "metadata": {},
   "outputs": [
    {
     "name": "stdout",
     "output_type": "stream",
     "text": [
      "{1, 2, 3, 4, 5, 6, 7, 8}\n"
     ]
    }
   ],
   "source": [
    "# A.union(B) method is used to return AUB means unique elements from both sets excluding duplicate elements\n",
    "print(A.union(B))"
   ]
  },
  {
   "cell_type": "code",
   "execution_count": 3,
   "id": "6df61547",
   "metadata": {},
   "outputs": [
    {
     "name": "stdout",
     "output_type": "stream",
     "text": [
      "{1, 7}\n"
     ]
    }
   ],
   "source": [
    "# A.intersection(B) is Used to return common elements from 2 sets\n",
    "print(A.intersection(B))"
   ]
  },
  {
   "cell_type": "code",
   "execution_count": 4,
   "id": "c2014bef",
   "metadata": {},
   "outputs": [
    {
     "name": "stdout",
     "output_type": "stream",
     "text": [
      "{8, 2, 3}\n"
     ]
    }
   ],
   "source": [
    "# A-B is used to return elements in A but not in B it means A - AnB\n",
    "print(A-B)"
   ]
  },
  {
   "cell_type": "code",
   "execution_count": 6,
   "id": "8ca807d3",
   "metadata": {},
   "outputs": [
    {
     "name": "stdout",
     "output_type": "stream",
     "text": [
      "{4, 5, 6}\n"
     ]
    }
   ],
   "source": [
    "# B-A is used to return elements in B but no in A it means B - AnB\n",
    "print(B-A)"
   ]
  },
  {
   "cell_type": "code",
   "execution_count": 8,
   "id": "f41f4792",
   "metadata": {},
   "outputs": [
    {
     "name": "stdout",
     "output_type": "stream",
     "text": [
      "{2, 3, 4, 5, 6, 8}\n"
     ]
    }
   ],
   "source": [
    "# A^B is used to all non-common elements from two sets\n",
    "ans = A^B\n",
    "print(ans)"
   ]
  },
  {
   "cell_type": "code",
   "execution_count": null,
   "id": "3b3583c3",
   "metadata": {},
   "outputs": [],
   "source": []
  }
 ],
 "metadata": {
  "kernelspec": {
   "display_name": "Python 3 (ipykernel)",
   "language": "python",
   "name": "python3"
  },
  "language_info": {
   "codemirror_mode": {
    "name": "ipython",
    "version": 3
   },
   "file_extension": ".py",
   "mimetype": "text/x-python",
   "name": "python",
   "nbconvert_exporter": "python",
   "pygments_lexer": "ipython3",
   "version": "3.9.13"
  }
 },
 "nbformat": 4,
 "nbformat_minor": 5
}
