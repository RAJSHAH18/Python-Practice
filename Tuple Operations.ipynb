{
 "cells": [
  {
   "cell_type": "code",
   "execution_count": 1,
   "id": "46290de4",
   "metadata": {},
   "outputs": [],
   "source": [
    "A = (10,20,30,40,60,50,20,80)"
   ]
  },
  {
   "cell_type": "code",
   "execution_count": 2,
   "id": "8597c719",
   "metadata": {},
   "outputs": [
    {
     "name": "stdout",
     "output_type": "stream",
     "text": [
      "8\n"
     ]
    }
   ],
   "source": [
    "# Length of tuple\n",
    "print(len(A))"
   ]
  },
  {
   "cell_type": "code",
   "execution_count": 4,
   "id": "cea5e884",
   "metadata": {},
   "outputs": [
    {
     "name": "stdout",
     "output_type": "stream",
     "text": [
      "2\n"
     ]
    }
   ],
   "source": [
    "# tuple.count(value) is used to count the elements in tuple and return the count\n",
    "ans = A.count(20)\n",
    "print(ans)"
   ]
  },
  {
   "cell_type": "code",
   "execution_count": 5,
   "id": "ffb294c6",
   "metadata": {},
   "outputs": [
    {
     "name": "stdout",
     "output_type": "stream",
     "text": [
      "0\n"
     ]
    }
   ],
   "source": [
    "ans = A.count(100)\n",
    "print(ans)"
   ]
  },
  {
   "cell_type": "code",
   "execution_count": 6,
   "id": "fd961095",
   "metadata": {},
   "outputs": [
    {
     "name": "stdout",
     "output_type": "stream",
     "text": [
      "1\n"
     ]
    }
   ],
   "source": [
    "# tuple.index(value) method is used to get first occurrence of element in a tuple\n",
    "ans = A.index(20)\n",
    "print(ans)"
   ]
  },
  {
   "cell_type": "code",
   "execution_count": 9,
   "id": "f6f36f5f",
   "metadata": {},
   "outputs": [],
   "source": [
    "# del A is used to delete the tuple\n",
    "del A"
   ]
  },
  {
   "cell_type": "code",
   "execution_count": null,
   "id": "6786915b",
   "metadata": {},
   "outputs": [],
   "source": []
  },
  {
   "cell_type": "code",
   "execution_count": null,
   "id": "df95bdd6",
   "metadata": {},
   "outputs": [],
   "source": []
  }
 ],
 "metadata": {
  "kernelspec": {
   "display_name": "Python 3 (ipykernel)",
   "language": "python",
   "name": "python3"
  },
  "language_info": {
   "codemirror_mode": {
    "name": "ipython",
    "version": 3
   },
   "file_extension": ".py",
   "mimetype": "text/x-python",
   "name": "python",
   "nbconvert_exporter": "python",
   "pygments_lexer": "ipython3",
   "version": "3.9.13"
  }
 },
 "nbformat": 4,
 "nbformat_minor": 5
}
