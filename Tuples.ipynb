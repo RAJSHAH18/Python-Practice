{
 "cells": [
  {
   "cell_type": "code",
   "execution_count": 1,
   "id": "2608b20b",
   "metadata": {},
   "outputs": [],
   "source": [
    "# Tuple is collection of oredered data items which can be of different data types\n",
    "# Tuples are immutable,i.e..not changeable\n",
    "# Tuples are defined in parenthesis\n"
   ]
  },
  {
   "cell_type": "code",
   "execution_count": 2,
   "id": "a22a8f7c",
   "metadata": {},
   "outputs": [],
   "source": [
    "a = (1,2,3,40,25,60)"
   ]
  },
  {
   "cell_type": "code",
   "execution_count": 3,
   "id": "9c8f5598",
   "metadata": {},
   "outputs": [
    {
     "name": "stdout",
     "output_type": "stream",
     "text": [
      "(1, 2, 3, 40, 25, 60)\n"
     ]
    }
   ],
   "source": [
    "print(a)"
   ]
  },
  {
   "cell_type": "code",
   "execution_count": 4,
   "id": "dc95f947",
   "metadata": {},
   "outputs": [
    {
     "name": "stdout",
     "output_type": "stream",
     "text": [
      "(1, 2, 3, 8, 9, 45)\n"
     ]
    }
   ],
   "source": [
    "# Converting tuple into lists\n",
    "b = [1,2,3,8,9,45]\n",
    "print(tuple(b))"
   ]
  },
  {
   "cell_type": "code",
   "execution_count": 6,
   "id": "9999af8b",
   "metadata": {},
   "outputs": [
    {
     "name": "stdout",
     "output_type": "stream",
     "text": [
      "1 2 3 40 25 60 "
     ]
    }
   ],
   "source": [
    "# printing Tuple elements\n",
    "for i in a:\n",
    "    print(i,end=\" \")"
   ]
  },
  {
   "cell_type": "markdown",
   "id": "31b63e02",
   "metadata": {},
   "source": [
    "# Tuple Indexing"
   ]
  },
  {
   "cell_type": "code",
   "execution_count": 9,
   "id": "9faea0c1",
   "metadata": {},
   "outputs": [
    {
     "name": "stdout",
     "output_type": "stream",
     "text": [
      "Raj Prasham Akshat abc "
     ]
    }
   ],
   "source": [
    "# Elements in tuple alwyas start with 0th index\n",
    "name = (\"Raj\",\"Prasham\",\"Akshat\",\"abc\")\n",
    "i = 0\n",
    "while i<len(name):\n",
    "    print(name[i],end=\" \")\n",
    "    i+=1"
   ]
  },
  {
   "cell_type": "code",
   "execution_count": 10,
   "id": "48652b65",
   "metadata": {},
   "outputs": [
    {
     "name": "stdout",
     "output_type": "stream",
     "text": [
      "abc\n",
      "Akshat\n",
      "Prasham\n",
      "Raj\n"
     ]
    }
   ],
   "source": [
    "print(name[-1])\n",
    "print(name[-2])\n",
    "print(name[-3])\n",
    "print(name[-4])"
   ]
  },
  {
   "cell_type": "markdown",
   "id": "ab792794",
   "metadata": {},
   "source": [
    "# Tuple Silicing"
   ]
  },
  {
   "cell_type": "code",
   "execution_count": 12,
   "id": "35ef14f4",
   "metadata": {},
   "outputs": [
    {
     "name": "stdout",
     "output_type": "stream",
     "text": [
      "('Raj', 'Prasham', 'Akshat', 'abc')\n",
      "('Raj', 'Prasham', 'Akshat', 'abc')\n",
      "('Raj', 'Prasham')\n",
      "('abc', 'Akshat', 'Prasham', 'Raj')\n"
     ]
    }
   ],
   "source": [
    "# If we want slice multiple values from a tuple,we can \":\" operator\n",
    "print(name[:])\n",
    "print(name[0:])\n",
    "print(name[:2])\n",
    "print(name[::-1])"
   ]
  },
  {
   "cell_type": "markdown",
   "id": "ba957817",
   "metadata": {},
   "source": [
    "# Skipping elements while slicing "
   ]
  },
  {
   "cell_type": "code",
   "execution_count": 13,
   "id": "445ea3b4",
   "metadata": {},
   "outputs": [
    {
     "name": "stdout",
     "output_type": "stream",
     "text": [
      "('Raj', 'Prasham', 'Akshat', 'abc')\n"
     ]
    }
   ],
   "source": [
    "print(name[0:len(name):1])"
   ]
  },
  {
   "cell_type": "code",
   "execution_count": 14,
   "id": "08d7c8e3",
   "metadata": {},
   "outputs": [
    {
     "name": "stdout",
     "output_type": "stream",
     "text": [
      "('Raj', 'Akshat')\n"
     ]
    }
   ],
   "source": [
    "print(name[0:len(name):2])"
   ]
  },
  {
   "cell_type": "code",
   "execution_count": 15,
   "id": "275d9569",
   "metadata": {},
   "outputs": [
    {
     "name": "stdout",
     "output_type": "stream",
     "text": [
      "('Raj', 'abc')\n"
     ]
    }
   ],
   "source": [
    "print(name[0:len(name):3])"
   ]
  },
  {
   "cell_type": "code",
   "execution_count": 3,
   "id": "c291373f",
   "metadata": {},
   "outputs": [
    {
     "name": "stdout",
     "output_type": "stream",
     "text": [
      "[[0. 1. 1. 1. 1.]\n",
      " [1. 0. 1. 1. 1.]\n",
      " [1. 1. 0. 1. 1.]\n",
      " [1. 1. 1. 0. 1.]\n",
      " [1. 1. 1. 1. 0.]]\n"
     ]
    }
   ],
   "source": [
    "import numpy as np\n",
    "\n",
    "n = 5  # size of the array\n",
    "a = np.ones((5,5))  # create an array of ones and zeros\n",
    "a[range(n), range(n)] = 0  # set the diagonal to zero\n",
    "\n",
    "print(a)\n"
   ]
  },
  {
   "cell_type": "code",
   "execution_count": null,
   "id": "df1a944f",
   "metadata": {},
   "outputs": [],
   "source": []
  }
 ],
 "metadata": {
  "kernelspec": {
   "display_name": "Python 3 (ipykernel)",
   "language": "python",
   "name": "python3"
  },
  "language_info": {
   "codemirror_mode": {
    "name": "ipython",
    "version": 3
   },
   "file_extension": ".py",
   "mimetype": "text/x-python",
   "name": "python",
   "nbconvert_exporter": "python",
   "pygments_lexer": "ipython3",
   "version": "3.9.13"
  }
 },
 "nbformat": 4,
 "nbformat_minor": 5
}
