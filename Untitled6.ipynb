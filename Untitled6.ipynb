{
 "cells": [
  {
   "cell_type": "code",
   "execution_count": null,
   "id": "e5247964",
   "metadata": {},
   "outputs": [
    {
     "name": "stdout",
     "output_type": "stream",
     "text": [
      "Enter how many numbers you want : 155\n",
      "Number-1  -> 560\n"
     ]
    }
   ],
   "source": [
    "n = int(input(\"Enter how many numbers you want : \"))\n",
    "l = []\n",
    "\n",
    "for x in range(n):\n",
    "    no = int(input(f\"Number-{x+1}  -> \"))\n",
    "    l.append(str(no))\n",
    "\n",
    "    \n",
    "final_no = []\n",
    "\n",
    "for x in l:\n",
    "    number = x[-1] \n",
    "    final_no.append(number)\n",
    "print(final_no)\n",
    "\n",
    "\n",
    "final_no = int(\"\".join(final_no))\n",
    "\n",
    "print(final_no)\n",
    "\n",
    "\n",
    "if(final_no%10 == 0):\n",
    "    print(\"yess\")\n",
    "else:\n",
    "    print(\"no\")\n",
    "    \n"
   ]
  },
  {
   "cell_type": "code",
   "execution_count": null,
   "id": "ca88ffe5",
   "metadata": {},
   "outputs": [],
   "source": []
  }
 ],
 "metadata": {
  "kernelspec": {
   "display_name": "Python 3 (ipykernel)",
   "language": "python",
   "name": "python3"
  },
  "language_info": {
   "codemirror_mode": {
    "name": "ipython",
    "version": 3
   },
   "file_extension": ".py",
   "mimetype": "text/x-python",
   "name": "python",
   "nbconvert_exporter": "python",
   "pygments_lexer": "ipython3",
   "version": "3.9.13"
  }
 },
 "nbformat": 4,
 "nbformat_minor": 5
}
