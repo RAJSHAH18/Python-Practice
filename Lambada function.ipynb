{
 "cells": [
  {
   "cell_type": "code",
   "execution_count": 1,
   "id": "67ed9249",
   "metadata": {},
   "outputs": [],
   "source": [
    "# A lambada function helps in creating small anonymous function.\n",
    "# Its takes any numnber but can have only one expression\n",
    "# synatx:lambda arguments:expression"
   ]
  },
  {
   "cell_type": "code",
   "execution_count": 2,
   "id": "4786c700",
   "metadata": {},
   "outputs": [
    {
     "name": "stdout",
     "output_type": "stream",
     "text": [
      "4\n"
     ]
    }
   ],
   "source": [
    "def square(x):\n",
    "    return x*x\n",
    "print(square(2))\n"
   ]
  },
  {
   "cell_type": "code",
   "execution_count": 3,
   "id": "f47dcf61",
   "metadata": {},
   "outputs": [
    {
     "name": "stdout",
     "output_type": "stream",
     "text": [
      "Enter number5\n",
      "25\n",
      "25\n"
     ]
    }
   ],
   "source": [
    "x = int(input(\"Enter number\"))\n",
    "square_lam  = lambda x : x*x\n",
    "print(square_lam(x))\n",
    "print(square(x))\n"
   ]
  },
  {
   "cell_type": "code",
   "execution_count": 4,
   "id": "0c2d3885",
   "metadata": {},
   "outputs": [
    {
     "name": "stdout",
     "output_type": "stream",
     "text": [
      "Enter number : - 2\n",
      "8\n"
     ]
    }
   ],
   "source": [
    "y  = int(input(\"Enter number : - \"))\n",
    "cube = lambda y : y**3\n",
    "ans = cube(y)\n",
    "print(ans)"
   ]
  },
  {
   "cell_type": "code",
   "execution_count": 5,
   "id": "544b80eb",
   "metadata": {},
   "outputs": [],
   "source": [
    "def addition(x,y):\n",
    "    return x+y"
   ]
  },
  {
   "cell_type": "code",
   "execution_count": 6,
   "id": "09fba4ad",
   "metadata": {},
   "outputs": [
    {
     "data": {
      "text/plain": [
       "30"
      ]
     },
     "execution_count": 6,
     "metadata": {},
     "output_type": "execute_result"
    }
   ],
   "source": [
    "addition(10,20)"
   ]
  },
  {
   "cell_type": "code",
   "execution_count": 9,
   "id": "af3d0521",
   "metadata": {},
   "outputs": [
    {
     "name": "stdout",
     "output_type": "stream",
     "text": [
      "60\n"
     ]
    }
   ],
   "source": [
    "add = lambda x,y,z:x+y+z\n",
    "ans = add(10,20,30)\n",
    "print(ans)"
   ]
  },
  {
   "cell_type": "code",
   "execution_count": 10,
   "id": "e0c740a6",
   "metadata": {},
   "outputs": [
    {
     "name": "stdout",
     "output_type": "stream",
     "text": [
      "200\n"
     ]
    }
   ],
   "source": [
    "prod = lambda x,y : x*y\n",
    "print(prod(10,20))\n"
   ]
  },
  {
   "cell_type": "code",
   "execution_count": 11,
   "id": "839c1923",
   "metadata": {},
   "outputs": [
    {
     "name": "stdout",
     "output_type": "stream",
     "text": [
      "Lesser than 15\n"
     ]
    }
   ],
   "source": [
    "def greater(x):\n",
    "    if(x>15):\n",
    "        print(\"Gretaer than 15\")\n",
    "    else:\n",
    "        print(\"Lesser than 15\")\n",
    "greater(5)"
   ]
  },
  {
   "cell_type": "code",
   "execution_count": 12,
   "id": "5ea27d26",
   "metadata": {},
   "outputs": [
    {
     "data": {
      "text/plain": [
       "'Lesser than 15'"
      ]
     },
     "execution_count": 12,
     "metadata": {},
     "output_type": "execute_result"
    }
   ],
   "source": [
    "great = lambda x: \"Greater than 15\"if(x>15) else \"Lesser than 15\"\n",
    "great(5)"
   ]
  },
  {
   "cell_type": "code",
   "execution_count": 13,
   "id": "07456769",
   "metadata": {},
   "outputs": [
    {
     "name": "stdout",
     "output_type": "stream",
     "text": [
      "Greater than 15\n"
     ]
    }
   ],
   "source": [
    "print(great(16))"
   ]
  },
  {
   "cell_type": "code",
   "execution_count": 15,
   "id": "8cfaa5a0",
   "metadata": {},
   "outputs": [
    {
     "name": "stdout",
     "output_type": "stream",
     "text": [
      "False\n"
     ]
    }
   ],
   "source": [
    "a = lambda x,y : True if (x+y)>10 else False\n",
    "print(a(10,0))"
   ]
  },
  {
   "cell_type": "markdown",
   "id": "e791f70b",
   "metadata": {},
   "source": [
    "# Find Even numbers using lambda function1"
   ]
  },
  {
   "cell_type": "code",
   "execution_count": 3,
   "id": "1cd5aa3f",
   "metadata": {},
   "outputs": [
    {
     "name": "stdout",
     "output_type": "stream",
     "text": [
      "Enter number - 5\n",
      "5 is not an even number\n"
     ]
    }
   ],
   "source": [
    "x = int(input(\"Enter number - \"))\n",
    "even = lambda x : f\"{x} is even an number\" if x%2==0 else f\"{x} is not an even number\"\n",
    "print(even(x))"
   ]
  },
  {
   "cell_type": "code",
   "execution_count": null,
   "id": "6f9279a4",
   "metadata": {},
   "outputs": [],
   "source": []
  },
  {
   "cell_type": "code",
   "execution_count": null,
   "id": "9713dd66",
   "metadata": {},
   "outputs": [],
   "source": []
  }
 ],
 "metadata": {
  "kernelspec": {
   "display_name": "Python 3 (ipykernel)",
   "language": "python",
   "name": "python3"
  },
  "language_info": {
   "codemirror_mode": {
    "name": "ipython",
    "version": 3
   },
   "file_extension": ".py",
   "mimetype": "text/x-python",
   "name": "python",
   "nbconvert_exporter": "python",
   "pygments_lexer": "ipython3",
   "version": "3.9.13"
  }
 },
 "nbformat": 4,
 "nbformat_minor": 5
}
