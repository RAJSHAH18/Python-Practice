{
 "cells": [
  {
   "cell_type": "code",
   "execution_count": 1,
   "id": "eb856d10",
   "metadata": {},
   "outputs": [],
   "source": [
    "# NAME :- RAJ JIGNESHBHAI SHAH\n",
    "# ENROLLMENT NO :- SR21BSIT156\n",
    "# PC NO :- 76\n",
    "# SUBJECT :- PYTHON\n",
    "# FACULTY :- YESHA MA'AM \n",
    "# DATE :- 2-03-2023\n",
    "# Aim: To learn array operation in python\n",
    "# ASSIGNEMENT NO :- 6"
   ]
  },
  {
   "cell_type": "markdown",
   "id": "a769ff97",
   "metadata": {},
   "source": [
    "## 1. Find mean, median, mode and standerd deviation values from tuple of 20 decimal values of stock market prices."
   ]
  },
  {
   "cell_type": "code",
   "execution_count": 17,
   "id": "76efcdf0",
   "metadata": {},
   "outputs": [
    {
     "name": "stdout",
     "output_type": "stream",
     "text": [
      "Mean is: 36.6815\n",
      "Median is:  34.67\n",
      "Mean is : 36.68149999999999\n",
      "Median is :  56.67\n"
     ]
    }
   ],
   "source": [
    "\n",
    "# 1 Way\n",
    "import statistics\n",
    "\n",
    "prices = (23.45, 34.67, 22.56, 34.67, 45.67, 56.78, 23.45, 34.67, 56.78, 22.56, 45.67, 56.78, 23.45, 34.67, 22.56, 34.67, 45.67, 56.78, 23.45, 34.67)\n",
    "\n",
    "# # calculate mean\n",
    "mean = statistics.mean(prices)\n",
    "print(\"Mean is:\", mean)\n",
    "\n",
    "\n",
    "# # calculate median\n",
    "median = statistics.median(prices)\n",
    "print(\"Median is: \", median)\n",
    "\n",
    "# # calculate mode\n",
    "# mode = statistics.mode(prices)\n",
    "# print(\"Mode is: \", mode)\n",
    "\n",
    "# 2 Way\n",
    "import  math\n",
    "# Calculate mean\n",
    "mean = sum(prices)/len(prices)\n",
    "print(\"Mean is :\",mean)\n",
    "\n",
    "# calculate median\n",
    "\n",
    "n = len(prices)\n",
    "\n",
    "if n % 2 == 0: \n",
    "    m1 = prices[n //2]\n",
    "    m2 = prices[n //2 -1]\n",
    "    median = m1 + m2//2\n",
    "else:\n",
    "    median = prices[n //2]\n",
    "\n",
    "print(\"Median is : \",median)\n",
    "\n",
    "\n"
   ]
  },
  {
   "cell_type": "markdown",
   "id": "86f333f6",
   "metadata": {},
   "source": [
    "# 1. Find mean, median, mode and standerd deviation values from tuple of 20 decimal values of stock market prices."
   ]
  },
  {
   "cell_type": "code",
   "execution_count": 58,
   "id": "44e724a3",
   "metadata": {},
   "outputs": [
    {
     "name": "stdout",
     "output_type": "stream",
     "text": [
      "Mean is : 3.4285714285714284\n",
      "Median is : 4\n",
      "Mode is : 1\n",
      "Standard Deviation : 1.9023794624226837\n",
      "Mean is : 3\n",
      "Median is : 4\n"
     ]
    }
   ],
   "source": [
    "# 1 Way \n",
    "import statistics\n",
    "prices = (1,5,1,4,4,3,6 )\n",
    "\n",
    "# Calculate Mean \n",
    "mean = statistics.mean(prices)\n",
    "print(\"Mean is :\",mean)\n",
    "\n",
    "# calculate Median\n",
    "median = statistics.median(prices)\n",
    "print(\"Median is :\",median)\n",
    "\n",
    "# Calculate Mode\n",
    "mode = statistics.mode(prices)\n",
    "print(\"Mode is :\",mode)\n",
    "\n",
    "# Calculate Standard deviation\n",
    "standard_deviation = statistics.stdev(prices)\n",
    "print(\"Standard Deviation :\",standard_deviation)\n",
    "\n",
    "\n",
    "# 2 Way\n",
    "\n",
    "# Calculate Mean\n",
    "mean = sum(prices)//len(prices)\n",
    "print(\"Mean is :\",mean)\n",
    "\n",
    "# Calculate Medain\n",
    "median = 0\n",
    "n = len(prices)\n",
    "# prices = list(prices)\n",
    "# prices = tuple(prices.sort())\n",
    "prices = sorted(prices)\n",
    "\n",
    "if n%2==0:\n",
    "    m1 = prices[n//2]\n",
    "    m2 = prices[n//2-1]\n",
    "    print(prices,m1,m2)\n",
    "    medain = (m1+m2)//2\n",
    "else:\n",
    "    medain = prices[n//2]\n",
    "print(\"Median is :\",medain)\n",
    "\n",
    "\n",
    " \n",
    "\n",
    "    \n",
    "    \n"
   ]
  },
  {
   "cell_type": "code",
   "execution_count": 52,
   "id": "dde88b9d",
   "metadata": {},
   "outputs": [
    {
     "data": {
      "text/plain": [
       "3"
      ]
     },
     "execution_count": 52,
     "metadata": {},
     "output_type": "execute_result"
    }
   ],
   "source": [
    "n//2"
   ]
  },
  {
   "cell_type": "code",
   "execution_count": 59,
   "id": "dc36b07f",
   "metadata": {},
   "outputs": [
    {
     "data": {
      "text/plain": [
       "1"
      ]
     },
     "execution_count": 59,
     "metadata": {},
     "output_type": "execute_result"
    }
   ],
   "source": [
    "max(prices,key=prices.count)"
   ]
  },
  {
   "cell_type": "code",
   "execution_count": 56,
   "id": "3cd1e25b",
   "metadata": {},
   "outputs": [
    {
     "data": {
      "text/plain": [
       "<function list.count(value, /)>"
      ]
     },
     "execution_count": 56,
     "metadata": {},
     "output_type": "execute_result"
    }
   ],
   "source": [
    "prices.count"
   ]
  },
  {
   "cell_type": "code",
   "execution_count": 60,
   "id": "954c05aa",
   "metadata": {},
   "outputs": [
    {
     "name": "stdout",
     "output_type": "stream",
     "text": [
      "<class 'tuple'> (1, 2, 3, 4)\n"
     ]
    }
   ],
   "source": [
    "def fun(*x):\n",
    "    print(type(x),x)\n",
    "fun(1,2,3,4)"
   ]
  },
  {
   "cell_type": "code",
   "execution_count": null,
   "id": "d1cd3e14",
   "metadata": {},
   "outputs": [],
   "source": []
  }
 ],
 "metadata": {
  "kernelspec": {
   "display_name": "Python 3 (ipykernel)",
   "language": "python",
   "name": "python3"
  },
  "language_info": {
   "codemirror_mode": {
    "name": "ipython",
    "version": 3
   },
   "file_extension": ".py",
   "mimetype": "text/x-python",
   "name": "python",
   "nbconvert_exporter": "python",
   "pygments_lexer": "ipython3",
   "version": "3.9.13"
  }
 },
 "nbformat": 4,
 "nbformat_minor": 5
}
