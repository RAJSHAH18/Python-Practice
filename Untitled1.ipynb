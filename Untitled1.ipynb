{
 "cells": [
  {
   "cell_type": "code",
   "execution_count": 1,
   "id": "85d13868",
   "metadata": {},
   "outputs": [
    {
     "ename": "TypeError",
     "evalue": "'str' object does not support item assignment",
     "output_type": "error",
     "traceback": [
      "\u001b[1;31m---------------------------------------------------------------------------\u001b[0m",
      "\u001b[1;31mTypeError\u001b[0m                                 Traceback (most recent call last)",
      "\u001b[1;32m~\\AppData\\Local\\Temp\\ipykernel_16776\\1832037801.py\u001b[0m in \u001b[0;36m<module>\u001b[1;34m\u001b[0m\n\u001b[0;32m      1\u001b[0m \u001b[0mstring\u001b[0m \u001b[1;33m=\u001b[0m \u001b[1;34m\"h1\"\u001b[0m\u001b[1;33m\u001b[0m\u001b[1;33m\u001b[0m\u001b[0m\n\u001b[1;32m----> 2\u001b[1;33m \u001b[0mstring\u001b[0m\u001b[1;33m[\u001b[0m\u001b[1;36m0\u001b[0m\u001b[1;33m]\u001b[0m \u001b[1;33m=\u001b[0m \u001b[1;34m'1'\u001b[0m\u001b[1;33m\u001b[0m\u001b[1;33m\u001b[0m\u001b[0m\n\u001b[0m\u001b[0;32m      3\u001b[0m \u001b[1;31m# string[1] = '0'\u001b[0m\u001b[1;33m\u001b[0m\u001b[1;33m\u001b[0m\u001b[0m\n\u001b[0;32m      4\u001b[0m \u001b[0mprint\u001b[0m\u001b[1;33m(\u001b[0m\u001b[0mstring\u001b[0m\u001b[1;33m[\u001b[0m\u001b[1;36m0\u001b[0m\u001b[1;33m]\u001b[0m\u001b[1;33m)\u001b[0m\u001b[1;33m\u001b[0m\u001b[1;33m\u001b[0m\u001b[0m\n",
      "\u001b[1;31mTypeError\u001b[0m: 'str' object does not support item assignment"
     ]
    }
   ],
   "source": [
    "string = \"h1\"\n",
    "string[0] = '1'\n",
    "# string[1] = '0'\n",
    "print(string[0])"
   ]
  },
  {
   "cell_type": "code",
   "execution_count": null,
   "id": "cab1beb9",
   "metadata": {},
   "outputs": [],
   "source": [
    "l1[1]='0'\n",
    "l1[2]='1'\n",
    "print(l1)"
   ]
  },
  {
   "cell_type": "code",
   "execution_count": 12,
   "id": "13eb9b9c",
   "metadata": {},
   "outputs": [
    {
     "name": "stdout",
     "output_type": "stream",
     "text": [
      "dlrowoll\n"
     ]
    }
   ],
   "source": [
    "string = \"Helloworld\"\n",
    "s = string[-1:1:-1]\n",
    "print(s)"
   ]
  },
  {
   "cell_type": "markdown",
   "id": "1b8c3b7f",
   "metadata": {},
   "source": [
    "# Q.6 Take input of any number and generate all possible binary strings. Example :\n",
    "# Input no: 2\n",
    "# Output:\n",
    "# Binary Strings : 00 10 10 11"
   ]
  },
  {
   "cell_type": "code",
   "execution_count": 2,
   "id": "77418153",
   "metadata": {},
   "outputs": [
    {
     "name": "stdout",
     "output_type": "stream",
     "text": [
      "0b1000\n",
      "000\n",
      "0b1001\n",
      "001\n",
      "0b1010\n",
      "010\n",
      "0b1011\n",
      "011\n",
      "0b1100\n",
      "100\n",
      "0b1101\n",
      "101\n",
      "0b1110\n",
      "110\n",
      "0b1111\n",
      "111\n"
     ]
    }
   ],
   "source": [
    "n = 3\n",
    "for i in range(2**n,2**(n+1)):\n",
    "    print(bin(i))\n",
    "    print(bin(i)[3:])"
   ]
  },
  {
   "cell_type": "code",
   "execution_count": 4,
   "id": "9a76797a",
   "metadata": {},
   "outputs": [
    {
     "name": "stdout",
     "output_type": "stream",
     "text": [
      "1\n"
     ]
    }
   ],
   "source": [
    "a = [1,2]\n",
    "b,c = a\n",
    "print(b)"
   ]
  },
  {
   "cell_type": "code",
   "execution_count": 7,
   "id": "e24614ba",
   "metadata": {},
   "outputs": [
    {
     "name": "stdout",
     "output_type": "stream",
     "text": [
      "The Max value of the list :  400\n"
     ]
    }
   ],
   "source": [
    "list = [2,89,400,5,6]\n",
    "max =list[0]  # here we set value \n",
    "\n",
    "for x in list:\n",
    "    if x > max:\n",
    "        max = x\n",
    "print(\"The Max value of the list : \", max)"
   ]
  },
  {
   "cell_type": "code",
   "execution_count": 9,
   "id": "2a7b2047",
   "metadata": {},
   "outputs": [
    {
     "name": "stdout",
     "output_type": "stream",
     "text": [
      "The list is empty\n"
     ]
    }
   ],
   "source": [
    "list = []\n",
    "if not list:\n",
    "    print(\"The list is empty\")\n",
    "else:\n",
    "    print(\"The list is not empty !\")"
   ]
  },
  {
   "cell_type": "code",
   "execution_count": 11,
   "id": "bff9e0b7",
   "metadata": {},
   "outputs": [
    {
     "name": "stdout",
     "output_type": "stream",
     "text": [
      "<class 'list'> [1, 2, 3, 4]\n"
     ]
    }
   ],
   "source": [
    "a = [1,2,3,4]\n",
    "b = a\n",
    "b = a.copy()\n",
    "print(type(b),b)"
   ]
  },
  {
   "cell_type": "code",
   "execution_count": 1,
   "id": "5abb51f5",
   "metadata": {},
   "outputs": [],
   "source": [
    "# SET\n",
    "# Set contains only unique Values and it is unordered,unchallenegable(Only allow add or removing of items) and Duplicate values are not allowed.\n"
   ]
  },
  {
   "cell_type": "code",
   "execution_count": 2,
   "id": "984b39ab",
   "metadata": {},
   "outputs": [
    {
     "name": "stdout",
     "output_type": "stream",
     "text": [
      "8\n"
     ]
    }
   ],
   "source": [
    "# To Find Length of set:\n",
    "s = {1,2,3,4,5,6,7,8}\n",
    "ans = len(s)\n",
    "print(ans)"
   ]
  },
  {
   "cell_type": "code",
   "execution_count": 4,
   "id": "904fafc6",
   "metadata": {},
   "outputs": [
    {
     "data": {
      "text/plain": [
       "{1, 2, 3, 4, 5, 6, 7, 8, 10}"
      ]
     },
     "execution_count": 4,
     "metadata": {},
     "output_type": "execute_result"
    }
   ],
   "source": [
    "# set.add() : It is used to add element in the set.\n",
    "s.add(10)\n",
    "s"
   ]
  },
  {
   "cell_type": "code",
   "execution_count": 14,
   "id": "580e9f33",
   "metadata": {},
   "outputs": [
    {
     "data": {
      "text/plain": [
       "{(1, 51, 2), (5, 6, 7, 8, 9, 10), 1, 10, 2, 3, 4, 5, 6, 7, 8}"
      ]
     },
     "execution_count": 14,
     "metadata": {},
     "output_type": "execute_result"
    }
   ],
   "source": [
    "s.add((5,6,7,8,9,10))\n",
    "s.add((1,51,2))\n",
    "s"
   ]
  },
  {
   "cell_type": "code",
   "execution_count": 18,
   "id": "bc73dbc1",
   "metadata": {},
   "outputs": [
    {
     "data": {
      "text/plain": [
       "{(1, 51, 2), (5, 6, 7, 8, 9, 10), 1, 10, 2, 3, 4, 5, 6, 7, 8, 'h', 'i'}"
      ]
     },
     "execution_count": 18,
     "metadata": {},
     "output_type": "execute_result"
    }
   ],
   "source": [
    "# set.update() is used to add iterable items in set oor u can update a set to another set\n",
    "s.update(\"hii\")\n",
    "s"
   ]
  },
  {
   "cell_type": "code",
   "execution_count": 11,
   "id": "2ccb427e",
   "metadata": {},
   "outputs": [
    {
     "name": "stdout",
     "output_type": "stream",
     "text": [
      "Enter Word To Be Search : Conversation\n",
      "Conversation : Chat\n"
     ]
    }
   ],
   "source": [
    ",dict_search = {\"Conversation\":\"Chat\",\"Iterate\":\"Loop\",\"Mutabale\":\"Changeable\",\"Immutavle\":\"Not Changeable\",\"Lazy\":\"Legthargic\"}\n",
    "\n",
    "\n",
    "word = input(\"Enter Word To Be Search : \")\n",
    "\n",
    "if(word in dict_search):\n",
    "    print(f\"{word} : {dict_search[word]}\")\n",
    "else:\n",
    "    \n"
   ]
  },
  {
   "cell_type": "code",
   "execution_count": null,
   "id": "a84b371a",
   "metadata": {},
   "outputs": [],
   "source": []
  }
 ],
 "metadata": {
  "kernelspec": {
   "display_name": "Python 3 (ipykernel)",
   "language": "python",
   "name": "python3"
  },
  "language_info": {
   "codemirror_mode": {
    "name": "ipython",
    "version": 3
   },
   "file_extension": ".py",
   "mimetype": "text/x-python",
   "name": "python",
   "nbconvert_exporter": "python",
   "pygments_lexer": "ipython3",
   "version": "3.9.13"
  }
 },
 "nbformat": 4,
 "nbformat_minor": 5
}
