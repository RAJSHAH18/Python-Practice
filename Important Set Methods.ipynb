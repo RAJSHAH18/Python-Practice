{
 "cells": [
  {
   "cell_type": "code",
   "execution_count": 17,
   "id": "82b43b02",
   "metadata": {},
   "outputs": [],
   "source": [
    "A = {1,2,3,4,45,54,65,74,86}"
   ]
  },
  {
   "cell_type": "code",
   "execution_count": 2,
   "id": "2aaf9a9c",
   "metadata": {},
   "outputs": [
    {
     "name": "stdout",
     "output_type": "stream",
     "text": [
      "{65, 1, 2, 3, 4, 74, 45, 54, 86}\n"
     ]
    }
   ],
   "source": [
    "print(A)"
   ]
  },
  {
   "cell_type": "code",
   "execution_count": 3,
   "id": "92da5005",
   "metadata": {},
   "outputs": [
    {
     "name": "stdout",
     "output_type": "stream",
     "text": [
      "{'1', 65, 1, 2, 3, 4, 74, 45, 54, 86}\n"
     ]
    }
   ],
   "source": [
    "# set.add(value) method is used to add element to the set\n",
    "A.add(\"1\")\n",
    "# A.add(1)\n",
    "print(A)"
   ]
  },
  {
   "cell_type": "code",
   "execution_count": 4,
   "id": "b1ecef8e",
   "metadata": {},
   "outputs": [
    {
     "name": "stdout",
     "output_type": "stream",
     "text": [
      "10\n"
     ]
    }
   ],
   "source": [
    "# len(set) method is used to find length of set\n",
    "print(len(A))"
   ]
  },
  {
   "cell_type": "code",
   "execution_count": 6,
   "id": "adc4d06f",
   "metadata": {},
   "outputs": [
    {
     "name": "stdout",
     "output_type": "stream",
     "text": [
      "{'1', 65, 1, 2, 3, 4, 66, 74, 10, 45, 15, 54, 86}\n"
     ]
    }
   ],
   "source": [
    "# set.update(current_value,new_value) method is used to add any value in the set in form of set or list\n",
    "A.update([10,15,66])\n",
    "print(A)"
   ]
  },
  {
   "cell_type": "code",
   "execution_count": 8,
   "id": "9151ab39",
   "metadata": {},
   "outputs": [
    {
     "name": "stdout",
     "output_type": "stream",
     "text": [
      "{'1', 65, 1, 2, 3, 4, 66, 74, 10, 45, 14, 15, 18, 54, 86} 15\n"
     ]
    }
   ],
   "source": [
    "# add set in set\n",
    "A.update({14,18})\n",
    "print(A,len(A))"
   ]
  },
  {
   "cell_type": "code",
   "execution_count": 18,
   "id": "8752361d",
   "metadata": {},
   "outputs": [
    {
     "name": "stdout",
     "output_type": "stream",
     "text": [
      "{65, 2, 3, 4, 74, 45, 54, 86} 8 None\n"
     ]
    }
   ],
   "source": [
    "# set.reomve(\"value\") method is used to remove any element from the set by sepcifying value\n",
    "A.remove(1)\n",
    "print(A,len(A))"
   ]
  },
  {
   "cell_type": "code",
   "execution_count": 19,
   "id": "cf10d7d3",
   "metadata": {},
   "outputs": [
    {
     "name": "stdout",
     "output_type": "stream",
     "text": [
      "{2, 3, 4, 74, 45, 54, 86} 7 65\n"
     ]
    }
   ],
   "source": [
    "# set.pop() method is used to remove any element from the set amd return the element\n",
    "x=A.pop()\n",
    "print(A,len(A),x)"
   ]
  },
  {
   "cell_type": "code",
   "execution_count": 21,
   "id": "438417e5",
   "metadata": {},
   "outputs": [
    {
     "name": "stdout",
     "output_type": "stream",
     "text": [
      "set() 0\n"
     ]
    }
   ],
   "source": [
    "# set.clear() method is used to remove all elements from the set\n",
    "x = A.clear()\n",
    "print(A,len(A))"
   ]
  },
  {
   "cell_type": "code",
   "execution_count": null,
   "id": "8a34e82d",
   "metadata": {},
   "outputs": [],
   "source": []
  }
 ],
 "metadata": {
  "kernelspec": {
   "display_name": "Python 3 (ipykernel)",
   "language": "python",
   "name": "python3"
  },
  "language_info": {
   "codemirror_mode": {
    "name": "ipython",
    "version": 3
   },
   "file_extension": ".py",
   "mimetype": "text/x-python",
   "name": "python",
   "nbconvert_exporter": "python",
   "pygments_lexer": "ipython3",
   "version": "3.9.13"
  }
 },
 "nbformat": 4,
 "nbformat_minor": 5
}
