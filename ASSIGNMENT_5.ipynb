{
 "cells": [
  {
   "cell_type": "markdown",
   "id": "78109752",
   "metadata": {},
   "source": [
    "# Q.1 Write a Python code to create an array of 5 integers and display the array items. Accessindividual element through indexes."
   ]
  },
  {
   "cell_type": "code",
   "execution_count": 17,
   "id": "41355d46",
   "metadata": {},
   "outputs": [
    {
     "name": "stdout",
     "output_type": "stream",
     "text": [
      "The Original Array is  array('i', [1, 2, 5, 6, 4, 8, 78])\n",
      "\n",
      "Accessing Array Through different Indexes : \n",
      "[0] => 1 [1] => 2 [2] => 5 [3] => 6 [4] => 4 [5] => 8 [6] => 78 "
     ]
    }
   ],
   "source": [
    "# import numpy as np\n",
    "# a = [1,2,3,5,6,8,254,4]\n",
    "# arr = np.array(a)\n",
    "# # Access individual element through indexes\n",
    "# print(f\"The Orignal Array Is : {arr}\")\n",
    "# print(\"Access individual element through indexes :- \")\n",
    "\n",
    "# # 1st way\n",
    "# for i in range(0,len(arr)):\n",
    "#     print(f\"Index no {i} =>{arr[i]} \")\n",
    "# print()\n",
    "    \n",
    "# # 2nd Way\n",
    "# print(f\"Index no 0 =>\",arr[0])\n",
    "# print(f\"Index no 1 =>\",arr[1])\n",
    "# print(f\"Index no 2 =>\",arr[2])\n",
    "# print(f\"Index no 3 =>\",arr[3])\n",
    "# print(f\"Index no 4 =>\",arr[4])\n",
    "# print(f\"Index no 5 =>\",arr[5])\n",
    "# print(f\"Index no 6 =>\",arr[6])\n",
    "# print(f\"Index no 7 =>\",arr[7])\n",
    "\n",
    "\n",
    "# # 3 Way \n",
    "# print(\"3 way \",arr[0:])\n",
    "\n",
    "# 2nd Mehtod\n",
    "from array import *\n",
    "a = [1,2,5,6,4,8,78]\n",
    "arr = array('i',a)\n",
    "print(\"The Original Array is \",arr)\n",
    "print()\n",
    "print(\"Accessing Array Through different Indexes : \")\n",
    "for i in range(0,len(arr)):\n",
    "    print(f\"{[i]} =>\",arr[i],end=\" \")\n",
    "\n",
    "\n",
    "\n",
    "    \n",
    "    "
   ]
  },
  {
   "cell_type": "markdown",
   "id": "3186f79b",
   "metadata": {},
   "source": [
    "# Q.2 Write a Python code to reverse the order of the items in the array."
   ]
  },
  {
   "cell_type": "code",
   "execution_count": 66,
   "id": "724958dc",
   "metadata": {},
   "outputs": [
    {
     "name": "stdout",
     "output_type": "stream",
     "text": [
      "The Original Array is :  array('i', [1, 5, 8, 4, 7, 69, 45])\n",
      "The Array In Reverse order is : array('i', [45, 69, 7, 4, 8, 5, 1])\n"
     ]
    }
   ],
   "source": [
    "from numpy import * \n",
    "# a = [1,5,8,4,7,89,74,45]\n",
    "# arr = array(a)\n",
    "\n",
    "\n",
    "# 1 Way\n",
    "# print(\"The Original Array is :\",arr)\n",
    "# print(\"Array In Reverse Order is : \",end=\"[ \")\n",
    "# for i in range(len(arr)-1,-1,-1):\n",
    "#     print(arr[i],end=\" \")\n",
    "# print(\"]\")\n",
    "\n",
    "\n",
    "# 2 Way \n",
    "# print(\"The Original Array is : \",arr)\n",
    "# print(\"The Array in reverse Order is : \",arr[::-1])\n",
    "\n",
    "# 2 Method\n",
    "from array import *\n",
    "a = [1,5,8,4,7,69,45]\n",
    "arr = array('i',a)\n",
    "\n",
    "# 1 Way \n",
    "# print(\"The Original Array is : \",arr)\n",
    "# arr.reverse()# this is used to reverse the array\n",
    "# print(\"The Array in reverse order is : \",arr)\n",
    "\n",
    "\n",
    "# 2 Way\n",
    "print(\"The Original Array is : \",arr)\n",
    "print(\"The Array In Reverse order is :\",arr[::-1])\n",
    "\n",
    " "
   ]
  },
  {
   "cell_type": "markdown",
   "id": "4c1436c1",
   "metadata": {},
   "source": [
    "# Q.3 Write a Python code to get thenumber of occurrences of a specified element in anarray\n"
   ]
  },
  {
   "cell_type": "code",
   "execution_count": 50,
   "id": "9c32d69a",
   "metadata": {},
   "outputs": [
    {
     "name": "stdout",
     "output_type": "stream",
     "text": [
      "The Original Array is :  array('i', [10, 50, 2, 5, 4, 6, 2, 7, 8, 2, 1, 2])\n",
      "Enter A Number : 2\n",
      "The Total Number of occurrences of 2 is 4\n"
     ]
    }
   ],
   "source": [
    "import numpy as np\n",
    "\n",
    "# a = [10,5,2,8,2,2,2,5,6,8,6,8,2,1,4,5]\n",
    "# arr = np.array(a)\n",
    "# print(\"The Original Array is : \",arr)\n",
    "# num = int(input(\"Enter A number : \"))\n",
    "# count = np.count_nonzero(arr == num)\n",
    "# count = (arr == num).sum() # alternate way\n",
    "# print(f\"The Total Number of occurrences of {num} is {count} \")\n",
    "\n",
    "\n",
    "# 2 Method\n",
    "from array import *\n",
    "a = [10,50,2,5,4,6,2,7,8,2,1,2]\n",
    "arr = array('i',a)\n",
    "print(\"The Original Array is : \",arr)\n",
    "num = int(input(\"Enter A Number : \"))\n",
    "count = arr.count(num)\n",
    "print(f\"The Frequency of {num} in array  is {count}\")\n"
   ]
  },
  {
   "cell_type": "markdown",
   "id": "a1470cc6",
   "metadata": {},
   "source": [
    "# Q.4 Write a python program to sort array with any sorting algorithm.(e.g. bubble sort, quicksort)"
   ]
  },
  {
   "cell_type": "code",
   "execution_count": 114,
   "id": "c77efffb",
   "metadata": {},
   "outputs": [
    {
     "name": "stdout",
     "output_type": "stream",
     "text": [
      "The Original Array is :  [10 25  4  1  2  8  6 96  1]\n",
      "The Array sort Using sort function [ 1  1  2  4  6  8 10 25 96]\n"
     ]
    }
   ],
   "source": [
    "import numpy as np\n",
    "a = [10,25,4,1,2,8,6,96,1]\n",
    "arr = np.array(a)\n",
    "\n",
    "# Defining a Function for Bubble sort\n",
    "def bubble_sort(a):\n",
    "    n = len(a)\n",
    "    temp = 0\n",
    "    for i in range(n):\n",
    "        for j in range(i+1,n):\n",
    "            if(a[i]>a[j]):\n",
    "                temp = a[i]\n",
    "                a[i] = a[j]\n",
    "                a[j] = temp\n",
    "    return a\n",
    "\n",
    "print(\"The Original Array is : \",arr)\n",
    "# calling a function\n",
    "bubble_sort(arr)\n",
    "print(\"The Array after Bubble Sorting is : \",arr)\n",
    "\n",
    "# sorting using function\n",
    "# print(\"The Array sort Using sort function\",np.sort(arr))\n"
   ]
  },
  {
   "cell_type": "markdown",
   "id": "5485c63b",
   "metadata": {},
   "source": [
    "# Q.5 Write a python program to convert 2-D 3*3 matrix values in to zero to one"
   ]
  },
  {
   "cell_type": "code",
   "execution_count": 113,
   "id": "e6f80ea1",
   "metadata": {},
   "outputs": [
    {
     "name": "stdout",
     "output_type": "stream",
     "text": [
      "[[1. 0. 0.]\n",
      " [0. 1. 0.]\n",
      " [0. 0. 1.]] [[1. 0. 0.]\n",
      " [0. 1. 0.]\n",
      " [0. 0. 1.]]\n"
     ]
    }
   ],
   "source": [
    "import numpy as np\n",
    "# arr = np.arange(1,10).reshape(3,3)\n",
    "ar = np.eye(3)\n",
    "# arr = np.identity(3)\n"
   ]
  },
  {
   "cell_type": "markdown",
   "id": "4dd848f8",
   "metadata": {},
   "source": [
    "# Q.6 Write a python program to create inverse of 3*3 matrix."
   ]
  },
  {
   "cell_type": "code",
   "execution_count": 97,
   "id": "cc0e3845",
   "metadata": {},
   "outputs": [
    {
     "name": "stdout",
     "output_type": "stream",
     "text": [
      "The Matrix is :\n",
      "[[2 5 9]\n",
      " [4 2 3]\n",
      " [4 9 1]]\n",
      "\n",
      "The Inverse Of Given Matrix Is : \n",
      "\n",
      "[[-0.10330579  0.31404959 -0.01239669]\n",
      " [ 0.03305785 -0.14049587  0.12396694]\n",
      " [ 0.11570248  0.00826446 -0.0661157 ]]\n"
     ]
    }
   ],
   "source": [
    "import numpy as np\n",
    "arr = np.array([[2,5,9],[4,2,3],[4,9,1]])\n",
    "print(\"The Matrix is :\")\n",
    "print(arr)\n",
    "# Calculate Determinant\n",
    "determinant = np.linalg.det(arr)\n",
    "print()\n",
    "if(determinant !=0):\n",
    "    inverse = np.linalg.inv(arr)\n",
    "    print(\"The Inverse Of Given Matrix Is : \\n\")\n",
    "    print(inverse)\n",
    "else:\n",
    "    print(\"The Inverse of given Mathrix is not possible becuase Determinant is 0 \")\n",
    "    "
   ]
  },
  {
   "cell_type": "markdown",
   "id": "4eef4fe6",
   "metadata": {},
   "source": [
    "# Q.7 Create Python function to generate log values of 3*5 matrix."
   ]
  },
  {
   "cell_type": "code",
   "execution_count": 118,
   "id": "a2cfb4e0",
   "metadata": {},
   "outputs": [
    {
     "name": "stdout",
     "output_type": "stream",
     "text": [
      "The Matrix is : \n",
      "[[15 16 17 18 19]\n",
      " [20 21 22 23 24]\n",
      " [25 26 27 28 29]]\n",
      "\n",
      "2.70805020110221 2.772588722239781 2.833213344056216 2.8903717578961645 2.9444389791664403 \n",
      "2.995732273553991 3.044522437723423 3.091042453358316 3.1354942159291497 3.1780538303479458 \n",
      "3.2188758248682006 3.258096538021482 3.295836866004329 3.332204510175204 3.367295829986474 \n"
     ]
    }
   ],
   "source": [
    "\n",
    "import numpy as np\n",
    "arr = np.arange(15,30).reshape(3,5)\n",
    "print(\"The Matrix is : \")\n",
    "print(arr)\n",
    "print()\n",
    "\n",
    "# Function defining\n",
    "def find_log(arr):\n",
    "    rows = arr.shape[0]\n",
    "    cols = arr.shape[1]\n",
    "    for i in range(rows):\n",
    "        for j in range(cols):\n",
    "            print(np.log(arr[i][j]),end = \" \")\n",
    "        print()\n",
    "        \n",
    "# Calling Function\n",
    "\n",
    "find_log(arr)        "
   ]
  },
  {
   "cell_type": "code",
   "execution_count": 120,
   "id": "50e2de31",
   "metadata": {},
   "outputs": [
    {
     "name": "stdout",
     "output_type": "stream",
     "text": [
      "Log values of matrix:\n",
      " [[0.         0.69314718 1.09861229 1.38629436 1.60943791]\n",
      " [1.79175947 1.94591015 2.07944154 2.19722458 2.30258509]\n",
      " [2.39789527 2.48490665 2.56494936 2.63905733 2.7080502 ]]\n"
     ]
    }
   ],
   "source": [
    "import numpy as np\n",
    "matrix = np.array([[1, 2, 3, 4, 5], [6, 7, 8, 9, 10], [11, 12, 13, 14, 15]])\n",
    "log_matrix = np.log(matrix)\n",
    "print(\"Log values of matrix:\\n\", log_matrix)"
   ]
  },
  {
   "cell_type": "code",
   "execution_count": null,
   "id": "a137dcb2",
   "metadata": {},
   "outputs": [],
   "source": []
  }
 ],
 "metadata": {
  "kernelspec": {
   "display_name": "Python 3 (ipykernel)",
   "language": "python",
   "name": "python3"
  },
  "language_info": {
   "codemirror_mode": {
    "name": "ipython",
    "version": 3
   },
   "file_extension": ".py",
   "mimetype": "text/x-python",
   "name": "python",
   "nbconvert_exporter": "python",
   "pygments_lexer": "ipython3",
   "version": "3.9.13"
  }
 },
 "nbformat": 4,
 "nbformat_minor": 5
}
