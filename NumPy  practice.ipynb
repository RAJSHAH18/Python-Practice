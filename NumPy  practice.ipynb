{
 "cells": [
  {
   "cell_type": "code",
   "execution_count": 1,
   "id": "d4c635ba",
   "metadata": {},
   "outputs": [],
   "source": [
    "import numpy as np"
   ]
  },
  {
   "cell_type": "code",
   "execution_count": 2,
   "id": "52982085",
   "metadata": {},
   "outputs": [],
   "source": [
    "l1 = [1,3,55,2]"
   ]
  },
  {
   "cell_type": "code",
   "execution_count": 4,
   "id": "bf10f2fb",
   "metadata": {},
   "outputs": [],
   "source": [
    "myarr = np.array(l1)"
   ]
  },
  {
   "cell_type": "code",
   "execution_count": 5,
   "id": "2c467cfe",
   "metadata": {},
   "outputs": [
    {
     "name": "stdout",
     "output_type": "stream",
     "text": [
      "[ 1  3 55  2]\n"
     ]
    }
   ],
   "source": [
    "print(myarr)"
   ]
  },
  {
   "cell_type": "code",
   "execution_count": 6,
   "id": "eaf11dd0",
   "metadata": {},
   "outputs": [
    {
     "data": {
      "text/plain": [
       "array([ 1,  3, 55,  2])"
      ]
     },
     "execution_count": 6,
     "metadata": {},
     "output_type": "execute_result"
    }
   ],
   "source": [
    "myarr"
   ]
  },
  {
   "cell_type": "markdown",
   "id": "6834df41",
   "metadata": {},
   "source": [
    "# using numpy we can easily manage memory... like\n",
    "# np.int32,np.int64"
   ]
  },
  {
   "cell_type": "code",
   "execution_count": 23,
   "id": "0409acdd",
   "metadata": {},
   "outputs": [],
   "source": [
    "myarr = np.array(l1,np.int8)"
   ]
  },
  {
   "cell_type": "code",
   "execution_count": 9,
   "id": "38d11226",
   "metadata": {},
   "outputs": [
    {
     "name": "stdout",
     "output_type": "stream",
     "text": [
      "<class 'numpy.ndarray'> [ 1  3 55  2]\n"
     ]
    }
   ],
   "source": [
    "print(type(myarr),myarr)"
   ]
  },
  {
   "cell_type": "code",
   "execution_count": 24,
   "id": "cf6863fa",
   "metadata": {},
   "outputs": [
    {
     "data": {
      "text/plain": [
       "array([ 1,  3, 55,  2], dtype=int8)"
      ]
     },
     "execution_count": 24,
     "metadata": {},
     "output_type": "execute_result"
    }
   ],
   "source": [
    "myarr"
   ]
  },
  {
   "cell_type": "code",
   "execution_count": 12,
   "id": "76398b7a",
   "metadata": {},
   "outputs": [
    {
     "data": {
      "text/plain": [
       "array([ 1,  3, 55,  2])"
      ]
     },
     "execution_count": 12,
     "metadata": {},
     "output_type": "execute_result"
    }
   ],
   "source": [
    "myarr"
   ]
  },
  {
   "cell_type": "code",
   "execution_count": 25,
   "id": "615e95cc",
   "metadata": {},
   "outputs": [],
   "source": [
    "arr = np.array(l1, np.int64)"
   ]
  },
  {
   "cell_type": "code",
   "execution_count": 26,
   "id": "562c93ea",
   "metadata": {},
   "outputs": [
    {
     "data": {
      "text/plain": [
       "array([ 1,  3, 55,  2], dtype=int64)"
      ]
     },
     "execution_count": 26,
     "metadata": {},
     "output_type": "execute_result"
    }
   ],
   "source": [
    "arr"
   ]
  },
  {
   "cell_type": "code",
   "execution_count": 27,
   "id": "4bbbb8b9",
   "metadata": {},
   "outputs": [
    {
     "data": {
      "text/plain": [
       "1"
      ]
     },
     "execution_count": 27,
     "metadata": {},
     "output_type": "execute_result"
    }
   ],
   "source": [
    "arr[0]"
   ]
  },
  {
   "cell_type": "markdown",
   "id": "d4cec5b6",
   "metadata": {},
   "source": [
    "# To identitfy number of row and column in array we used arr.shape"
   ]
  },
  {
   "cell_type": "code",
   "execution_count": 39,
   "id": "9efed912",
   "metadata": {},
   "outputs": [
    {
     "data": {
      "text/plain": [
       "(4,)"
      ]
     },
     "execution_count": 39,
     "metadata": {},
     "output_type": "execute_result"
    }
   ],
   "source": [
    "arr.shape\n"
   ]
  },
  {
   "cell_type": "code",
   "execution_count": 29,
   "id": "075a8e5e",
   "metadata": {},
   "outputs": [
    {
     "data": {
      "text/plain": [
       "dtype('int64')"
      ]
     },
     "execution_count": 29,
     "metadata": {},
     "output_type": "execute_result"
    }
   ],
   "source": [
    "arr.dtype # it used to idntify type of datatype"
   ]
  },
  {
   "cell_type": "markdown",
   "id": "e74a625e",
   "metadata": {},
   "source": [
    "# Array Creation : Conversion from otheer Pyhton Structures"
   ]
  },
  {
   "cell_type": "code",
   "execution_count": 46,
   "id": "d8a28a6e",
   "metadata": {},
   "outputs": [],
   "source": [
    "listarray = np.array([[1,2,3],[5,8,5],[0,3,1]])"
   ]
  },
  {
   "cell_type": "code",
   "execution_count": 47,
   "id": "1da53fac",
   "metadata": {},
   "outputs": [
    {
     "data": {
      "text/plain": [
       "(3, 3)"
      ]
     },
     "execution_count": 47,
     "metadata": {},
     "output_type": "execute_result"
    }
   ],
   "source": [
    "listarray.shape"
   ]
  },
  {
   "cell_type": "code",
   "execution_count": 48,
   "id": "901d72bf",
   "metadata": {},
   "outputs": [
    {
     "data": {
      "text/plain": [
       "dtype('int32')"
      ]
     },
     "execution_count": 48,
     "metadata": {},
     "output_type": "execute_result"
    }
   ],
   "source": [
    "listarray.dtype\n"
   ]
  },
  {
   "cell_type": "code",
   "execution_count": 49,
   "id": "62347bd7",
   "metadata": {},
   "outputs": [
    {
     "data": {
      "text/plain": [
       "array([[1, 2, 3],\n",
       "       [5, 8, 5],\n",
       "       [0, 3, 1]])"
      ]
     },
     "execution_count": 49,
     "metadata": {},
     "output_type": "execute_result"
    }
   ],
   "source": [
    "listarray"
   ]
  },
  {
   "cell_type": "code",
   "execution_count": 34,
   "id": "2f0288b7",
   "metadata": {},
   "outputs": [
    {
     "name": "stdout",
     "output_type": "stream",
     "text": [
      "[[1 2 3]\n",
      " [5 8 5]\n",
      " [0 3 1]]\n"
     ]
    }
   ],
   "source": [
    "print(listarray)"
   ]
  },
  {
   "cell_type": "code",
   "execution_count": 35,
   "id": "b5a05e05",
   "metadata": {},
   "outputs": [
    {
     "data": {
      "text/plain": [
       "9"
      ]
     },
     "execution_count": 35,
     "metadata": {},
     "output_type": "execute_result"
    }
   ],
   "source": [
    "listarray.size"
   ]
  },
  {
   "cell_type": "code",
   "execution_count": 36,
   "id": "402f99e2",
   "metadata": {},
   "outputs": [
    {
     "data": {
      "text/plain": [
       "array({34, 23}, dtype=object)"
      ]
     },
     "execution_count": 36,
     "metadata": {},
     "output_type": "execute_result"
    }
   ],
   "source": [
    "np.array({34,23,23})"
   ]
  },
  {
   "cell_type": "code",
   "execution_count": 52,
   "id": "e72e3c57",
   "metadata": {},
   "outputs": [],
   "source": [
    "# np.zeros funxtion i used to provide a zeor matrix by providing size as row and column\n",
    "zeros = np.zeros((2,5))"
   ]
  },
  {
   "cell_type": "code",
   "execution_count": 38,
   "id": "435b61aa",
   "metadata": {},
   "outputs": [
    {
     "data": {
      "text/plain": [
       "array([[0., 0., 0., 0., 0.],\n",
       "       [0., 0., 0., 0., 0.]])"
      ]
     },
     "execution_count": 38,
     "metadata": {},
     "output_type": "execute_result"
    }
   ],
   "source": [
    "zeros"
   ]
  },
  {
   "cell_type": "code",
   "execution_count": 50,
   "id": "b72e9f15",
   "metadata": {},
   "outputs": [],
   "source": [
    "# np.arange is used to an array starting from 0 to specified number -1\n",
    "rng = np.arange(15)\n"
   ]
  },
  {
   "cell_type": "code",
   "execution_count": 51,
   "id": "b5c3644b",
   "metadata": {},
   "outputs": [
    {
     "data": {
      "text/plain": [
       "array([ 0,  1,  2,  3,  4,  5,  6,  7,  8,  9, 10, 11, 12, 13, 14])"
      ]
     },
     "execution_count": 51,
     "metadata": {},
     "output_type": "execute_result"
    }
   ],
   "source": [
    "rng"
   ]
  },
  {
   "cell_type": "code",
   "execution_count": 53,
   "id": "c9435a47",
   "metadata": {},
   "outputs": [],
   "source": [
    "lspace = np.linspace(1,4,3)"
   ]
  },
  {
   "cell_type": "code",
   "execution_count": 54,
   "id": "e0e4e21e",
   "metadata": {},
   "outputs": [
    {
     "data": {
      "text/plain": [
       "array([1. , 2.5, 4. ])"
      ]
     },
     "execution_count": 54,
     "metadata": {},
     "output_type": "execute_result"
    }
   ],
   "source": [
    "lspace"
   ]
  },
  {
   "cell_type": "code",
   "execution_count": 55,
   "id": "94026c30",
   "metadata": {},
   "outputs": [],
   "source": [
    "#  It will give an empty array pf given size like 4,6 and it is fufllied by random values\n",
    "emp = np.empty((4,6))\n"
   ]
  },
  {
   "cell_type": "code",
   "execution_count": 56,
   "id": "addc5120",
   "metadata": {},
   "outputs": [
    {
     "data": {
      "text/plain": [
       "array([[6.23042070e-307, 7.56587584e-307, 1.37961302e-306,\n",
       "        6.23053614e-307, 6.23053954e-307, 9.34609790e-307],\n",
       "       [8.45593934e-307, 9.34600963e-307, 9.34598925e-307,\n",
       "        1.42418715e-306, 1.95819401e-306, 1.37961370e-306],\n",
       "       [6.23054633e-307, 9.34598926e-307, 6.89804132e-307,\n",
       "        9.34598926e-307, 1.86919513e-306, 9.34604358e-307],\n",
       "       [2.22522597e-306, 6.89812960e-307, 1.42419530e-306,\n",
       "        9.34609790e-307, 2.22522596e-306, 2.56765117e-312]])"
      ]
     },
     "execution_count": 56,
     "metadata": {},
     "output_type": "execute_result"
    }
   ],
   "source": [
    "emp"
   ]
  },
  {
   "cell_type": "code",
   "execution_count": 57,
   "id": "98dc64b4",
   "metadata": {},
   "outputs": [],
   "source": [
    "# np.empty_like is used to create an empty by specifing and another array name and take it size and create and empty array\n",
    "emp_like = np.empty_like(lspace)"
   ]
  },
  {
   "cell_type": "code",
   "execution_count": 58,
   "id": "5f3b56bf",
   "metadata": {},
   "outputs": [
    {
     "data": {
      "text/plain": [
       "array([7.74860419e-304, 7.74860419e-304, 7.74860419e-304])"
      ]
     },
     "execution_count": 58,
     "metadata": {},
     "output_type": "execute_result"
    }
   ],
   "source": [
    "emp_like"
   ]
  },
  {
   "cell_type": "code",
   "execution_count": 61,
   "id": "69a1526f",
   "metadata": {},
   "outputs": [],
   "source": [
    "arr = np.arange(99)"
   ]
  },
  {
   "cell_type": "code",
   "execution_count": 62,
   "id": "554ce6b2",
   "metadata": {},
   "outputs": [
    {
     "data": {
      "text/plain": [
       "array([ 0,  1,  2,  3,  4,  5,  6,  7,  8,  9, 10, 11, 12, 13, 14, 15, 16,\n",
       "       17, 18, 19, 20, 21, 22, 23, 24, 25, 26, 27, 28, 29, 30, 31, 32, 33,\n",
       "       34, 35, 36, 37, 38, 39, 40, 41, 42, 43, 44, 45, 46, 47, 48, 49, 50,\n",
       "       51, 52, 53, 54, 55, 56, 57, 58, 59, 60, 61, 62, 63, 64, 65, 66, 67,\n",
       "       68, 69, 70, 71, 72, 73, 74, 75, 76, 77, 78, 79, 80, 81, 82, 83, 84,\n",
       "       85, 86, 87, 88, 89, 90, 91, 92, 93, 94, 95, 96, 97, 98])"
      ]
     },
     "execution_count": 62,
     "metadata": {},
     "output_type": "execute_result"
    }
   ],
   "source": [
    "arr"
   ]
  },
  {
   "cell_type": "code",
   "execution_count": 63,
   "id": "cfa9ba18",
   "metadata": {},
   "outputs": [
    {
     "data": {
      "text/plain": [
       "array([[ 0,  1,  2,  3,  4,  5,  6,  7,  8,  9, 10, 11, 12, 13, 14, 15,\n",
       "        16, 17, 18, 19, 20, 21, 22, 23, 24, 25, 26, 27, 28, 29, 30, 31,\n",
       "        32],\n",
       "       [33, 34, 35, 36, 37, 38, 39, 40, 41, 42, 43, 44, 45, 46, 47, 48,\n",
       "        49, 50, 51, 52, 53, 54, 55, 56, 57, 58, 59, 60, 61, 62, 63, 64,\n",
       "        65],\n",
       "       [66, 67, 68, 69, 70, 71, 72, 73, 74, 75, 76, 77, 78, 79, 80, 81,\n",
       "        82, 83, 84, 85, 86, 87, 88, 89, 90, 91, 92, 93, 94, 95, 96, 97,\n",
       "        98]])"
      ]
     },
     "execution_count": 63,
     "metadata": {},
     "output_type": "execute_result"
    }
   ],
   "source": [
    "# array,reshape is used to reshape an array by specifying a size and multiply row and column than it must be a number as same as spcified\n",
    "arr.reshape(3,33)"
   ]
  },
  {
   "cell_type": "code",
   "execution_count": 64,
   "id": "e8679d85",
   "metadata": {},
   "outputs": [
    {
     "data": {
      "text/plain": [
       "array([ 0,  1,  2,  3,  4,  5,  6,  7,  8,  9, 10, 11, 12, 13, 14, 15, 16,\n",
       "       17, 18, 19, 20, 21, 22, 23, 24, 25, 26, 27, 28, 29, 30, 31, 32, 33,\n",
       "       34, 35, 36, 37, 38, 39, 40, 41, 42, 43, 44, 45, 46, 47, 48, 49, 50,\n",
       "       51, 52, 53, 54, 55, 56, 57, 58, 59, 60, 61, 62, 63, 64, 65, 66, 67,\n",
       "       68, 69, 70, 71, 72, 73, 74, 75, 76, 77, 78, 79, 80, 81, 82, 83, 84,\n",
       "       85, 86, 87, 88, 89, 90, 91, 92, 93, 94, 95, 96, 97, 98])"
      ]
     },
     "execution_count": 64,
     "metadata": {},
     "output_type": "execute_result"
    }
   ],
   "source": [
    "arr"
   ]
  },
  {
   "cell_type": "markdown",
   "id": "97c66235",
   "metadata": {},
   "source": [
    "# converting in 2 d array`"
   ]
  },
  {
   "cell_type": "code",
   "execution_count": 65,
   "id": "f7578752",
   "metadata": {},
   "outputs": [],
   "source": [
    "arr  =  arr.reshape(3,33)"
   ]
  },
  {
   "cell_type": "code",
   "execution_count": 66,
   "id": "0f8b53e2",
   "metadata": {},
   "outputs": [
    {
     "data": {
      "text/plain": [
       "array([[ 0,  1,  2,  3,  4,  5,  6,  7,  8,  9, 10, 11, 12, 13, 14, 15,\n",
       "        16, 17, 18, 19, 20, 21, 22, 23, 24, 25, 26, 27, 28, 29, 30, 31,\n",
       "        32],\n",
       "       [33, 34, 35, 36, 37, 38, 39, 40, 41, 42, 43, 44, 45, 46, 47, 48,\n",
       "        49, 50, 51, 52, 53, 54, 55, 56, 57, 58, 59, 60, 61, 62, 63, 64,\n",
       "        65],\n",
       "       [66, 67, 68, 69, 70, 71, 72, 73, 74, 75, 76, 77, 78, 79, 80, 81,\n",
       "        82, 83, 84, 85, 86, 87, 88, 89, 90, 91, 92, 93, 94, 95, 96, 97,\n",
       "        98]])"
      ]
     },
     "execution_count": 66,
     "metadata": {},
     "output_type": "execute_result"
    }
   ],
   "source": [
    "arr"
   ]
  },
  {
   "cell_type": "markdown",
   "id": "4643b26b",
   "metadata": {},
   "source": [
    "# coverting to 1d array"
   ]
  },
  {
   "cell_type": "code",
   "execution_count": 67,
   "id": "8e030977",
   "metadata": {},
   "outputs": [
    {
     "data": {
      "text/plain": [
       "array([ 0,  1,  2,  3,  4,  5,  6,  7,  8,  9, 10, 11, 12, 13, 14, 15, 16,\n",
       "       17, 18, 19, 20, 21, 22, 23, 24, 25, 26, 27, 28, 29, 30, 31, 32, 33,\n",
       "       34, 35, 36, 37, 38, 39, 40, 41, 42, 43, 44, 45, 46, 47, 48, 49, 50,\n",
       "       51, 52, 53, 54, 55, 56, 57, 58, 59, 60, 61, 62, 63, 64, 65, 66, 67,\n",
       "       68, 69, 70, 71, 72, 73, 74, 75, 76, 77, 78, 79, 80, 81, 82, 83, 84,\n",
       "       85, 86, 87, 88, 89, 90, 91, 92, 93, 94, 95, 96, 97, 98])"
      ]
     },
     "execution_count": 67,
     "metadata": {},
     "output_type": "execute_result"
    }
   ],
   "source": [
    "# arrayname.ravel isused to convert 2d Array into 1 Array\n",
    "arr.ravel()"
   ]
  },
  {
   "cell_type": "code",
   "execution_count": 68,
   "id": "8f5c41f8",
   "metadata": {},
   "outputs": [
    {
     "data": {
      "text/plain": [
       "array([[ 0,  1,  2,  3,  4,  5,  6,  7,  8,  9, 10, 11, 12, 13, 14, 15,\n",
       "        16, 17, 18, 19, 20, 21, 22, 23, 24, 25, 26, 27, 28, 29, 30, 31,\n",
       "        32],\n",
       "       [33, 34, 35, 36, 37, 38, 39, 40, 41, 42, 43, 44, 45, 46, 47, 48,\n",
       "        49, 50, 51, 52, 53, 54, 55, 56, 57, 58, 59, 60, 61, 62, 63, 64,\n",
       "        65],\n",
       "       [66, 67, 68, 69, 70, 71, 72, 73, 74, 75, 76, 77, 78, 79, 80, 81,\n",
       "        82, 83, 84, 85, 86, 87, 88, 89, 90, 91, 92, 93, 94, 95, 96, 97,\n",
       "        98]])"
      ]
     },
     "execution_count": 68,
     "metadata": {},
     "output_type": "execute_result"
    }
   ],
   "source": [
    "arr"
   ]
  },
  {
   "cell_type": "code",
   "execution_count": null,
   "id": "c6dd1481",
   "metadata": {},
   "outputs": [],
   "source": []
  }
 ],
 "metadata": {
  "kernelspec": {
   "display_name": "Python 3 (ipykernel)",
   "language": "python",
   "name": "python3"
  },
  "language_info": {
   "codemirror_mode": {
    "name": "ipython",
    "version": 3
   },
   "file_extension": ".py",
   "mimetype": "text/x-python",
   "name": "python",
   "nbconvert_exporter": "python",
   "pygments_lexer": "ipython3",
   "version": "3.9.13"
  }
 },
 "nbformat": 4,
 "nbformat_minor": 5
}
