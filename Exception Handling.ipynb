{
 "cells": [
  {
   "cell_type": "code",
   "execution_count": null,
   "id": "523718e7",
   "metadata": {},
   "outputs": [],
   "source": [
    "# Whenever an error or an exception occurs during code excecution,python stops and throws an error message,due to which code does not \n",
    "# work further.\n",
    "# To avoid such exceptions is known as exception Handling\n",
    "# In  python we can to this like try-except block\n",
    "# Finally bloack can be provided after try and except block\n"
   ]
  },
  {
   "cell_type": "markdown",
   "id": "272ab1a1",
   "metadata": {},
   "source": [
    "# try-except Block"
   ]
  },
  {
   "cell_type": "code",
   "execution_count": null,
   "id": "40816c9e",
   "metadata": {},
   "outputs": [],
   "source": [
    "# Variable is not defined\n",
    "try:\n",
    "    print(x)\n",
    "except:\n",
    "    print(\"X is not defined\")"
   ]
  },
  {
   "cell_type": "code",
   "execution_count": null,
   "id": "27147901",
   "metadata": {},
   "outputs": [],
   "source": [
    "# Value Error\n",
    "x = \"12\"\n",
    "\n",
    "try:\n",
    "    y = int(x)\n",
    "    print (y)\n",
    "except:\n",
    "    print(\"String literal cannot be converted integer\")"
   ]
  },
  {
   "cell_type": "markdown",
   "id": "0a29e82b",
   "metadata": {},
   "source": [
    "# Finally Block"
   ]
  },
  {
   "cell_type": "code",
   "execution_count": null,
   "id": "c0bf1e5a",
   "metadata": {},
   "outputs": [],
   "source": [
    "# No Matter if try is getting exceut or except block is getting executed but at the end finally block will be executed definitely\n",
    "x = 'hello'\n",
    "try:\n",
    "    print(float(x))\n",
    "except:\n",
    "    print(\"Enter Number\")\n",
    "finally:\n",
    "    print(\"Finished\")"
   ]
  },
  {
   "cell_type": "code",
   "execution_count": 1,
   "id": "b24623ba",
   "metadata": {},
   "outputs": [],
   "source": [
    "# Type Error\n",
    "def age():\n",
    "    try:\n",
    "        x = input(\"Enter age :- \")\n",
    "        y = int(x) + 25\n",
    "        print(y)\n",
    "    except:\n",
    "        print(\"Enter number\")\n",
    "        age()\n",
    "    finally:\n",
    "        print(\"Finished\")"
   ]
  },
  {
   "cell_type": "code",
   "execution_count": 3,
   "id": "9e226954",
   "metadata": {},
   "outputs": [
    {
     "name": "stdout",
     "output_type": "stream",
     "text": [
      "Enter age :- Hello\n",
      "Enter number\n",
      "Enter age :- hii\n",
      "Enter number\n",
      "Enter age :- 45\n",
      "70\n",
      "Finished\n",
      "Finished\n",
      "Finished\n"
     ]
    }
   ],
   "source": [
    "age()\n"
   ]
  },
  {
   "cell_type": "code",
   "execution_count": null,
   "id": "9296cdeb",
   "metadata": {},
   "outputs": [],
   "source": []
  }
 ],
 "metadata": {
  "kernelspec": {
   "display_name": "Python 3 (ipykernel)",
   "language": "python",
   "name": "python3"
  },
  "language_info": {
   "codemirror_mode": {
    "name": "ipython",
    "version": 3
   },
   "file_extension": ".py",
   "mimetype": "text/x-python",
   "name": "python",
   "nbconvert_exporter": "python",
   "pygments_lexer": "ipython3",
   "version": "3.9.13"
  }
 },
 "nbformat": 4,
 "nbformat_minor": 5
}
