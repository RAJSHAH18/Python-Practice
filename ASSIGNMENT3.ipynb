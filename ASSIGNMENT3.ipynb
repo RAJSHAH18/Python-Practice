{
 "cells": [
  {
   "cell_type": "code",
   "execution_count": 1,
   "id": "3cb321d0",
   "metadata": {},
   "outputs": [],
   "source": [
    "# NAME :- RAJ JIGNESHBHAI SHAH\n",
    "# ENROLLMENT NO :- SR21BSIT156\n",
    "# PC NO :- 76\n",
    "# SUBJECT :- PYTHON\n",
    "# FACULTY :- YESHA MA'AM \n",
    "# DATE :- 9-02-2023\n",
    "# AIM :- To learn string and dictionary traversing in python.\n",
    "# ASSIGNEMENT NO :- 3"
   ]
  },
  {
   "cell_type": "markdown",
   "id": "f76f4d25",
   "metadata": {},
   "source": [
    "\n",
    "\n",
    "#### Q.1 : Write a Python program to count words in a sentence.\n"
   ]
  },
  {
   "cell_type": "code",
   "execution_count": 2,
   "id": "e942d867",
   "metadata": {},
   "outputs": [
    {
     "name": "stdout",
     "output_type": "stream",
     "text": [
      "{'hi': 2, 'how': 1, 'are': 1, 'you?': 1}\n"
     ]
    }
   ],
   "source": [
    "def words(sen):\n",
    "    c=dict()\n",
    "    list1=sen.split()\n",
    "    # Hello world welocome world \n",
    "    for w in list1:\n",
    "        if w in c:\n",
    "            c[w]+=1 \n",
    "        else:\n",
    "            c[w]=1#c[\"Hello\"]=1 c[\"world\"]=1 c[\"Hello\"] = c[\"Hello\"] + 1\n",
    "    return c\n",
    "\n",
    "print(words(input()))\n",
    "\n",
    "# OUTPUT:\n",
    "\n",
    "# hi hi how are you?\n",
    "# {'hi': 2, 'how': 1, 'are you?': 1}\n"
   ]
  },
  {
   "cell_type": "markdown",
   "id": "112e2439",
   "metadata": {},
   "source": [
    "#### Q.2: Write a Python program to find sum of marks of different subject from python dictionary object."
   ]
  },
  {
   "cell_type": "code",
   "execution_count": null,
   "id": "2c3f5c07",
   "metadata": {},
   "outputs": [],
   "source": [
    "result={\"English\":95, \"Physics\":99, \"Chemistry\":94, \"Maths\":100}\n",
    "tot=0\n",
    "for marks in result.values():\n",
    "    tot=tot+marks\n",
    "print(\"Total marks: \",tot)\n",
    "\n",
    "\n",
    "# second way\n",
    "# print(sum(result.values())) \n",
    "\n",
    "# OUTPUT:\n",
    "# Total marks:  388\n"
   ]
  },
  {
   "cell_type": "markdown",
   "id": "d28bc6f6",
   "metadata": {},
   "source": [
    "#### Moderate:\n",
    "\n",
    "#### Q.3\t: Write a Python program to find uncommon words from two Strings.\n"
   ]
  },
  {
   "cell_type": "code",
   "execution_count": 5,
   "id": "674249b0",
   "metadata": {},
   "outputs": [
    {
     "data": {
      "text/plain": [
       "{3, 5, 6}"
      ]
     },
     "execution_count": 5,
     "metadata": {},
     "output_type": "execute_result"
    }
   ],
   "source": [
    "# sen1=input()\n",
    "# sen2=input()\n",
    "\n",
    "# a=sen1.split()\n",
    "# b=sen2.split()\n",
    "\n",
    "# a =set(a)\n",
    "# b =set(b)\n",
    "\n",
    "a={1,2,3,4}\n",
    "b={1,2,5,6,4}\n",
    "a^b\n",
    "#All Non Common elements\n",
    "# uncommon=[]\n",
    "\n",
    "# for word1 in a:\n",
    "#     if word1 not in b:\n",
    "#         uncommon.append(word1)\n",
    "\n",
    "# for word2 in b:\n",
    "#     if word2 not in a:\n",
    "#         uncommon.append(word2)\n",
    "        \n",
    "# print(\"The uncommon words are: \",uncommon)\n",
    "\n",
    "\n",
    "\n",
    "#second way\n",
    "# uncommon2=[]\n",
    "# for w1,w2 in zip(a,b):\n",
    "#     if w1 not in b:\n",
    "#         uncommon2.append(w1)\n",
    "#     elif w2 not in a:\n",
    "#         luncommon2.append(w2)\n",
    "# print(\"The uncommon words are: \",uncommon2)"
   ]
  },
  {
   "cell_type": "markdown",
   "id": "6be2392e",
   "metadata": {},
   "source": [
    "#### Q.4: Write a Python program to find Frequency of substring in given string."
   ]
  },
  {
   "cell_type": "code",
   "execution_count": 8,
   "id": "7b3a785e",
   "metadata": {},
   "outputs": [
    {
     "name": "stdout",
     "output_type": "stream",
     "text": [
      "The frequency of substring's word:  {'fight': 0}\n"
     ]
    }
   ],
   "source": [
    "sen=input()\n",
    "sub=input()\n",
    "\n",
    "a=sub.split()\n",
    "freq=0\n",
    "word_freq={}\n",
    "\n",
    "for i in a:\n",
    "    freq=sen.count(i)\n",
    "    word_freq[i]=freq\n",
    "print(\"The frequency of substring's word: \",word_freq)"
   ]
  },
  {
   "cell_type": "markdown",
   "id": "c87d4494",
   "metadata": {},
   "source": [
    "#### Q.5\t: Sort words of sentence in ascending order Given a sentence, sort it alphabetically in ascending order.\n",
    "\n",
    "#### Input : to learn programming refer geeksforgeeks Output : geeksforgeeks learn programming refer to\n"
   ]
  },
  {
   "cell_type": "code",
   "execution_count": 9,
   "id": "cbacbf21",
   "metadata": {},
   "outputs": [
    {
     "name": "stdout",
     "output_type": "stream",
     "text": [
      "\n",
      "\n"
     ]
    }
   ],
   "source": [
    "sen=input()\n",
    "a=sen.split()\n",
    "a.sort()\n",
    "\n",
    "# for word in a:\n",
    "#     print(word,end=\" \")\n",
    "    \n",
    "# print()\n",
    "    \n",
    "#second way\n",
    "str1=\"\"\n",
    "for word in a:\n",
    "    if str1 ==\"\":\n",
    "        str1 = word\n",
    "    else:\n",
    "        str1+=\" \"+word\n",
    "print(str1)\n",
    "print(str1.strip())\n",
    "\n",
    "\n",
    "#third way\n",
    "# str2=\" \".join(a)\n",
    "# print(str2)"
   ]
  },
  {
   "cell_type": "markdown",
   "id": "54923e9a",
   "metadata": {},
   "source": [
    "#### Q.6 Create dictionary for state, capitals and rank for living. Sort data to find top 5 higher ranking states to live. Plot graph for the same."
   ]
  },
  {
   "cell_type": "code",
   "execution_count": 10,
   "id": "5a727265",
   "metadata": {},
   "outputs": [
    {
     "name": "stdout",
     "output_type": "stream",
     "text": [
      "{1: 'Maharastra', 2: 'Uttar Pradesh', 3: 'Rajasthan', 4: 'Madhya Pradesh', 5: 'Gujarat'}\n"
     ]
    },
    {
     "data": {
      "image/png": "[encoded data removed]",
      "text/plain": [
       "<Figure size 640x480 with 1 Axes>"
      ]
     },
     "metadata": {},
     "output_type": "display_data"
    }
   ],
   "source": [
    "import matplotlib.pyplot as plt\n",
    "\n",
    "living_rank={5:\"Gujarat\", 1:\"Maharastra\", 3:\"Rajasthan\", 7:\"Goa\", 4:\"Madhya Pradesh\", 2:\"Uttar Pradesh\", 6:\"Jharkhand\"}\n",
    "# capital={\"Gujarat\":\"Gandhinagar\",\"Maharastra\":\"Mumbai\",\"Jharkhand\":\"Rachi\"}\n",
    "ds=dict(sorted(living_rank.items())[:5])\n",
    "print(ds)\n",
    "rank=list(ds.keys())\n",
    "state=list(ds.values())\n",
    "plt.bar(range(len(ds)), rank, tick_label=state)\n",
    "plt.show()"
   ]
  },
  {
   "cell_type": "markdown",
   "id": "8744966f",
   "metadata": {},
   "source": [
    "#### Q.7 Take input of text file and find word count for each unique word. Plot wordcloud for the same using third-party library."
   ]
  },
  {
   "cell_type": "code",
   "execution_count": null,
   "id": "19a2b070",
   "metadata": {},
   "outputs": [
    {
     "name": "stderr",
     "output_type": "stream",
     "text": [
      "Matplotlib is building the font cache; this may take a moment.\n"
     ]
    }
   ],
   "source": [
    "#First you need to install wordcloud(pip install wordcloud)\n",
    "from wordcloud import WordCloud\n",
    "import matplotlib.pyplot as plt\n",
    "\n",
    "text=input(\"Enter some text: \")\n",
    "l1=text.split()\n",
    "l2=list()\n",
    "for w in l1:\n",
    "    if w not in l2:\n",
    "        l2.append(w)\n",
    "\n",
    "freq=len(l2)\n",
    "print()\n",
    "print(f\"There are {freq} unique words in given text.\")\n",
    "\n",
    "cloud=WordCloud(background_color=\"Black\").generate(text)\n",
    "plt.imshow(cloud) #to show the cloud in image form\n",
    "plt.axis('off')\n",
    "plt.show()"
   ]
  },
  {
   "cell_type": "code",
   "execution_count": null,
   "id": "665c9b45",
   "metadata": {},
   "outputs": [],
   "source": []
  }
 ],
 "metadata": {
  "kernelspec": {
   "display_name": "Python 3 (ipykernel)",
   "language": "python",
   "name": "python3"
  },
  "language_info": {
   "codemirror_mode": {
    "name": "ipython",
    "version": 3
   },
   "file_extension": ".py",
   "mimetype": "text/x-python",
   "name": "python",
   "nbconvert_exporter": "python",
   "pygments_lexer": "ipython3",
   "version": "3.11.1"
  }
 },
 "nbformat": 4,
 "nbformat_minor": 5
}
