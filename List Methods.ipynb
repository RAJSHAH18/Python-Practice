{
 "cells": [
  {
   "cell_type": "code",
   "execution_count": 1,
   "id": "93cf0f35",
   "metadata": {},
   "outputs": [],
   "source": [
    "l1 = [10,2030,40,55,46,78,90,51,30,74,96,43,12,2]\n"
   ]
  },
  {
   "cell_type": "markdown",
   "id": "d808b429",
   "metadata": {},
   "source": [
    "# Append method "
   ]
  },
  {
   "cell_type": "code",
   "execution_count": 3,
   "id": "01055736",
   "metadata": {},
   "outputs": [
    {
     "data": {
      "text/plain": [
       "[10, 2030, 40, 55, 46, 78, 90, 51, 30, 74, 96, 43, 12, 2, -12]"
      ]
     },
     "execution_count": 3,
     "metadata": {},
     "output_type": "execute_result"
    }
   ],
   "source": [
    "# Add item at last of list \n",
    "l1.append(-12)\n",
    "l1"
   ]
  },
  {
   "cell_type": "code",
   "execution_count": 5,
   "id": "79ac7354",
   "metadata": {},
   "outputs": [
    {
     "data": {
      "text/plain": [
       "[10, 2030, 40, 55, 46, 78, 90, 51, 30, 74, 96, 43, 12, 2, -12, [10, 'hello']]"
      ]
     },
     "execution_count": 5,
     "metadata": {},
     "output_type": "execute_result"
    }
   ],
   "source": [
    "# Add list at last of list\n",
    "l1.append([10,\"hello\"])\n",
    "l1"
   ]
  },
  {
   "cell_type": "code",
   "execution_count": 7,
   "id": "cd1dda96",
   "metadata": {},
   "outputs": [
    {
     "data": {
      "text/plain": [
       "[10, 2030, 40, 55, 46, 78, 90, 51, 30, 74, 96, 43, 12, 2]"
      ]
     },
     "execution_count": 7,
     "metadata": {},
     "output_type": "execute_result"
    }
   ],
   "source": [
    "l1\n"
   ]
  },
  {
   "cell_type": "markdown",
   "id": "cfb36a34",
   "metadata": {},
   "source": [
    "# Extend"
   ]
  },
  {
   "cell_type": "code",
   "execution_count": 8,
   "id": "35fa5055",
   "metadata": {},
   "outputs": [
    {
     "data": {
      "text/plain": [
       "[10, 2030, 40, 55, 46, 78, 90, 51, 30, 74, 96, 43, 12, 2, 12, -41]"
      ]
     },
     "execution_count": 8,
     "metadata": {},
     "output_type": "execute_result"
    }
   ],
   "source": [
    "# It is used to add list as an item or number or any values but not list like append\n",
    "l1.extend([12,-41])\n",
    "l1"
   ]
  },
  {
   "cell_type": "code",
   "execution_count": 9,
   "id": "8a5bf74c",
   "metadata": {},
   "outputs": [
    {
     "data": {
      "text/plain": [
       "[10, 2030, 40, 55, 46, 78, 90, 51, 30, 74, 96, 43, 12, 2, 12, -41, 11, 12, 13]"
      ]
     },
     "execution_count": 9,
     "metadata": {},
     "output_type": "execute_result"
    }
   ],
   "source": [
    "b = [11,12,13]\n",
    "l1.extend(b)\n",
    "l1"
   ]
  },
  {
   "cell_type": "markdown",
   "id": "5426d104",
   "metadata": {},
   "source": [
    "# Insert"
   ]
  },
  {
   "cell_type": "code",
   "execution_count": 11,
   "id": "42d77ccf",
   "metadata": {},
   "outputs": [
    {
     "data": {
      "text/plain": [
       "[10, 2030, 40, 55, 46, 78, 90, 51, 30, 74, 96, 43, 12, 2]"
      ]
     },
     "execution_count": 11,
     "metadata": {},
     "output_type": "execute_result"
    }
   ],
   "source": [
    "l1\n"
   ]
  },
  {
   "cell_type": "code",
   "execution_count": 12,
   "id": "d61ebe5c",
   "metadata": {},
   "outputs": [
    {
     "data": {
      "text/plain": [
       "[10, 2030, 40, 80, 55, 46, 78, 90, 51, 30, 74, 96, 43, 12, 2]"
      ]
     },
     "execution_count": 12,
     "metadata": {},
     "output_type": "execute_result"
    }
   ],
   "source": [
    "# this method is used to add element at any index in the list and the which is present at that index move to the succeeding index\n",
    "l1.insert(3,80)\n",
    "l1"
   ]
  },
  {
   "cell_type": "code",
   "execution_count": 13,
   "id": "f2c6e85e",
   "metadata": {},
   "outputs": [
    {
     "data": {
      "text/plain": [
       "[10, 2030, 40, 80, 55, 46, 78, 90, 51, 30, 74, 96, 90, 43, 12, 2]"
      ]
     },
     "execution_count": 13,
     "metadata": {},
     "output_type": "execute_result"
    }
   ],
   "source": [
    "l1.insert(-3,90)\n",
    "l1\n"
   ]
  },
  {
   "cell_type": "markdown",
   "id": "38196579",
   "metadata": {},
   "source": [
    "# Pop"
   ]
  },
  {
   "cell_type": "code",
   "execution_count": 15,
   "id": "daa2eeeb",
   "metadata": {},
   "outputs": [
    {
     "data": {
      "text/plain": [
       "<function list.pop(index=-1, /)>"
      ]
     },
     "execution_count": 15,
     "metadata": {},
     "output_type": "execute_result"
    }
   ],
   "source": [
    "# pop will remove the last element and return the last element\n",
    "l1.pop\n"
   ]
  },
  {
   "cell_type": "code",
   "execution_count": 16,
   "id": "5776f203",
   "metadata": {},
   "outputs": [
    {
     "data": {
      "text/plain": [
       "2"
      ]
     },
     "execution_count": 16,
     "metadata": {},
     "output_type": "execute_result"
    }
   ],
   "source": [
    "l1.pop()"
   ]
  },
  {
   "cell_type": "code",
   "execution_count": 17,
   "id": "a640981b",
   "metadata": {},
   "outputs": [
    {
     "data": {
      "text/plain": [
       "[10, 2030, 40, 55, 46, 78, 90, 51, 30, 74, 96, 43, 12]"
      ]
     },
     "execution_count": 17,
     "metadata": {},
     "output_type": "execute_result"
    }
   ],
   "source": [
    "l1\n"
   ]
  },
  {
   "cell_type": "code",
   "execution_count": 18,
   "id": "27a39930",
   "metadata": {},
   "outputs": [
    {
     "data": {
      "text/plain": [
       "96"
      ]
     },
     "execution_count": 18,
     "metadata": {},
     "output_type": "execute_result"
    }
   ],
   "source": [
    "# By Providing index we can remove any item from the lists using pop method\n",
    "l1.pop(-3)"
   ]
  },
  {
   "cell_type": "code",
   "execution_count": 19,
   "id": "5e1b32b2",
   "metadata": {},
   "outputs": [
    {
     "data": {
      "text/plain": [
       "[10, 2030, 40, 55, 46, 78, 90, 51, 30, 74, 43, 12]"
      ]
     },
     "execution_count": 19,
     "metadata": {},
     "output_type": "execute_result"
    }
   ],
   "source": [
    "l1"
   ]
  },
  {
   "cell_type": "markdown",
   "id": "b79d0e4b",
   "metadata": {},
   "source": [
    "# Remove"
   ]
  },
  {
   "cell_type": "code",
   "execution_count": 21,
   "id": "231f1081",
   "metadata": {},
   "outputs": [
    {
     "data": {
      "text/plain": [
       "[10, 2030, 40, 55, 46, 78, 90, 51, 30, 74, 96, 43, 12, 2]"
      ]
     },
     "execution_count": 21,
     "metadata": {},
     "output_type": "execute_result"
    }
   ],
   "source": [
    "# Using remove method we can remove anything directly\n",
    "# difference between remove and pop is that pop remove element based on index while remove method remove element based on value\n",
    "l1\n"
   ]
  },
  {
   "cell_type": "code",
   "execution_count": 22,
   "id": "dc3d92de",
   "metadata": {},
   "outputs": [
    {
     "data": {
      "text/plain": [
       "[10,\n",
       " 2030,\n",
       " 40,\n",
       " 55,\n",
       " 46,\n",
       " 78,\n",
       " 90,\n",
       " 51,\n",
       " 30,\n",
       " 74,\n",
       " 96,\n",
       " 43,\n",
       " 12,\n",
       " 2,\n",
       " 10,\n",
       " 220,\n",
       " 40,\n",
       " 10,\n",
       " 50,\n",
       " 10]"
      ]
     },
     "execution_count": 22,
     "metadata": {},
     "output_type": "execute_result"
    }
   ],
   "source": [
    "# This method is used to remove occurenece of element\n",
    "l1.extend([10,220,40,10,50,10])\n",
    "\n",
    "l1"
   ]
  },
  {
   "cell_type": "code",
   "execution_count": 23,
   "id": "fa74b809",
   "metadata": {},
   "outputs": [
    {
     "data": {
      "text/plain": [
       "[10,\n",
       " 2030,\n",
       " 40,\n",
       " 55,\n",
       " 46,\n",
       " 78,\n",
       " 90,\n",
       " 51,\n",
       " 30,\n",
       " 74,\n",
       " 96,\n",
       " 43,\n",
       " 12,\n",
       " 2,\n",
       " 10,\n",
       " 220,\n",
       " 40,\n",
       " 10,\n",
       " 50,\n",
       " 10]"
      ]
     },
     "execution_count": 23,
     "metadata": {},
     "output_type": "execute_result"
    }
   ],
   "source": [
    "l1"
   ]
  },
  {
   "cell_type": "code",
   "execution_count": 24,
   "id": "ce0824e4",
   "metadata": {},
   "outputs": [
    {
     "data": {
      "text/plain": [
       "[2030, 40, 55, 46, 78, 90, 51, 30, 74, 96, 43, 12, 2, 10, 220, 40, 10, 50, 10]"
      ]
     },
     "execution_count": 24,
     "metadata": {},
     "output_type": "execute_result"
    }
   ],
   "source": [
    "l1.remove(10)\n",
    "l1"
   ]
  },
  {
   "cell_type": "code",
   "execution_count": 25,
   "id": "f12ebac1",
   "metadata": {},
   "outputs": [
    {
     "data": {
      "text/plain": [
       "19"
      ]
     },
     "execution_count": 25,
     "metadata": {},
     "output_type": "execute_result"
    }
   ],
   "source": [
    "len(l1)"
   ]
  },
  {
   "cell_type": "code",
   "execution_count": 26,
   "id": "2f514e9a",
   "metadata": {},
   "outputs": [
    {
     "data": {
      "text/plain": [
       "[2030, 40, 55, 46, 78, 90, 51, 30, 74, 96, 43, 12, 2, 220, 40, 10, 50, 10]"
      ]
     },
     "execution_count": 26,
     "metadata": {},
     "output_type": "execute_result"
    }
   ],
   "source": [
    "l1.remove(10)\n",
    "l1"
   ]
  },
  {
   "cell_type": "code",
   "execution_count": 27,
   "id": "53097e6f",
   "metadata": {},
   "outputs": [
    {
     "data": {
      "text/plain": [
       "18"
      ]
     },
     "execution_count": 27,
     "metadata": {},
     "output_type": "execute_result"
    }
   ],
   "source": [
    "len(l1)"
   ]
  },
  {
   "cell_type": "markdown",
   "id": "36df5e26",
   "metadata": {},
   "source": [
    "# Count"
   ]
  },
  {
   "cell_type": "code",
   "execution_count": 4,
   "id": "437d9713",
   "metadata": {},
   "outputs": [
    {
     "ename": "TypeError",
     "evalue": "list.count() takes exactly one argument (0 given)",
     "output_type": "error",
     "traceback": [
      "\u001b[1;31m---------------------------------------------------------------------------\u001b[0m",
      "\u001b[1;31mTypeError\u001b[0m                                 Traceback (most recent call last)",
      "\u001b[1;32m~\\AppData\\Local\\Temp\\ipykernel_11504\\2043460295.py\u001b[0m in \u001b[0;36m<module>\u001b[1;34m\u001b[0m\n\u001b[0;32m      1\u001b[0m \u001b[1;31m# count the any element occurence..\u001b[0m\u001b[1;33m\u001b[0m\u001b[1;33m\u001b[0m\u001b[0m\n\u001b[0;32m      2\u001b[0m \u001b[0ml1\u001b[0m\u001b[1;33m\u001b[0m\u001b[1;33m\u001b[0m\u001b[0m\n\u001b[1;32m----> 3\u001b[1;33m \u001b[0ml1\u001b[0m\u001b[1;33m.\u001b[0m\u001b[0mcount\u001b[0m\u001b[1;33m(\u001b[0m\u001b[1;33m)\u001b[0m\u001b[1;33m\u001b[0m\u001b[1;33m\u001b[0m\u001b[0m\n\u001b[0m",
      "\u001b[1;31mTypeError\u001b[0m: list.count() takes exactly one argument (0 given)"
     ]
    }
   ],
   "source": [
    "# count the any element occurence..\n",
    "l1\n",
    "l1.count()\n"
   ]
  },
  {
   "cell_type": "code",
   "execution_count": 30,
   "id": "62eab667",
   "metadata": {},
   "outputs": [
    {
     "data": {
      "text/plain": [
       "0"
      ]
     },
     "execution_count": 30,
     "metadata": {},
     "output_type": "execute_result"
    }
   ],
   "source": [
    "l1.count(100)"
   ]
  },
  {
   "cell_type": "code",
   "execution_count": 31,
   "id": "17c322c1",
   "metadata": {},
   "outputs": [
    {
     "data": {
      "text/plain": [
       "1"
      ]
     },
     "execution_count": 31,
     "metadata": {},
     "output_type": "execute_result"
    }
   ],
   "source": [
    "l1.count(10)"
   ]
  },
  {
   "cell_type": "code",
   "execution_count": 32,
   "id": "1a7ed24e",
   "metadata": {},
   "outputs": [
    {
     "data": {
      "text/plain": [
       "1"
      ]
     },
     "execution_count": 32,
     "metadata": {},
     "output_type": "execute_result"
    }
   ],
   "source": [
    "b = [\"hello\",\"Hello\",\"helLo\"]\n",
    "b.count(\"hello\")"
   ]
  },
  {
   "cell_type": "markdown",
   "id": "6143097f",
   "metadata": {},
   "source": [
    "# Index"
   ]
  },
  {
   "cell_type": "code",
   "execution_count": 33,
   "id": "02586616",
   "metadata": {},
   "outputs": [
    {
     "data": {
      "text/plain": [
       "[10, 2030, 40, 55, 46, 78, 90, 51, 30, 74, 96, 43, 12, 2]"
      ]
     },
     "execution_count": 33,
     "metadata": {},
     "output_type": "execute_result"
    }
   ],
   "source": [
    "# It is used find index of first occurence of any element\n",
    "l1\n"
   ]
  },
  {
   "cell_type": "code",
   "execution_count": 34,
   "id": "fee524ed",
   "metadata": {},
   "outputs": [
    {
     "data": {
      "text/plain": [
       "[10, 2030, 40, 55, 46, 78, 90, 51, 30, 74, 96, 43, 12, 2, 10]"
      ]
     },
     "execution_count": 34,
     "metadata": {},
     "output_type": "execute_result"
    }
   ],
   "source": [
    "l1.append(10)\n",
    "l1\n"
   ]
  },
  {
   "cell_type": "code",
   "execution_count": 4,
   "id": "aa82420f",
   "metadata": {},
   "outputs": [
    {
     "data": {
      "text/plain": [
       "0"
      ]
     },
     "execution_count": 4,
     "metadata": {},
     "output_type": "execute_result"
    }
   ],
   "source": [
    "l1.index(10)"
   ]
  },
  {
   "cell_type": "code",
   "execution_count": 36,
   "id": "824d70e2",
   "metadata": {},
   "outputs": [
    {
     "data": {
      "text/plain": [
       "8"
      ]
     },
     "execution_count": 36,
     "metadata": {},
     "output_type": "execute_result"
    }
   ],
   "source": [
    "l1.index(30)"
   ]
  },
  {
   "cell_type": "markdown",
   "id": "744b3fb3",
   "metadata": {},
   "source": [
    "# Reverse"
   ]
  },
  {
   "cell_type": "code",
   "execution_count": 37,
   "id": "64582a53",
   "metadata": {},
   "outputs": [],
   "source": [
    "# This method is used to reverse the whole lists\n",
    "\n",
    "l1.reverse()\n"
   ]
  },
  {
   "cell_type": "code",
   "execution_count": 9,
   "id": "a3cb8e00",
   "metadata": {},
   "outputs": [
    {
     "data": {
      "text/plain": [
       "[2, 12, 43, 96, 74, 30, 51, 90, 78, 46, 55, 40, 2030, 10]"
      ]
     },
     "execution_count": 9,
     "metadata": {},
     "output_type": "execute_result"
    }
   ],
   "source": [
    "l1[::-1]"
   ]
  },
  {
   "cell_type": "markdown",
   "id": "09b35897",
   "metadata": {},
   "source": [
    "# Sort"
   ]
  },
  {
   "cell_type": "code",
   "execution_count": 40,
   "id": "122b4d20",
   "metadata": {},
   "outputs": [
    {
     "data": {
      "text/plain": [
       "[10, 2030, 40, 55, 46, 78, 90, 51, 30, 74, 96, 43, 12, 2]"
      ]
     },
     "execution_count": 40,
     "metadata": {},
     "output_type": "execute_result"
    }
   ],
   "source": [
    "# this method is used to sort elements of list in ascending order and return sorted list\n",
    "l1"
   ]
  },
  {
   "cell_type": "code",
   "execution_count": 41,
   "id": "b2bc74e6",
   "metadata": {},
   "outputs": [],
   "source": [
    "l1.sort()"
   ]
  },
  {
   "cell_type": "code",
   "execution_count": 42,
   "id": "db6f4798",
   "metadata": {},
   "outputs": [
    {
     "data": {
      "text/plain": [
       "[2, 10, 12, 30, 40, 43, 46, 51, 55, 74, 78, 90, 96, 2030]"
      ]
     },
     "execution_count": 42,
     "metadata": {},
     "output_type": "execute_result"
    }
   ],
   "source": [
    "l1\n"
   ]
  },
  {
   "cell_type": "code",
   "execution_count": 43,
   "id": "f2a3b5ec",
   "metadata": {},
   "outputs": [],
   "source": [
    "l1.sort(reverse = True)"
   ]
  },
  {
   "cell_type": "code",
   "execution_count": 44,
   "id": "1f78af25",
   "metadata": {},
   "outputs": [
    {
     "data": {
      "text/plain": [
       "[2030, 96, 90, 78, 74, 55, 51, 46, 43, 40, 30, 12, 10, 2]"
      ]
     },
     "execution_count": 44,
     "metadata": {},
     "output_type": "execute_result"
    }
   ],
   "source": [
    "l1"
   ]
  },
  {
   "cell_type": "code",
   "execution_count": 46,
   "id": "450ba856",
   "metadata": {},
   "outputs": [],
   "source": [
    "l1.sort(reverse = True)"
   ]
  },
  {
   "cell_type": "code",
   "execution_count": 47,
   "id": "ddb8d240",
   "metadata": {},
   "outputs": [
    {
     "data": {
      "text/plain": [
       "[2030, 96, 90, 78, 74, 55, 51, 46, 43, 40, 30, 12, 10, 2]"
      ]
     },
     "execution_count": 47,
     "metadata": {},
     "output_type": "execute_result"
    }
   ],
   "source": [
    "l1"
   ]
  },
  {
   "cell_type": "code",
   "execution_count": 49,
   "id": "dd751c24",
   "metadata": {},
   "outputs": [
    {
     "data": {
      "text/plain": [
       "[10, 2030, 40, 55, 46, 78, 90, 51, 30, 74, 96, 43, 12, 2]"
      ]
     },
     "execution_count": 49,
     "metadata": {},
     "output_type": "execute_result"
    }
   ],
   "source": [
    "l1"
   ]
  },
  {
   "cell_type": "code",
   "execution_count": 50,
   "id": "a4ff0a0c",
   "metadata": {},
   "outputs": [],
   "source": [
    "l1.sort(reverse = True)"
   ]
  },
  {
   "cell_type": "code",
   "execution_count": 51,
   "id": "430b9007",
   "metadata": {},
   "outputs": [
    {
     "data": {
      "text/plain": [
       "[2030, 96, 90, 78, 74, 55, 51, 46, 43, 40, 30, 12, 10, 2]"
      ]
     },
     "execution_count": 51,
     "metadata": {},
     "output_type": "execute_result"
    }
   ],
   "source": [
    "l1"
   ]
  },
  {
   "cell_type": "markdown",
   "id": "d5f5e9b9",
   "metadata": {},
   "source": [
    "# length"
   ]
  },
  {
   "cell_type": "code",
   "execution_count": 52,
   "id": "d49657c3",
   "metadata": {},
   "outputs": [
    {
     "data": {
      "text/plain": [
       "[2030, 96, 90, 78, 74, 55, 51, 46, 43, 40, 30, 12, 10, 2]"
      ]
     },
     "execution_count": 52,
     "metadata": {},
     "output_type": "execute_result"
    }
   ],
   "source": [
    "# It gives the length of lists\n",
    "len(l1)\n",
    "l1\n"
   ]
  },
  {
   "cell_type": "code",
   "execution_count": 53,
   "id": "07533fdb",
   "metadata": {},
   "outputs": [
    {
     "data": {
      "text/plain": [
       "14"
      ]
     },
     "execution_count": 53,
     "metadata": {},
     "output_type": "execute_result"
    }
   ],
   "source": [
    "len(l1)"
   ]
  },
  {
   "cell_type": "code",
   "execution_count": 54,
   "id": "1c5f1e81",
   "metadata": {},
   "outputs": [
    {
     "data": {
      "text/plain": [
       "13"
      ]
     },
     "execution_count": 54,
     "metadata": {},
     "output_type": "execute_result"
    }
   ],
   "source": [
    "l1.remove(2030)\n",
    "len(l1)"
   ]
  },
  {
   "cell_type": "code",
   "execution_count": null,
   "id": "67db55c1",
   "metadata": {},
   "outputs": [],
   "source": []
  }
 ],
 "metadata": {
  "kernelspec": {
   "display_name": "Python 3 (ipykernel)",
   "language": "python",
   "name": "python3"
  },
  "language_info": {
   "codemirror_mode": {
    "name": "ipython",
    "version": 3
   },
   "file_extension": ".py",
   "mimetype": "text/x-python",
   "name": "python",
   "nbconvert_exporter": "python",
   "pygments_lexer": "ipython3",
   "version": "3.9.13"
  }
 },
 "nbformat": 4,
 "nbformat_minor": 5
}
