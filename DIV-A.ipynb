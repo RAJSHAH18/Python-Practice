{
 "cells": [
  {
   "cell_type": "markdown",
   "id": "e563c4b6",
   "metadata": {},
   "source": [
    "# ountries=\n",
    "# {'US':{'capital':'washington D.c','car_per_cap':809,'population':46.77},\n",
    "# 'Australia':{'capital':'vienna','car_per_cap':731,'population':66.03},\n",
    "# 'Japan':{'capital':'Tokyo','car_per_cap':588,'population':80.2},\n",
    "# 'Russia':{'capital':'Moscow','car_per_cap':18,'population':5.084},\n",
    "# 'India':{'capital':'New Delhi','car_per_cap':18,'population':5.084},\n",
    "# 'Morocco':{'capital':'Rabat','car_per_cap':18,'population':55.4}\n",
    "# }\n",
    "# ● Write a python script to print country and their capital names from\n",
    "# the dictionary. ● Find top 3 countries having highest population and print the same. ● Write a python script to sort a dictionary by car_per_cap print the\n",
    "# Country, Capital and Car_Per_Cap. ● Plot bar graph to display country-wise population ratio."
   ]
  },
  {
   "cell_type": "code",
   "execution_count": 10,
   "id": "49055020",
   "metadata": {},
   "outputs": [],
   "source": [
    "Countries={'US':{'capital':'washington D.c','car_per_cap':809,'population':46.77},\n",
    "'Australia':{'capital':'vienna','car_per_cap':731,'population':66.03},\n",
    "'Japan':{'capital':'Tokyo','car_per_cap':588,'population':80.2},\n",
    "'Russia':{'capital':'Moscow','car_per_cap':18,'population':5.084},\n",
    "'India':{'capital':'New Delhi','car_per_cap':18,'population':5.084},\n",
    "'Morocco':{'capital':'Rabat','car_per_cap':18,'population':55.4}\n",
    "}"
   ]
  },
  {
   "cell_type": "code",
   "execution_count": 37,
   "id": "63f60681",
   "metadata": {},
   "outputs": [
    {
     "name": "stdout",
     "output_type": "stream",
     "text": [
      "Countries    Capitals\n",
      "---------------------------------\n",
      "US         : washington D.c\n",
      "Australia  : vienna\n",
      "Japan      : Tokyo\n",
      "Russia     : Moscow\n",
      "India      : New Delhi\n",
      "Morocco    : Rabat\n"
     ]
    }
   ],
   "source": [
    "# PRINT COUNTRY AND THEIR CAPITAL NAMES:\n",
    "cap = {}\n",
    "for i,j in Countries.items():\n",
    "    cap[i]=j['capital']\n",
    "l1 = [\"Countries\",\"Capitals\"]    \n",
    "# print(f\"{l1[0] :<10} {l1[1]:>10}\")\n",
    "print(f\"{'Countries':<10}{'Capitals':>11}\")\n",
    "print(\"---------------------------------\")\n",
    "for i,j in cap.items():\n",
    "    print(F\"{i:<10} : {j}\")\n",
    "    "
   ]
  },
  {
   "cell_type": "code",
   "execution_count": 32,
   "id": "a9e18548",
   "metadata": {},
   "outputs": [
    {
     "name": "stdout",
     "output_type": "stream",
     "text": [
      "Japan :-\n",
      "\n",
      "Capital : Tokyo\n",
      "Per_Capitia : 588\n",
      "population : 80.2\n",
      "\n",
      "Australia :-\n",
      "\n",
      "Capital : vienna\n",
      "Per_Capitia : 731\n",
      "population : 66.03\n",
      "\n",
      "Morocco :-\n",
      "\n",
      "Capital : Rabat\n",
      "Per_Capitia : 18\n",
      "population : 55.4\n",
      "\n",
      "{'Japan': {'capital': 'Tokyo', 'car_per_cap': 588, 'population': 80.2}, 'Australia': {'capital': 'vienna', 'car_per_cap': 731, 'population': 66.03}, 'Morocco': {'capital': 'Rabat', 'car_per_cap': 18, 'population': 55.4}}\n"
     ]
    }
   ],
   "source": [
    "# Find top 3 countries having highest population and print the same.\n",
    "d1 = dict(sorted(Countries.items(),key=lambda x : x[1]['population'],reverse = True)[:3])\n",
    "for i,j in d1.items():\n",
    "    print(f\"{i} :-\")\n",
    "    print()\n",
    "    print(f\"Capital : {j['capital']}\")\n",
    "    print(f\"Per_Capitia : {j['car_per_cap']}\")\n",
    "    print(f\"population : {j['population']}\")\n",
    "    print()\n",
    "    \n",
    "print(d1)"
   ]
  },
  {
   "cell_type": "code",
   "execution_count": 25,
   "id": "a46aac05",
   "metadata": {},
   "outputs": [
    {
     "name": "stdout",
     "output_type": "stream",
     "text": [
      "Russia :-\n",
      "\n",
      "Capital : Moscow\n",
      "Per_Capitia : 18\n",
      "\n",
      "India :-\n",
      "\n",
      "Capital : New Delhi\n",
      "Per_Capitia : 18\n",
      "\n",
      "Morocco :-\n",
      "\n",
      "Capital : Rabat\n",
      "Per_Capitia : 18\n",
      "\n",
      "Japan :-\n",
      "\n",
      "Capital : Tokyo\n",
      "Per_Capitia : 588\n",
      "\n",
      "Australia :-\n",
      "\n",
      "Capital : vienna\n",
      "Per_Capitia : 731\n",
      "\n",
      "US :-\n",
      "\n",
      "Capital : washington D.c\n",
      "Per_Capitia : 809\n",
      "\n"
     ]
    }
   ],
   "source": [
    "d2 = dict(sorted(Countries.items(),key=lambda x : x[1]['car_per_cap']))\n",
    "for i,j in d2.items():\n",
    "    print(f\"{i} :-\")\n",
    "    print()\n",
    "    print(f\"Capital : {j['capital']}\")\n",
    "    print(f\"Per_Capitia : {j['car_per_cap']}\")\n",
    "    print()"
   ]
  },
  {
   "cell_type": "markdown",
   "id": "b5f27287",
   "metadata": {},
   "source": [
    "# Plot bar graph to display country-wise population ratio."
   ]
  },
  {
   "cell_type": "code",
   "execution_count": 95,
   "id": "b02b0427",
   "metadata": {},
   "outputs": [
    {
     "data": {
      "image/png": "[encoded data removed]",
      "text/plain": [
       "<Figure size 640x480 with 1 Axes>"
      ]
     },
     "metadata": {},
     "output_type": "display_data"
    }
   ],
   "source": [
    "import matplotlib.pyplot as plt\n",
    "import random\n",
    "population = [i['population'] for i in Countries.values()]\n",
    "x = list(Countries.keys())\n",
    "y = population\n",
    "colors = []\n",
    "for i in range(len(x)):\n",
    "    colors.append((random.random(),random.random(),random.random()))\n",
    "    \n",
    "plt.bar(x,y,edgecolor=\"black\",linewidth=3,color=colors)\n",
    "plt.xlabel(\"COUNTRIES\",fontsize=15)\n",
    "plt.ylabel(\"PER CAPITIA INCOME\",fontsize=15)\n",
    "plt.title(\"COUNTRY-WISE POPULATION RATIO\",fontsize=15,color=\"red\")\n",
    "plt.show()"
   ]
  },
  {
   "cell_type": "markdown",
   "id": "608c176b",
   "metadata": {},
   "source": [
    "# Q:1 create a dictionary for English letters and points. Alphabet=\n",
    "# {'A': 1, 'B': 3, 'C': 3, 'D': 2, 'E': 1, 'F': 4, 'G': 2, 'H': 4, 'I': 1, 'J': 8, 'K': 5, 'L': 1, 'M':\n",
    "# 3, 'N': 4, 'O': 1, 'P': 3, 'Q': 10, 'R': 1, 'S': 1, 'T': 1, 'U': 1, 'V': 4, 'W': 4, 'X': 8, 'Y':\n",
    "# 4, 'Z': 10}\n",
    "# Example:\n",
    "# player_to_words = { \"player1\" : [\"CRICKET\", \"TENNIS\", \"FOOTBALL\"], \"player2\" : [\"SKATEBOARDING\", \"GOLF\", \"MACHINE\"], }\n",
    "# ● Write a python script to read words created by player1 from\n",
    "# player_to_words dictionary. ● Calculate points for each individual word using Alphabet dictionary\n",
    "# as reference. For example : CRICKET = 3+1+1+3+5+1+1 = 15\n",
    "# ● Find out total no. of points for each player. ● Display results that which player wins the scrabble game"
   ]
  },
  {
   "cell_type": "code",
   "execution_count": 3,
   "id": "24a5e12f",
   "metadata": {},
   "outputs": [],
   "source": [
    "Alphabet={'A': 1, 'B': 3, 'C': 3, 'D': 2, 'E': 1, 'F': 4, 'G': 2, 'H': 4, 'I': 1, 'J': 8, 'K': 5, 'L': 1, 'M':\n",
    "3, 'N': 4, 'O': 1, 'P': 3, 'Q': 10, 'R': 1, 'S': 1, 'T': 1, 'U': 1, 'V': 4, 'W': 4, 'X': 8, 'Y':\n",
    "4, 'Z': 10}\n",
    "27\n",
    "player_to_words = { \"player1\" : [\"CRICKET\", \"TENNIS\", \"FOOTBALL\"], \"player2\" : [\"SKATEBOARDING\", \"GOLF\", \"MACHINE\"], }"
   ]
  },
  {
   "cell_type": "markdown",
   "id": "93c966f9",
   "metadata": {},
   "source": [
    "# Write a python script to read words created by player1 from¶\n",
    "# player_to_words dictionary."
   ]
  },
  {
   "cell_type": "code",
   "execution_count": 42,
   "id": "01b0847d",
   "metadata": {},
   "outputs": [
    {
     "name": "stdout",
     "output_type": "stream",
     "text": [
      "player1  :- \n",
      "\n",
      "CRICKET\n",
      "TENNIS\n",
      "FOOTBALL\n",
      "\n"
     ]
    }
   ],
   "source": [
    "# for i,j in player_to_words.items():\n",
    "#     print(i,\" : \",j)\n",
    "#     break\n",
    "\n",
    "# for i,j in player_to_words.items():\n",
    "#     print(i,\" :- \")\n",
    "#     print()\n",
    "#     for x in j:\n",
    "#         print(x)\n",
    "#     print()\n",
    "#     break\n",
    "    \n",
    "for i,j in player_to_words.items():\n",
    "    print(i,\" :- \")\n",
    "    print()\n",
    "    if(i==\"player1\"):\n",
    "        \n",
    "        for x in j:\n",
    "            print(x)\n",
    "    print()\n",
    "    break"
   ]
  },
  {
   "cell_type": "markdown",
   "id": "9cdd00f5",
   "metadata": {},
   "source": [
    "# Calculate points for each individual word using Alphabet dictionary\n",
    "# as reference. For example : CRICKET = 3+1+1+3+5+1+1 = 15"
   ]
  },
  {
   "cell_type": "code",
   "execution_count": 5,
   "id": "c891bb64",
   "metadata": {},
   "outputs": [
    {
     "data": {
      "text/plain": [
       "{'player1': {'CRICKET': 15, 'TENNIS': 12, 'FOOTBALL': 13},\n",
       " 'player2': {'SKATEBOARDING': 24, 'GOLF': 8, 'MACHINE': 17}}"
      ]
     },
     "execution_count": 5,
     "metadata": {},
     "output_type": "execute_result"
    }
   ],
   "source": [
    "player_to_words = { \"player1\" : [\"CRICKET\", \"TENNIS\", \"FOOTBALL\"], \"player2\" : [\"SKATEBOARDING\", \"GOLF\", \"MACHINE\"], }\n",
    "each_individual = {}\n",
    "player = {}\n",
    "add = 0\n",
    "each = 0\n",
    "for i,j in player_to_words.items():\n",
    "    for x in j:\n",
    "        for z in x:\n",
    "            #add= add + Alphabet[z]\n",
    "            each=each + Alphabet[z]\n",
    "        each_individual[x] = each\n",
    "        each = 0\n",
    "        \n",
    "    player.update({ i : each_individual})\n",
    "    each_individual={}\n",
    "    \n",
    "    add=0\n",
    "player\n",
    "# for i,j in  player_to_words.items():\n",
    "#     for x in j:\n",
    "#         for z in x:\n",
    "            \n",
    "\n",
    "# print()    \n",
    "# for i,j in player.items():\n",
    "#     print(i,\" :- \")\n",
    "#     print()\n",
    "#     for x,y in j.items():\n",
    "#         print(f\"{x} : {y}\")\n",
    "#     print()\n",
    "\n",
    "# for i,j in player.items():\n",
    "#     print(f\"Total No.of Points Scored By {i} : {sum(j.values())}\") \n",
    "\n",
    "# print()    \n",
    "# if(d3['player1']>d3['player2']):\n",
    "#     print(\"Player 1 Has Won the Scrabble Game\")\n",
    "# else:\n",
    "#     print(\"Player 2 Has Won the Scrabble Game\")\n"
   ]
  },
  {
   "cell_type": "code",
   "execution_count": 68,
   "id": "3c0be8df",
   "metadata": {},
   "outputs": [
    {
     "name": "stdout",
     "output_type": "stream",
     "text": [
      "Player Points:\n",
      "player1: 40\n",
      "player2: 49\n",
      "The winner is player2 with 49 points!\n"
     ]
    }
   ],
   "source": [
    "# Define the Alphabet dictionary\n",
    "alphabet = {'A': 1, 'B': 3, 'C': 3, 'D': 2, 'E': 1, 'F': 4, 'G': 2, 'H': 4, 'I': 1, 'J': 8, 'K': 5, 'L': 1, 'M': 3, 'N': 4, 'O': 1, 'P': 3, 'Q': 10, 'R': 1, 'S': 1, 'T': 1, 'U': 1, 'V': 4, 'W': 4, 'X': 8, 'Y': 4, 'Z': 10}\n",
    "\n",
    "# Define the player_to_words dictionary\n",
    "player_to_words = { \"player1\" : [\"CRICKET\", \"TENNIS\", \"FOOTBALL\"], \"player2\" : [\"SKATEBOARDING\", \"GOLF\", \"MACHINE\"], }\n",
    "\n",
    "# Calculate the total points for each player\n",
    "player_points = {}\n",
    "for player, words in player_to_words.items():\n",
    "    total_points = 0\n",
    "    for word in words:\n",
    "        points = sum([alphabet[letter] for letter in word])\n",
    "        total_points += points\n",
    "    player_points[player] = total_points\n",
    "\n",
    "# Determine the winner of the scrabble game\n",
    "winner = max(player_points, key=player_points.get)\n",
    "\n",
    "# Display the results\n",
    "print(\"Player Points:\")\n",
    "for player, points in player_points.items():\n",
    "    print(f\"{player}: {points}\")\n",
    "print(f\"The winner is {winner} with {player_points[winner]} points!\")\n"
   ]
  },
  {
   "cell_type": "code",
   "execution_count": 72,
   "id": "f631d3b5",
   "metadata": {},
   "outputs": [
    {
     "name": "stdout",
     "output_type": "stream",
     "text": [
      "[(0.8685658825595233, 0.09249464041240751, 0.2693133960992926), (0.8792649413648816, 0.9832989457924478, 0.7508970990681665), (0.353784530788108, 0.6223268738653511, 0.19730343472802248), (0.47851466724574376, 0.5583297438466216, 0.9667999070028864), (0.3172070203918268, 0.3028767268720869, 0.21883266681664038)]\n"
     ]
    },
    {
     "data": {
      "image/png": "[encoded data removed]",
      "text/plain": [
       "<Figure size 640x480 with 1 Axes>"
      ]
     },
     "metadata": {},
     "output_type": "display_data"
    }
   ],
   "source": [
    "import matplotlib.pyplot as plt\n",
    "import random\n",
    "\n",
    "# Define the number of bars in the chart\n",
    "num_bars = 5\n",
    "\n",
    "# Generate a list of random RGB values\n",
    "colors = []\n",
    "for i in range(num_bars):\n",
    "    colors.append((random.random(), random.random(), random.random()))\n",
    "print(colors)\n",
    "# Create a simple bar chart with random colors\n",
    "x = [1, 2, 3, 4, 5]\n",
    "y = [10, 8, 6, 4, 2]\n",
    "plt.bar(x, y, color=colors)\n",
    "\n",
    "# Show the plot\n",
    "plt.show()\n"
   ]
  },
  {
   "cell_type": "code",
   "execution_count": 73,
   "id": "0a75463d",
   "metadata": {},
   "outputs": [
    {
     "data": {
      "image/png": "[encoded data removed]",
      "text/plain": [
       "<Figure size 640x480 with 1 Axes>"
      ]
     },
     "metadata": {},
     "output_type": "display_data"
    }
   ],
   "source": [
    "import matplotlib.pyplot as plt\n",
    "import random\n",
    "\n",
    "# Define the number of points in the scatter plot\n",
    "num_points = 10\n",
    "\n",
    "# Generate a list of random colors\n",
    "colors = []\n",
    "for i in range(num_points):\n",
    "    r = random.randint(0, 255)\n",
    "    g = random.randint(0, 255)\n",
    "    b = random.randint(0, 255)\n",
    "    colors.append((r/255, g/255, b/255))\n",
    "\n",
    "# Generate random x and y coordinates for the scatter plot\n",
    "x = [random.random() for i in range(num_points)]\n",
    "y = [random.random() for i in range(num_points)]\n",
    "\n",
    "# Create a scatter plot with random colors\n",
    "plt.scatter(x, y, color=colors)\n",
    "\n",
    "# Show the plot\n",
    "plt.show()\n"
   ]
  },
  {
   "cell_type": "code",
   "execution_count": 7,
   "id": "b9e2fe80",
   "metadata": {},
   "outputs": [
    {
     "name": "stdout",
     "output_type": "stream",
     "text": [
      "id   1\n",
      "name bobbyhadz\n",
      "age  30\n"
     ]
    }
   ],
   "source": [
    "my_dict = {\n",
    "    'id': 1,\n",
    "    'name': 'bobbyhadz',\n",
    "    'age': 30\n",
    "}\n",
    "\n",
    "# id        1\n",
    "# name      bobbyhadz\n",
    "# age       30\n",
    "for key, value in my_dict.items():\n",
    "    print(f'{key:5}{value}')\n"
   ]
  },
  {
   "cell_type": "code",
   "execution_count": 8,
   "id": "cec321a9",
   "metadata": {},
   "outputs": [
    {
     "name": "stdout",
     "output_type": "stream",
     "text": [
      "    Name  Age\n",
      "0  Alice   29\n",
      "1  Bobby   30\n",
      "2   Carl   31\n"
     ]
    }
   ],
   "source": [
    "import pandas as pd\n",
    "\n",
    "\n",
    "my_dict = {\n",
    "    'Name': ['Alice', 'Bobby', 'Carl'],\n",
    "    'Age': [29, 30, 31]\n",
    "}\n",
    "\n",
    "\n",
    "df = pd.DataFrame(data=my_dict)\n",
    "\n",
    "#     Name  Age\n",
    "# 0  Alice   29\n",
    "# 1  Bobby   30\n",
    "# 2   Carl   31\n",
    "print(df)\n"
   ]
  },
  {
   "cell_type": "code",
   "execution_count": null,
   "id": "0a05ed73",
   "metadata": {},
   "outputs": [],
   "source": []
  }
 ],
 "metadata": {
  "kernelspec": {
   "display_name": "Python 3 (ipykernel)",
   "language": "python",
   "name": "python3"
  },
  "language_info": {
   "codemirror_mode": {
    "name": "ipython",
    "version": 3
   },
   "file_extension": ".py",
   "mimetype": "text/x-python",
   "name": "python",
   "nbconvert_exporter": "python",
   "pygments_lexer": "ipython3",
   "version": "3.11.1"
  }
 },
 "nbformat": 4,
 "nbformat_minor": 5
}
