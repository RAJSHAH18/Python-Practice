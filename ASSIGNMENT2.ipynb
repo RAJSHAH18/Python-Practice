{
 "cells": [
  {
   "cell_type": "code",
   "execution_count": null,
   "id": "b37f3651",
   "metadata": {},
   "outputs": [],
   "source": [
    "# NAME :- RAJ JIGNESHBHAI SHAH\n",
    "# ENROLLMENT NO :- SR21BSIT156\n",
    "# PC NO :- 76\n",
    "# SUBJECT :- PYTHON\n",
    "# FACULTY :- YESHA MA'AM \n",
    "# DATE :- 3-02-2023\n",
    "# AIM :- To learn string and list operations in python.\n",
    "# ASSIGNEMENT NO :- 2\n",
    "l1 = [10,25,35,40]\n",
    "l2 = [10,20]\n",
    "l3 = l1+l2\n",
    "l1 = [\"rshss\",\"sdhsj\",2,\"dushd\",1212,2]\n",
    "# def f1(a):\n",
    "#     return a%10 \n",
    "# sort vs sorted(l1,key = f1)\n",
    "l1.sort()\n",
    "\n",
    "\n"
   ]
  },
  {
   "cell_type": "markdown",
   "id": "a0d449fa",
   "metadata": {},
   "source": [
    "### Q.1 Write a Python program to count words in a sentence and arrange words in descendingorder.\n"
   ]
  },
  {
   "cell_type": "code",
   "execution_count": 1,
   "id": "3e46129a",
   "metadata": {},
   "outputs": [
    {
     "name": "stdout",
     "output_type": "stream",
     "text": [
      "Enter  String :- welcome to the world of python\n",
      "The Total No.of words in a sentence are :- 6\n",
      "The Words in Descending Order are:- \n",
      "['world', 'welcome', 'to', 'the', 'python', 'of']\n"
     ]
    }
   ],
   "source": [
    "string = input(\"Enter  String :- \")\n",
    "l1 = string.split()\n",
    "# print(type(string))\n",
    "\n",
    "cnt = 0\n",
    "# count number of words in string using for loop\n",
    "for i in l1:\n",
    "    cnt+=1\n",
    "print(\"The Total No.of words in a sentence are :-\",cnt)\n",
    "\n",
    "# count total number of words using len() function\n",
    "# print(\"The Total No.of words in a sentence are :-\",len(l1))\n",
    "\n",
    "# words in Ascending Order\n",
    "# l1.sort()\n",
    "# print(l1)\n",
    "\n",
    "# Words in Descendng order\n",
    "l1.sort(reverse=True)\n",
    "print(\"The Words in Descending Order are:- \")\n",
    "print(l1)\n",
    "\n",
    "# OUTPUT:-\n",
    "# Enter  String :- Hello welcome to the world of Python\n",
    "# 1st output:-    \n",
    "# The Total No.of words in a sentence are :- 7\n",
    "# 2nd output:-\n",
    "# The Words in Descending Order are:- \n",
    "# ['world', 'welcome', 'to', 'the', 'of', 'Python', 'Hello']"
   ]
  },
  {
   "cell_type": "markdown",
   "id": "9b617914",
   "metadata": {},
   "source": [
    "### Q.2 Write a Python program to sum all the items in a list"
   ]
  },
  {
   "cell_type": "markdown",
   "id": "8457692d",
   "metadata": {},
   "source": [
    "### Q.3 Create an empty list in python and append English dictionary words to list. Arrangelist items In\n",
    "### alphabetical order and find position of specific words in list.\n"
   ]
  },
  {
   "cell_type": "code",
   "execution_count": 18,
   "id": "730c2f19",
   "metadata": {},
   "outputs": [
    {
     "name": "stdout",
     "output_type": "stream",
     "text": [
      "The Items in Alphabetical order is : ['Accurate', 'Avtar', 'Curious', 'Fine', 'Hello', 'World']\n",
      "The Items in Alphabetical order is : ['Accurate', 'Avtar', 'Curious', 'Fine', 'Hello', 'World']\n",
      "Enter word To be seaarch : Curious\n",
      "The position of \"Curious\" is 2 \n"
     ]
    }
   ],
   "source": [
    "l1 = []\n",
    "l1.append(\"Accurate\")\n",
    "l1.append(\"Hello\")\n",
    "l1.append(\"Curious\")\n",
    "l1.extend([\"Fine\",\"Avtar\",\"World\"])\n",
    "\n",
    "# Arrange Items in alphabetical using sorted() method by using original lists doesnt change \n",
    "ans = sorted(l1)\n",
    "print(\"The Items in Alphabetical order is :\",ans)\n",
    "\n",
    "# Arrange Items in alphabetical using sort()method by using this original string is chaange and also it doesnt return anything\n",
    "l1.sort()\n",
    "print(\"The Items in Alphabetical order is :\",ans)\n",
    "\n",
    "# Find Position of specific words using index method of list\n",
    "word = input(\"Enter word To be seaarch : \")\n",
    "a = l1.index(word)\n",
    "# print(\"The position of \\\"{}\\\" is {} \".format(word,a))\n",
    "print(f\"The Position of  {word} is {a}\")\n",
    "\n",
    "# OUTPUT:-\n",
    "# 1 way-\n",
    "# The Items in Alphabetical order is : ['Accurate', 'Avtar', 'Curious', 'Fine', 'Hello', 'World']\n",
    "# 2 way-\n",
    "# The Items in Alphabetical order is : ['Accurate', 'Avtar', 'Curious', 'Fine', 'Hello', 'World']\n",
    "# another output-\n",
    "# Enter word To be seaarch : Curious\n",
    "# The position of \"Curious\" is 2 "
   ]
  },
  {
   "cell_type": "code",
   "execution_count": 6,
   "id": "4669e53b",
   "metadata": {},
   "outputs": [
    {
     "name": "stdout",
     "output_type": "stream",
     "text": [
      "The Sum of all the items in a list is : 186.2\n",
      "The Sum of all the items in a list is : 186.2\n"
     ]
    }
   ],
   "source": [
    "l1 = [10,20,44,2,3,2,10,25,50,20.2]\n",
    "Sum = 0\n",
    "\n",
    "for i in l1:\n",
    "    Sum = Sum + i\n",
    "print(\"The Sum of all the items in a list is :\",Sum)\n",
    "\n",
    "# Second way using sum function\n",
    "ans = sum(l1)\n",
    "print(\"The Sum of all the items in a list is :\",ans)\n",
    "\n",
    "# OUTPUT:-\n",
    "# 1 way-\n",
    "# The Sum of all the items in a list is : 186.2\n",
    "# 2 way-\n",
    "# The Sum of all the items in a list is : 186.2"
   ]
  },
  {
   "cell_type": "markdown",
   "id": "e12f391d",
   "metadata": {},
   "source": [
    "### Q.4 Take input of any short text and check words of message that either they are standarddictionary\n",
    "### words or not. Use another for English dictionary words.\n",
    "### Example: Hi..How are u\n",
    "### Output :\n",
    "### Dictionary Words: How , are\n",
    "### Non Dictionary Words: Hi, "
   ]
  },
  {
   "cell_type": "code",
   "execution_count": 8,
   "id": "c754e261",
   "metadata": {},
   "outputs": [
    {
     "name": "stdout",
     "output_type": "stream",
     "text": [
      "Enter text :- hi.. How are u\n",
      "Dictionary Words :- How,are\n",
      "Non Dictonary Words :- hi..,u\n"
     ]
    }
   ],
   "source": [
    "text = input(\"Enter text :- \")\n",
    "text = text.split()\n",
    "\n",
    "standard_Dictionary = [\"How\",\"are\",\"You\",\"In\",\"On\",\"Hi\"]\n",
    "dc_words=[]\n",
    "nondc_words=[]\n",
    "for i in text:\n",
    "    if(i in standard_Dictionary):\n",
    "        dc_words.append(i)\n",
    "    else:\n",
    "        nondc_words.append(i)\n",
    "dc_words = \",\".join(dc_words)\n",
    "nondc_words = \",\".join(nondc_words)\n",
    "\n",
    "print(\"Dictionary Words :-\",dc_words)\n",
    "print(\"Non Dictonary Words :-\",nondc_words)\n"
   ]
  },
  {
   "cell_type": "markdown",
   "id": "f398dc9a",
   "metadata": {},
   "source": [
    "### Q.5 Write a Python program to check if a given string is python Keyword or not. (Can be\n",
    "### implemented with list and keyword library both"
   ]
  },
  {
   "cell_type": "code",
   "execution_count": 12,
   "id": "b766a5da",
   "metadata": {},
   "outputs": [
    {
     "name": "stdout",
     "output_type": "stream",
     "text": [
      "print is not a keyword\n",
      "put is not a keyword\n",
      "is is a keyword\n",
      "else is a keyword\n",
      "if is a keyword\n",
      "in is a keyword\n",
      "elif is a keyword\n",
      "\n",
      "print is not a keyword\n",
      "put is not a keyword\n",
      "is is a keyword\n",
      "else is a keyword\n",
      "if is a keyword\n",
      "in is a keyword\n",
      "elif is a keyword\n",
      "\n",
      "print is not a keyword\n",
      "put is not a keyword\n",
      "is is a keyword\n",
      "else is a keyword\n",
      "if is a keyword\n",
      "in is a keyword\n",
      "elif is a keyword\n"
     ]
    }
   ],
   "source": [
    "import keyword\n",
    "\n",
    "\n",
    "for i in l1:\n",
    "    if(keyword.iskeyword(i)):\n",
    "        print(i,\"is a keyword\")\n",
    "    else:\n",
    "        print(i,\"is not a keyword\")\n",
    "\n",
    "print()\n",
    "# 2 Way\n",
    "for i in range(len(l1)):\n",
    "    if keyword.iskeyword(l1[i]):\n",
    "        print(l1[i],\"is a keyword\")\n",
    "    else:\n",
    "        print(l1[i],\"is not a keyword\")\n",
    "\n",
    "print()\n",
    "# 3 way \n",
    "for i in l1:\n",
    "    if i in keyword.kwlist:\n",
    "        print(i,\"is a keyword\")\n",
    "    else:\n",
    "        print(i,\"is not a keyword\")\n",
    "\n",
    "# OUTPUT:-\n",
    "# 1 way-    \n",
    "\n",
    "# print is not a keyword\n",
    "# put is not a keyword\n",
    "# is is a keyword\n",
    "# else is a keyword\n",
    "# if is a keyword\n",
    "# in is a keyword\n",
    "# elif is a keyword\n",
    "\n",
    "# 2 way-\n",
    "\n",
    "# print is not a keyword\n",
    "# put is not a keyword\n",
    "# is is a keyword\n",
    "# else is a keyword\n",
    "# if is a keyword\n",
    "# in is a keyword\n",
    "# elif is a keyword\n",
    "\n",
    "# 3way-\n",
    "\n",
    "# print is not a keyword\n",
    "# put is not a keyword\n",
    "# is is a keyword\n",
    "# else is a keyword\n",
    "# if is a keyword\n",
    "# in is a keyword\n",
    "# elif is a keyword    \n"
   ]
  },
  {
   "cell_type": "code",
   "execution_count": 5,
   "id": "c88633cd",
   "metadata": {},
   "outputs": [
    {
     "data": {
      "text/plain": [
       "[1, 4, 9, 16, 25, 36, 49, 64, 81, 100]"
      ]
     },
     "execution_count": 5,
     "metadata": {},
     "output_type": "execute_result"
    }
   ],
   "source": [
    "[i**2 for i in range(1,11)]\n",
    "# import numpy as np\n",
    "# np.arange(1,11)**2\n"
   ]
  },
  {
   "cell_type": "markdown",
   "id": "d9a31ceb",
   "metadata": {},
   "source": []
  },
  {
   "cell_type": "markdown",
   "id": "2efb769d",
   "metadata": {},
   "source": [
    "### Q.6 Take input of any number and generate all possible binary strings. Example :\n",
    "### Input no: 2\n",
    "### Output:\n",
    "### Binary Strings : 00 10 10 11"
   ]
  },
  {
   "cell_type": "code",
   "execution_count": 1,
   "id": "63c7f021",
   "metadata": {},
   "outputs": [
    {
     "name": "stdout",
     "output_type": "stream",
     "text": [
      "Enter number :- 2\n",
      "00\n",
      "01\n",
      "10\n",
      "11\n",
      "\n",
      "00\n",
      "01\n",
      "10\n",
      "11\n"
     ]
    }
   ],
   "source": [
    "# 1 Way\n",
    "n = int(input(\"Enter number :- \"))\n",
    "for i in range(2**n,2**(n+1)):\n",
    "    print(bin(i)[3:])\n",
    "\n",
    "print()\n",
    "# 2 way\n",
    "def getbin(n,a = ''):\n",
    "    if(len(a)==n):\n",
    "        print(a)\n",
    "    else:\n",
    "        getbin(n,a + '0')\n",
    "        getbin(n,a + '1')\n",
    "getbin(n)"
   ]
  },
  {
   "cell_type": "code",
   "execution_count": 6,
   "id": "d83cefcc",
   "metadata": {},
   "outputs": [],
   "source": [
    "s = input(\"Enter a String : \")\n",
    "# spilting stirng into a list without spilt()\n",
    "l1 = list(s)\n",
    "print(l1)\n"
   ]
  },
  {
   "cell_type": "code",
   "execution_count": null,
   "id": "e9793f67",
   "metadata": {},
   "outputs": [],
   "source": [
    "print(l1)"
   ]
  },
  {
   "cell_type": "markdown",
   "id": "23bf7ca9",
   "metadata": {},
   "source": []
  },
  {
   "cell_type": "markdown",
   "id": "6eb3e310",
   "metadata": {},
   "source": []
  },
  {
   "cell_type": "code",
   "execution_count": null,
   "id": "c2ae840c",
   "metadata": {},
   "outputs": [],
   "source": []
  }
 ],
 "metadata": {
  "kernelspec": {
   "display_name": "Python 3 (ipykernel)",
   "language": "python",
   "name": "python3"
  },
  "language_info": {
   "codemirror_mode": {
    "name": "ipython",
    "version": 3
   },
   "file_extension": ".py",
   "mimetype": "text/x-python",
   "name": "python",
   "nbconvert_exporter": "python",
   "pygments_lexer": "ipython3",
   "version": "3.9.13"
  },
  "vscode": {
   "interpreter": {
    "hash": "3929fc3237e371b922bed4320230b0a3e157a31faf7bdcaccbb1bfc1fc754f1e"
   }
  }
 },
 "nbformat": 4,
 "nbformat_minor": 5
}
