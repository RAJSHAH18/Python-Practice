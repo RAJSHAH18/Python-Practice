{
 "cells": [
  {
   "cell_type": "code",
   "execution_count": 1,
   "id": "56252a72",
   "metadata": {},
   "outputs": [],
   "source": [
    "# Dictionary is an unordered collection of key and value pairs,where the keys and values of any datatype "
   ]
  },
  {
   "cell_type": "markdown",
   "id": "526aa0a9",
   "metadata": {},
   "source": [
    "# Creating A dictionary"
   ]
  },
  {
   "cell_type": "code",
   "execution_count": 5,
   "id": "2a79d32f",
   "metadata": {},
   "outputs": [],
   "source": [
    "student = {\"John\" : 75,\"Mark\" : 85,\"Sara\" : 90,\"Sanjay\" : 95}"
   ]
  },
  {
   "cell_type": "code",
   "execution_count": 6,
   "id": "2883b3f8",
   "metadata": {},
   "outputs": [
    {
     "name": "stdout",
     "output_type": "stream",
     "text": [
      "<class 'dict'>\n"
     ]
    }
   ],
   "source": [
    "print(type(student))\n"
   ]
  },
  {
   "cell_type": "markdown",
   "id": "e3f14e91",
   "metadata": {},
   "source": [
    "# Accesing Dictionary items\n"
   ]
  },
  {
   "cell_type": "code",
   "execution_count": 7,
   "id": "ccaf2712",
   "metadata": {},
   "outputs": [
    {
     "name": "stdout",
     "output_type": "stream",
     "text": [
      "75\n"
     ]
    }
   ],
   "source": [
    "print(student[\"John\"])"
   ]
  },
  {
   "cell_type": "code",
   "execution_count": 8,
   "id": "13b5cb97",
   "metadata": {},
   "outputs": [
    {
     "name": "stdout",
     "output_type": "stream",
     "text": [
      "John\n",
      "Mark\n",
      "Sara\n",
      "Sanjay\n"
     ]
    }
   ],
   "source": [
    "for i in student:\n",
    "    print(i)"
   ]
  },
  {
   "cell_type": "code",
   "execution_count": 10,
   "id": "9f66a303",
   "metadata": {},
   "outputs": [
    {
     "name": "stdout",
     "output_type": "stream",
     "text": [
      "John got 75 marks in English\n",
      "Mark got 85 marks in English\n",
      "Sara got 90 marks in English\n",
      "Sanjay got 95 marks in English\n"
     ]
    }
   ],
   "source": [
    "for  i in student:\n",
    "    print(f\"{i} got\",student[i],\"marks in English\")"
   ]
  },
  {
   "cell_type": "markdown",
   "id": "c2743446",
   "metadata": {},
   "source": [
    "# To print all the values of dictionary"
   ]
  },
  {
   "cell_type": "code",
   "execution_count": 12,
   "id": "ed85fd67",
   "metadata": {},
   "outputs": [
    {
     "name": "stdout",
     "output_type": "stream",
     "text": [
      "75\n",
      "85\n",
      "90\n",
      "95\n"
     ]
    }
   ],
   "source": [
    "for i in student.values():\n",
    "    print(i)"
   ]
  },
  {
   "cell_type": "markdown",
   "id": "4e0c2bdb",
   "metadata": {},
   "source": [
    "# If we want keys and values both we can do like this way"
   ]
  },
  {
   "cell_type": "code",
   "execution_count": 14,
   "id": "cdb0ea0f",
   "metadata": {},
   "outputs": [
    {
     "name": "stdout",
     "output_type": "stream",
     "text": [
      "John has got 75 marks in Maths.\n",
      "Mark has got 85 marks in Maths.\n",
      "Sara has got 90 marks in Maths.\n",
      "Sanjay has got 95 marks in Maths.\n"
     ]
    }
   ],
   "source": [
    "for keys,values in student.items():\n",
    "    print(f\"{keys} has got {values} marks in Maths.\")"
   ]
  },
  {
   "cell_type": "code",
   "execution_count": 15,
   "id": "50cee2fd",
   "metadata": {},
   "outputs": [],
   "source": [
    "student = {\"Mark\" : [60,65,64,63,93],\"Sarah\" : [82,83,84,85,87]}"
   ]
  },
  {
   "cell_type": "code",
   "execution_count": 16,
   "id": "141d33be",
   "metadata": {},
   "outputs": [
    {
     "name": "stdout",
     "output_type": "stream",
     "text": [
      "{'Mark': [60, 65, 64, 63, 93], 'Sarah': [82, 83, 84, 85, 87]}\n"
     ]
    }
   ],
   "source": [
    "print(student)"
   ]
  },
  {
   "cell_type": "code",
   "execution_count": 17,
   "id": "a90c3960",
   "metadata": {},
   "outputs": [
    {
     "name": "stdout",
     "output_type": "stream",
     "text": [
      "[60, 65, 64, 63, 93]\n"
     ]
    }
   ],
   "source": [
    "print(student[\"Mark\"])"
   ]
  },
  {
   "cell_type": "markdown",
   "id": "2184dd03",
   "metadata": {},
   "source": [
    "# TO iterate marks of particular student"
   ]
  },
  {
   "cell_type": "code",
   "execution_count": 18,
   "id": "9bf02290",
   "metadata": {},
   "outputs": [
    {
     "name": "stdout",
     "output_type": "stream",
     "text": [
      "82 83 84 85 87 "
     ]
    }
   ],
   "source": [
    "for i in student[\"Sarah\"]:\n",
    "    print(i,end=\" \")"
   ]
  },
  {
   "cell_type": "code",
   "execution_count": 19,
   "id": "4e5ac1a5",
   "metadata": {},
   "outputs": [
    {
     "name": "stdout",
     "output_type": "stream",
     "text": [
      "Mark [60, 65, 64, 63, 93]\n",
      "Sarah [82, 83, 84, 85, 87]\n"
     ]
    }
   ],
   "source": [
    "for i in student:\n",
    "    print(i,student[i])"
   ]
  },
  {
   "cell_type": "code",
   "execution_count": 21,
   "id": "ad5bb393",
   "metadata": {},
   "outputs": [
    {
     "name": "stdout",
     "output_type": "stream",
     "text": [
      "Mark 60\n",
      "Mark 65\n",
      "Mark 64\n",
      "Mark 63\n",
      "Mark 93\n",
      "\n",
      "Sarah 82\n",
      "Sarah 83\n",
      "Sarah 84\n",
      "Sarah 85\n",
      "Sarah 87\n",
      "\n"
     ]
    }
   ],
   "source": [
    "for i in student:\n",
    "    for j in student[i]:\n",
    "        print(i,j)\n",
    "    print()"
   ]
  },
  {
   "cell_type": "markdown",
   "id": "3fca9b61",
   "metadata": {},
   "source": [
    "# Adding Items To The dictionary"
   ]
  },
  {
   "cell_type": "code",
   "execution_count": 3,
   "id": "6678e002",
   "metadata": {},
   "outputs": [],
   "source": [
    "a = {\"Raj\" : 20,\"Prasham\" : 22,\"Saba\" : 25}"
   ]
  },
  {
   "cell_type": "code",
   "execution_count": 24,
   "id": "ed67f26c",
   "metadata": {},
   "outputs": [],
   "source": [
    "# Adding items and it can be added anywhere in dictionary as it unordered\n",
    "a[\"Hrithik\"] = 19"
   ]
  },
  {
   "cell_type": "code",
   "execution_count": 25,
   "id": "993155c9",
   "metadata": {},
   "outputs": [
    {
     "name": "stdout",
     "output_type": "stream",
     "text": [
      "{'Raj': 20, 'Prasham': 22, 'Saba': 25, 'Hrithik': 19}\n"
     ]
    }
   ],
   "source": [
    "print(a)"
   ]
  },
  {
   "cell_type": "code",
   "execution_count": 27,
   "id": "d9cf9921",
   "metadata": {},
   "outputs": [
    {
     "name": "stdout",
     "output_type": "stream",
     "text": [
      "Raj is 20 years old\n",
      "Prasham is 22 years old\n",
      "Saba is 25 years old\n",
      "Hrithik is 19 years old\n"
     ]
    }
   ],
   "source": [
    "for key,value in a.items():\n",
    "    print(f\"{key} is {value} years old\")"
   ]
  },
  {
   "cell_type": "code",
   "execution_count": 8,
   "id": "b5f6e510",
   "metadata": {},
   "outputs": [
    {
     "data": {
      "text/plain": [
       "['Raj', 'Prasham', 'Saba', 'Manthan']"
      ]
     },
     "execution_count": 8,
     "metadata": {},
     "output_type": "execute_result"
    }
   ],
   "source": [
    "x = list(a.keys())\n",
    "x"
   ]
  },
  {
   "cell_type": "code",
   "execution_count": 6,
   "id": "20bb70c0",
   "metadata": {},
   "outputs": [],
   "source": [
    "a[\"Manthan\"]=30"
   ]
  },
  {
   "cell_type": "code",
   "execution_count": 9,
   "id": "01e274e7",
   "metadata": {},
   "outputs": [],
   "source": [
    "x.remove(\"Manthan\")"
   ]
  },
  {
   "cell_type": "code",
   "execution_count": 10,
   "id": "418c453b",
   "metadata": {},
   "outputs": [
    {
     "data": {
      "text/plain": [
       "{'Raj': 20, 'Prasham': 22, 'Saba': 25, 'Manthan': 30}"
      ]
     },
     "execution_count": 10,
     "metadata": {},
     "output_type": "execute_result"
    }
   ],
   "source": [
    "a"
   ]
  },
  {
   "cell_type": "code",
   "execution_count": 11,
   "id": "e6ce9a7e",
   "metadata": {},
   "outputs": [
    {
     "data": {
      "text/plain": [
       "['Raj', 'Prasham', 'Saba']"
      ]
     },
     "execution_count": 11,
     "metadata": {},
     "output_type": "execute_result"
    }
   ],
   "source": [
    "x"
   ]
  },
  {
   "cell_type": "code",
   "execution_count": null,
   "id": "9711778f",
   "metadata": {},
   "outputs": [],
   "source": []
  }
 ],
 "metadata": {
  "kernelspec": {
   "display_name": "Python 3 (ipykernel)",
   "language": "python",
   "name": "python3"
  },
  "language_info": {
   "codemirror_mode": {
    "name": "ipython",
    "version": 3
   },
   "file_extension": ".py",
   "mimetype": "text/x-python",
   "name": "python",
   "nbconvert_exporter": "python",
   "pygments_lexer": "ipython3",
   "version": "3.9.13"
  }
 },
 "nbformat": 4,
 "nbformat_minor": 5
}
